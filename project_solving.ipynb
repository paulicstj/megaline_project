{
 "cells": [
  {
   "cell_type": "markdown",
   "metadata": {
    "id": "MQi4IPy70q0y"
   },
   "source": [
    "# Project insights: \n",
    "\n",
    "**Rate Description**\n",
    "Note: Megaline rounds seconds to minutes and megabytes to gigabytes. For calls, each individual call is rounded up: even if the call lasted only one second, it will count as a minute. For web traffic, individual web sessions are not rounded up. Instead, the monthly total is rounded up. If someone uses 1025 megabytes this month, they will be charged 2 gigabytes.\n",
    "\n",
    "Below is a description of the rates:\n",
    "\n",
    "`Surf`\n",
    "\n",
    "Monthly payment: $20.\n",
    "500 minutes per month, 50 SMS, and 15 GB of data.\n",
    "If package limits are exceeded:\n",
    "1 minute: 3 cents.\n",
    "1 SMS: 3 cents.\n",
    "1 GB of data: $10.\n",
    "\n",
    "`Ultimate`\n",
    "\n",
    "Monthly payment: $70.\n",
    "3,000 minutes per month, 1,000 SMS, and 30 GB of data.\n",
    "If the package limits are exceeded:\n",
    "1 minute: 1 cent.\n",
    "1 SMS: 1 cent.\n",
    "1 GB of data: $7.\n",
    "\n",
    "\n",
    "**Data Dictionary:**\n",
    "In this project, you will work with five different tables.\n",
    "\n",
    "`The users table (data about users):`\n",
    "\n",
    "user_id: Unique identifier of the user.\n",
    "first_name: First name of the user.\n",
    "last_name: Last name of the user.\n",
    "age: Age of the user (in years).\n",
    "reg_date: Subscription date (dd, mm, yy).\n",
    "churn_date: Date the user stopped using the service (if the value is missing, the plan was in use when this database was extracted).\n",
    "city: User's city of residence.\n",
    "plan: Plan name.\n",
    "\n",
    "`The calls table (data about calls):`\n",
    "\n",
    "id: Unique identifier of the call.\n",
    "call_date: Date of the call.\n",
    "duration: Call duration (in minutes).\n",
    "user_id: The identifier of the user making the call.\n",
    "\n",
    "`The messages table (SMS data):`\n",
    "\n",
    "id: The unique identifier of the SMS.\n",
    "message_date: The date of the SMS.\n",
    "user_id: The identifier of the user sending the SMS.\n",
    "\n",
    "`The internet table (web session data):`\n",
    "\n",
    "id: The unique identifier of the session.\n",
    "mb_used: The amount of data used during the session (in megabytes).\n",
    "session_date: The date of the web session.\n",
    "user_id: The user identifier.\n",
    "\n",
    "`The plans table (tariff data):`\n",
    "\n",
    "plan_name: Tariff name.\n",
    "usd_monthly_fee: Monthly payment in US dollars.\n",
    "minutes_included: Minutes included per month.\n",
    "messages_included: SMS included per month.\n",
    "mb_per_month_included: Data included per month (in megabytes).\n",
    "usd_per_minute: Price per minute after exceeding the package limits (for example, if the package includes 100 minutes, the operator will charge for the 101st minute).\n",
    "usd_per_message: Price per SMS after exceeding the package limits.\n",
    "usd_per_gb: Price per gigabyte of extra data after exceeding the package limits (1 GB = 1024 megabytes)."
   ]
  },
  {
   "cell_type": "markdown",
   "metadata": {},
   "source": [
    "# Development. "
   ]
  },
  {
   "cell_type": "code",
   "execution_count": 1,
   "metadata": {
    "id": "MtYIuBxu0q0z"
   },
   "outputs": [],
   "source": [
    "import pandas as pd\n",
    "from scipy import stats as st\n",
    "import numpy as np\n",
    "from matplotlib import pyplot as plt\n",
    "import seaborn as sns \n",
    "import statistics as stat"
   ]
  },
  {
   "cell_type": "code",
   "execution_count": 2,
   "metadata": {
    "id": "CCqPW7rS0q01"
   },
   "outputs": [],
   "source": [
    "\n",
    "calls= pd.read_csv('/Users/pauli/Documents/Data/megaline_project/megaline_calls.csv')\n",
    "internet= pd.read_csv('/Users/pauli/Documents/Data/megaline_project/megaline_internet.csv')\n",
    "messages= pd.read_csv('/Users/pauli/Documents/Data/megaline_project/megaline_messages.csv')\n",
    "plans= pd.read_csv('/Users/pauli/Documents/Data/megaline_project/megaline_plans.csv')\n",
    "users= pd.read_csv('/Users/pauli/Documents/Data/megaline_project/megaline_users.csv')"
   ]
  },
  {
   "cell_type": "markdown",
   "metadata": {
    "id": "69qqoJ3r0q01"
   },
   "source": [
    "## Data prep:"
   ]
  },
  {
   "cell_type": "markdown",
   "metadata": {
    "id": "ohBhimvH0q01"
   },
   "source": [
    "## Rates"
   ]
  },
  {
   "cell_type": "code",
   "execution_count": 3,
   "metadata": {
    "id": "GptqP3Q40q02"
   },
   "outputs": [
    {
     "name": "stdout",
     "output_type": "stream",
     "text": [
      "<class 'pandas.core.frame.DataFrame'>\n",
      "RangeIndex: 2 entries, 0 to 1\n",
      "Data columns (total 8 columns):\n",
      " #   Column                 Non-Null Count  Dtype  \n",
      "---  ------                 --------------  -----  \n",
      " 0   messages_included      2 non-null      int64  \n",
      " 1   mb_per_month_included  2 non-null      int64  \n",
      " 2   minutes_included       2 non-null      int64  \n",
      " 3   usd_monthly_pay        2 non-null      int64  \n",
      " 4   usd_per_gb             2 non-null      int64  \n",
      " 5   usd_per_message        2 non-null      float64\n",
      " 6   usd_per_minute         2 non-null      float64\n",
      " 7   plan_name              2 non-null      object \n",
      "dtypes: float64(2), int64(5), object(1)\n",
      "memory usage: 260.0+ bytes\n"
     ]
    }
   ],
   "source": [
    "#Print general/summary information about the DataFrame of the rates:\n",
    "plans.info()\n"
   ]
  },
  {
   "cell_type": "code",
   "execution_count": 4,
   "metadata": {
    "id": "64xzjwL70q02"
   },
   "outputs": [
    {
     "data": {
      "text/html": [
       "<div>\n",
       "<style scoped>\n",
       "    .dataframe tbody tr th:only-of-type {\n",
       "        vertical-align: middle;\n",
       "    }\n",
       "\n",
       "    .dataframe tbody tr th {\n",
       "        vertical-align: top;\n",
       "    }\n",
       "\n",
       "    .dataframe thead th {\n",
       "        text-align: right;\n",
       "    }\n",
       "</style>\n",
       "<table border=\"1\" class=\"dataframe\">\n",
       "  <thead>\n",
       "    <tr style=\"text-align: right;\">\n",
       "      <th></th>\n",
       "      <th>messages_included</th>\n",
       "      <th>mb_per_month_included</th>\n",
       "      <th>minutes_included</th>\n",
       "      <th>usd_monthly_pay</th>\n",
       "      <th>usd_per_gb</th>\n",
       "      <th>usd_per_message</th>\n",
       "      <th>usd_per_minute</th>\n",
       "      <th>plan_name</th>\n",
       "    </tr>\n",
       "  </thead>\n",
       "  <tbody>\n",
       "    <tr>\n",
       "      <th>0</th>\n",
       "      <td>50</td>\n",
       "      <td>15360</td>\n",
       "      <td>500</td>\n",
       "      <td>20</td>\n",
       "      <td>10</td>\n",
       "      <td>0.03</td>\n",
       "      <td>0.03</td>\n",
       "      <td>surf</td>\n",
       "    </tr>\n",
       "    <tr>\n",
       "      <th>1</th>\n",
       "      <td>1000</td>\n",
       "      <td>30720</td>\n",
       "      <td>3000</td>\n",
       "      <td>70</td>\n",
       "      <td>7</td>\n",
       "      <td>0.01</td>\n",
       "      <td>0.01</td>\n",
       "      <td>ultimate</td>\n",
       "    </tr>\n",
       "  </tbody>\n",
       "</table>\n",
       "</div>"
      ],
      "text/plain": [
       "   messages_included  mb_per_month_included  minutes_included  \\\n",
       "0                 50                  15360               500   \n",
       "1               1000                  30720              3000   \n",
       "\n",
       "   usd_monthly_pay  usd_per_gb  usd_per_message  usd_per_minute plan_name  \n",
       "0               20          10             0.03            0.03      surf  \n",
       "1               70           7             0.01            0.01  ultimate  "
      ]
     },
     "execution_count": 4,
     "metadata": {},
     "output_type": "execute_result"
    }
   ],
   "source": [
    "# Sample\n",
    "\n",
    "plans.head()"
   ]
  },
  {
   "cell_type": "markdown",
   "metadata": {
    "id": "mEc_3_hs0q02"
   },
   "source": [
    "The table contains two rows with information on plans and rates. There are no missing or duplicate values. The data types are float, integer, and string respectively. No errors were observed that need to be corrected. "
   ]
  },
  {
   "cell_type": "markdown",
   "metadata": {
    "id": "1n2X6WXf0q04"
   },
   "source": [
    "## Users"
   ]
  },
  {
   "cell_type": "code",
   "execution_count": 5,
   "metadata": {
    "id": "2NgjWFqx0q05"
   },
   "outputs": [
    {
     "name": "stdout",
     "output_type": "stream",
     "text": [
      "<class 'pandas.core.frame.DataFrame'>\n",
      "RangeIndex: 500 entries, 0 to 499\n",
      "Data columns (total 8 columns):\n",
      " #   Column      Non-Null Count  Dtype \n",
      "---  ------      --------------  ----- \n",
      " 0   user_id     500 non-null    int64 \n",
      " 1   first_name  500 non-null    object\n",
      " 2   last_name   500 non-null    object\n",
      " 3   age         500 non-null    int64 \n",
      " 4   city        500 non-null    object\n",
      " 5   reg_date    500 non-null    object\n",
      " 6   plan        500 non-null    object\n",
      " 7   churn_date  34 non-null     object\n",
      "dtypes: int64(2), object(6)\n",
      "memory usage: 31.4+ KB\n"
     ]
    },
    {
     "data": {
      "text/html": [
       "<div>\n",
       "<style scoped>\n",
       "    .dataframe tbody tr th:only-of-type {\n",
       "        vertical-align: middle;\n",
       "    }\n",
       "\n",
       "    .dataframe tbody tr th {\n",
       "        vertical-align: top;\n",
       "    }\n",
       "\n",
       "    .dataframe thead th {\n",
       "        text-align: right;\n",
       "    }\n",
       "</style>\n",
       "<table border=\"1\" class=\"dataframe\">\n",
       "  <thead>\n",
       "    <tr style=\"text-align: right;\">\n",
       "      <th></th>\n",
       "      <th>user_id</th>\n",
       "      <th>age</th>\n",
       "    </tr>\n",
       "  </thead>\n",
       "  <tbody>\n",
       "    <tr>\n",
       "      <th>count</th>\n",
       "      <td>500.000000</td>\n",
       "      <td>500.000000</td>\n",
       "    </tr>\n",
       "    <tr>\n",
       "      <th>mean</th>\n",
       "      <td>1249.500000</td>\n",
       "      <td>45.486000</td>\n",
       "    </tr>\n",
       "    <tr>\n",
       "      <th>std</th>\n",
       "      <td>144.481833</td>\n",
       "      <td>16.972269</td>\n",
       "    </tr>\n",
       "    <tr>\n",
       "      <th>min</th>\n",
       "      <td>1000.000000</td>\n",
       "      <td>18.000000</td>\n",
       "    </tr>\n",
       "    <tr>\n",
       "      <th>25%</th>\n",
       "      <td>1124.750000</td>\n",
       "      <td>30.000000</td>\n",
       "    </tr>\n",
       "    <tr>\n",
       "      <th>50%</th>\n",
       "      <td>1249.500000</td>\n",
       "      <td>46.000000</td>\n",
       "    </tr>\n",
       "    <tr>\n",
       "      <th>75%</th>\n",
       "      <td>1374.250000</td>\n",
       "      <td>61.000000</td>\n",
       "    </tr>\n",
       "    <tr>\n",
       "      <th>max</th>\n",
       "      <td>1499.000000</td>\n",
       "      <td>75.000000</td>\n",
       "    </tr>\n",
       "  </tbody>\n",
       "</table>\n",
       "</div>"
      ],
      "text/plain": [
       "           user_id         age\n",
       "count   500.000000  500.000000\n",
       "mean   1249.500000   45.486000\n",
       "std     144.481833   16.972269\n",
       "min    1000.000000   18.000000\n",
       "25%    1124.750000   30.000000\n",
       "50%    1249.500000   46.000000\n",
       "75%    1374.250000   61.000000\n",
       "max    1499.000000   75.000000"
      ]
     },
     "execution_count": 5,
     "metadata": {},
     "output_type": "execute_result"
    }
   ],
   "source": [
    "#Print general/summary information about the users DataFrame:\n",
    "\n",
    "users.info()\n",
    "\n",
    "users.duplicated().sum()\n",
    "\n",
    "users.describe()\n"
   ]
  },
  {
   "cell_type": "code",
   "execution_count": 6,
   "metadata": {
    "id": "1IN1L9uh0q05"
   },
   "outputs": [
    {
     "data": {
      "text/html": [
       "<div>\n",
       "<style scoped>\n",
       "    .dataframe tbody tr th:only-of-type {\n",
       "        vertical-align: middle;\n",
       "    }\n",
       "\n",
       "    .dataframe tbody tr th {\n",
       "        vertical-align: top;\n",
       "    }\n",
       "\n",
       "    .dataframe thead th {\n",
       "        text-align: right;\n",
       "    }\n",
       "</style>\n",
       "<table border=\"1\" class=\"dataframe\">\n",
       "  <thead>\n",
       "    <tr style=\"text-align: right;\">\n",
       "      <th></th>\n",
       "      <th>user_id</th>\n",
       "      <th>first_name</th>\n",
       "      <th>last_name</th>\n",
       "      <th>age</th>\n",
       "      <th>city</th>\n",
       "      <th>reg_date</th>\n",
       "      <th>plan</th>\n",
       "      <th>churn_date</th>\n",
       "    </tr>\n",
       "  </thead>\n",
       "  <tbody>\n",
       "    <tr>\n",
       "      <th>0</th>\n",
       "      <td>1000</td>\n",
       "      <td>Anamaria</td>\n",
       "      <td>Bauer</td>\n",
       "      <td>45</td>\n",
       "      <td>Atlanta-Sandy Springs-Roswell, GA MSA</td>\n",
       "      <td>2018-12-24</td>\n",
       "      <td>ultimate</td>\n",
       "      <td>NaN</td>\n",
       "    </tr>\n",
       "    <tr>\n",
       "      <th>1</th>\n",
       "      <td>1001</td>\n",
       "      <td>Mickey</td>\n",
       "      <td>Wilkerson</td>\n",
       "      <td>28</td>\n",
       "      <td>Seattle-Tacoma-Bellevue, WA MSA</td>\n",
       "      <td>2018-08-13</td>\n",
       "      <td>surf</td>\n",
       "      <td>NaN</td>\n",
       "    </tr>\n",
       "    <tr>\n",
       "      <th>2</th>\n",
       "      <td>1002</td>\n",
       "      <td>Carlee</td>\n",
       "      <td>Hoffman</td>\n",
       "      <td>36</td>\n",
       "      <td>Las Vegas-Henderson-Paradise, NV MSA</td>\n",
       "      <td>2018-10-21</td>\n",
       "      <td>surf</td>\n",
       "      <td>NaN</td>\n",
       "    </tr>\n",
       "    <tr>\n",
       "      <th>3</th>\n",
       "      <td>1003</td>\n",
       "      <td>Reynaldo</td>\n",
       "      <td>Jenkins</td>\n",
       "      <td>52</td>\n",
       "      <td>Tulsa, OK MSA</td>\n",
       "      <td>2018-01-28</td>\n",
       "      <td>surf</td>\n",
       "      <td>NaN</td>\n",
       "    </tr>\n",
       "    <tr>\n",
       "      <th>4</th>\n",
       "      <td>1004</td>\n",
       "      <td>Leonila</td>\n",
       "      <td>Thompson</td>\n",
       "      <td>40</td>\n",
       "      <td>Seattle-Tacoma-Bellevue, WA MSA</td>\n",
       "      <td>2018-05-23</td>\n",
       "      <td>surf</td>\n",
       "      <td>NaN</td>\n",
       "    </tr>\n",
       "    <tr>\n",
       "      <th>5</th>\n",
       "      <td>1005</td>\n",
       "      <td>Livia</td>\n",
       "      <td>Shields</td>\n",
       "      <td>31</td>\n",
       "      <td>Dallas-Fort Worth-Arlington, TX MSA</td>\n",
       "      <td>2018-11-29</td>\n",
       "      <td>surf</td>\n",
       "      <td>NaN</td>\n",
       "    </tr>\n",
       "    <tr>\n",
       "      <th>6</th>\n",
       "      <td>1006</td>\n",
       "      <td>Jesusa</td>\n",
       "      <td>Bradford</td>\n",
       "      <td>73</td>\n",
       "      <td>San Francisco-Oakland-Berkeley, CA MSA</td>\n",
       "      <td>2018-11-27</td>\n",
       "      <td>ultimate</td>\n",
       "      <td>2018-12-18</td>\n",
       "    </tr>\n",
       "    <tr>\n",
       "      <th>7</th>\n",
       "      <td>1007</td>\n",
       "      <td>Eusebio</td>\n",
       "      <td>Welch</td>\n",
       "      <td>42</td>\n",
       "      <td>Grand Rapids-Kentwood, MI MSA</td>\n",
       "      <td>2018-07-11</td>\n",
       "      <td>surf</td>\n",
       "      <td>NaN</td>\n",
       "    </tr>\n",
       "    <tr>\n",
       "      <th>8</th>\n",
       "      <td>1008</td>\n",
       "      <td>Emely</td>\n",
       "      <td>Hoffman</td>\n",
       "      <td>53</td>\n",
       "      <td>Orlando-Kissimmee-Sanford, FL MSA</td>\n",
       "      <td>2018-08-03</td>\n",
       "      <td>ultimate</td>\n",
       "      <td>NaN</td>\n",
       "    </tr>\n",
       "    <tr>\n",
       "      <th>9</th>\n",
       "      <td>1009</td>\n",
       "      <td>Gerry</td>\n",
       "      <td>Little</td>\n",
       "      <td>19</td>\n",
       "      <td>San Jose-Sunnyvale-Santa Clara, CA MSA</td>\n",
       "      <td>2018-04-22</td>\n",
       "      <td>surf</td>\n",
       "      <td>NaN</td>\n",
       "    </tr>\n",
       "  </tbody>\n",
       "</table>\n",
       "</div>"
      ],
      "text/plain": [
       "   user_id first_name  last_name  age                                    city  \\\n",
       "0     1000   Anamaria      Bauer   45   Atlanta-Sandy Springs-Roswell, GA MSA   \n",
       "1     1001     Mickey  Wilkerson   28         Seattle-Tacoma-Bellevue, WA MSA   \n",
       "2     1002     Carlee    Hoffman   36    Las Vegas-Henderson-Paradise, NV MSA   \n",
       "3     1003   Reynaldo    Jenkins   52                           Tulsa, OK MSA   \n",
       "4     1004    Leonila   Thompson   40         Seattle-Tacoma-Bellevue, WA MSA   \n",
       "5     1005      Livia    Shields   31     Dallas-Fort Worth-Arlington, TX MSA   \n",
       "6     1006     Jesusa   Bradford   73  San Francisco-Oakland-Berkeley, CA MSA   \n",
       "7     1007    Eusebio      Welch   42           Grand Rapids-Kentwood, MI MSA   \n",
       "8     1008      Emely    Hoffman   53       Orlando-Kissimmee-Sanford, FL MSA   \n",
       "9     1009      Gerry     Little   19  San Jose-Sunnyvale-Santa Clara, CA MSA   \n",
       "\n",
       "     reg_date      plan  churn_date  \n",
       "0  2018-12-24  ultimate         NaN  \n",
       "1  2018-08-13      surf         NaN  \n",
       "2  2018-10-21      surf         NaN  \n",
       "3  2018-01-28      surf         NaN  \n",
       "4  2018-05-23      surf         NaN  \n",
       "5  2018-11-29      surf         NaN  \n",
       "6  2018-11-27  ultimate  2018-12-18  \n",
       "7  2018-07-11      surf         NaN  \n",
       "8  2018-08-03  ultimate         NaN  \n",
       "9  2018-04-22      surf         NaN  "
      ]
     },
     "execution_count": 6,
     "metadata": {},
     "output_type": "execute_result"
    }
   ],
   "source": [
    "# Sample\n",
    "\n",
    "users.head(10)"
   ]
  },
  {
   "cell_type": "markdown",
   "metadata": {
    "id": "dCZoUq4f0q06"
   },
   "source": [
    "The data types are correct, except for reg_date, which should be converted to a date/time format. There are also missing values in the churn_date column, as many users' plans have not yet ended. The missing data will be replaced with 'Active plan'."
   ]
  },
  {
   "cell_type": "markdown",
   "metadata": {
    "id": "BX5FQh_I0q06"
   },
   "source": [
    "### Correct the Data"
   ]
  },
  {
   "cell_type": "code",
   "execution_count": 7,
   "metadata": {
    "id": "yUqX-K0C0q07"
   },
   "outputs": [
    {
     "name": "stdout",
     "output_type": "stream",
     "text": [
      "   user_id first_name  last_name  age                                    city  \\\n",
      "0     1000   Anamaria      Bauer   45   Atlanta-Sandy Springs-Roswell, GA MSA   \n",
      "1     1001     Mickey  Wilkerson   28         Seattle-Tacoma-Bellevue, WA MSA   \n",
      "2     1002     Carlee    Hoffman   36    Las Vegas-Henderson-Paradise, NV MSA   \n",
      "3     1003   Reynaldo    Jenkins   52                           Tulsa, OK MSA   \n",
      "4     1004    Leonila   Thompson   40         Seattle-Tacoma-Bellevue, WA MSA   \n",
      "5     1005      Livia    Shields   31     Dallas-Fort Worth-Arlington, TX MSA   \n",
      "6     1006     Jesusa   Bradford   73  San Francisco-Oakland-Berkeley, CA MSA   \n",
      "7     1007    Eusebio      Welch   42           Grand Rapids-Kentwood, MI MSA   \n",
      "8     1008      Emely    Hoffman   53       Orlando-Kissimmee-Sanford, FL MSA   \n",
      "9     1009      Gerry     Little   19  San Jose-Sunnyvale-Santa Clara, CA MSA   \n",
      "\n",
      "     reg_date      plan   churn_date  \n",
      "0  2018-12-24  ultimate  Active plan  \n",
      "1  2018-08-13      surf  Active plan  \n",
      "2  2018-10-21      surf  Active plan  \n",
      "3  2018-01-28      surf  Active plan  \n",
      "4  2018-05-23      surf  Active plan  \n",
      "5  2018-11-29      surf  Active plan  \n",
      "6  2018-11-27  ultimate   2018-12-18  \n",
      "7  2018-07-11      surf  Active plan  \n",
      "8  2018-08-03  ultimate  Active plan  \n",
      "9  2018-04-22      surf  Active plan  \n"
     ]
    },
    {
     "name": "stderr",
     "output_type": "stream",
     "text": [
      "/var/folders/cq/bs731p7n52x64481gqr1xjvm0000gn/T/ipykernel_56577/667390051.py:1: FutureWarning: A value is trying to be set on a copy of a DataFrame or Series through chained assignment using an inplace method.\n",
      "The behavior will change in pandas 3.0. This inplace method will never work because the intermediate object on which we are setting values always behaves as a copy.\n",
      "\n",
      "For example, when doing 'df[col].method(value, inplace=True)', try using 'df.method({col: value}, inplace=True)' or df[col] = df[col].method(value) instead, to perform the operation inplace on the original object.\n",
      "\n",
      "\n",
      "  users['churn_date'].fillna('Active plan', inplace= True)\n"
     ]
    }
   ],
   "source": [
    "users['churn_date'].fillna('Active plan', inplace= True)\n",
    "\n",
    "print (users.head(10))"
   ]
  },
  {
   "cell_type": "markdown",
   "metadata": {
    "id": "ycwuARJp0q07"
   },
   "source": [
    "### Enrich data"
   ]
  },
  {
   "cell_type": "code",
   "execution_count": 8,
   "metadata": {
    "id": "iq0AaBS90q08"
   },
   "outputs": [
    {
     "name": "stdout",
     "output_type": "stream",
     "text": [
      "<class 'pandas.core.frame.DataFrame'>\n",
      "RangeIndex: 500 entries, 0 to 499\n",
      "Data columns (total 8 columns):\n",
      " #   Column      Non-Null Count  Dtype         \n",
      "---  ------      --------------  -----         \n",
      " 0   user_id     500 non-null    int64         \n",
      " 1   first_name  500 non-null    object        \n",
      " 2   last_name   500 non-null    object        \n",
      " 3   age         500 non-null    int64         \n",
      " 4   city        500 non-null    object        \n",
      " 5   reg_date    500 non-null    datetime64[ns]\n",
      " 6   plan        500 non-null    object        \n",
      " 7   churn_date  500 non-null    object        \n",
      "dtypes: datetime64[ns](1), int64(2), object(5)\n",
      "memory usage: 31.4+ KB\n"
     ]
    }
   ],
   "source": [
    "users['reg_date']= pd.to_datetime (users['reg_date'], format= '%Y-%m-%d')\n",
    "\n",
    "users.info()\n",
    "\n",
    "#users['churn_date']= pd.to_datetime (users['churn_date'], format= '%Y-%m-%d')"
   ]
  },
  {
   "cell_type": "markdown",
   "metadata": {
    "id": "o7MeKCid0q08"
   },
   "source": [
    "## Calls "
   ]
  },
  {
   "cell_type": "code",
   "execution_count": 9,
   "metadata": {
    "id": "6dDlnoDm0q08"
   },
   "outputs": [
    {
     "name": "stdout",
     "output_type": "stream",
     "text": [
      "<class 'pandas.core.frame.DataFrame'>\n",
      "RangeIndex: 137735 entries, 0 to 137734\n",
      "Data columns (total 4 columns):\n",
      " #   Column     Non-Null Count   Dtype  \n",
      "---  ------     --------------   -----  \n",
      " 0   id         137735 non-null  object \n",
      " 1   user_id    137735 non-null  int64  \n",
      " 2   call_date  137735 non-null  object \n",
      " 3   duration   137735 non-null  float64\n",
      "dtypes: float64(1), int64(1), object(2)\n",
      "memory usage: 4.2+ MB\n"
     ]
    },
    {
     "data": {
      "text/html": [
       "<div>\n",
       "<style scoped>\n",
       "    .dataframe tbody tr th:only-of-type {\n",
       "        vertical-align: middle;\n",
       "    }\n",
       "\n",
       "    .dataframe tbody tr th {\n",
       "        vertical-align: top;\n",
       "    }\n",
       "\n",
       "    .dataframe thead th {\n",
       "        text-align: right;\n",
       "    }\n",
       "</style>\n",
       "<table border=\"1\" class=\"dataframe\">\n",
       "  <thead>\n",
       "    <tr style=\"text-align: right;\">\n",
       "      <th></th>\n",
       "      <th>user_id</th>\n",
       "      <th>duration</th>\n",
       "    </tr>\n",
       "  </thead>\n",
       "  <tbody>\n",
       "    <tr>\n",
       "      <th>count</th>\n",
       "      <td>137735.000000</td>\n",
       "      <td>137735.000000</td>\n",
       "    </tr>\n",
       "    <tr>\n",
       "      <th>mean</th>\n",
       "      <td>1247.658046</td>\n",
       "      <td>6.745927</td>\n",
       "    </tr>\n",
       "    <tr>\n",
       "      <th>std</th>\n",
       "      <td>139.416268</td>\n",
       "      <td>5.839241</td>\n",
       "    </tr>\n",
       "    <tr>\n",
       "      <th>min</th>\n",
       "      <td>1000.000000</td>\n",
       "      <td>0.000000</td>\n",
       "    </tr>\n",
       "    <tr>\n",
       "      <th>25%</th>\n",
       "      <td>1128.000000</td>\n",
       "      <td>1.290000</td>\n",
       "    </tr>\n",
       "    <tr>\n",
       "      <th>50%</th>\n",
       "      <td>1247.000000</td>\n",
       "      <td>5.980000</td>\n",
       "    </tr>\n",
       "    <tr>\n",
       "      <th>75%</th>\n",
       "      <td>1365.000000</td>\n",
       "      <td>10.690000</td>\n",
       "    </tr>\n",
       "    <tr>\n",
       "      <th>max</th>\n",
       "      <td>1499.000000</td>\n",
       "      <td>37.600000</td>\n",
       "    </tr>\n",
       "  </tbody>\n",
       "</table>\n",
       "</div>"
      ],
      "text/plain": [
       "             user_id       duration\n",
       "count  137735.000000  137735.000000\n",
       "mean     1247.658046       6.745927\n",
       "std       139.416268       5.839241\n",
       "min      1000.000000       0.000000\n",
       "25%      1128.000000       1.290000\n",
       "50%      1247.000000       5.980000\n",
       "75%      1365.000000      10.690000\n",
       "max      1499.000000      37.600000"
      ]
     },
     "execution_count": 9,
     "metadata": {},
     "output_type": "execute_result"
    }
   ],
   "source": [
    "# Print general/summary information about the calls DataFrame:\n",
    "\n",
    "calls.info()\n",
    "\n",
    "calls.describe()"
   ]
  },
  {
   "cell_type": "code",
   "execution_count": 10,
   "metadata": {
    "id": "kuh1vlNB0q09"
   },
   "outputs": [
    {
     "data": {
      "text/plain": [
       "0"
      ]
     },
     "execution_count": 10,
     "metadata": {},
     "output_type": "execute_result"
    }
   ],
   "source": [
    "# Sample\n",
    "\n",
    "(calls.head(10))\n",
    "()\n",
    "(calls['id'].duplicated().sum())"
   ]
  },
  {
   "cell_type": "code",
   "execution_count": 11,
   "metadata": {},
   "outputs": [
    {
     "data": {
      "text/plain": [
       "0"
      ]
     },
     "execution_count": 11,
     "metadata": {},
     "output_type": "execute_result"
    }
   ],
   "source": [
    "#Check calls of duracion '0':\n",
    "\n",
    "(calls['duration']== 0).sum()\n",
    "calls = calls[calls['duration'] != 0]\n",
    "\n",
    "\n",
    "(calls['duration']== 0).sum()"
   ]
  },
  {
   "cell_type": "markdown",
   "metadata": {
    "id": "DOAxYJSx0q09"
   },
   "source": [
    "The data types seem correct, except for the call date, which will be converted to datetime. There will be many duplicates in user_id because individual calls from each user are shown. The important thing is that there are no duplicates in id, as it is the unique identifier for each call, and after verification, there are no duplicates. \n",
    "\n",
    "The call durations should be rounded up to the nearest whole number, as the statement mentions that even one second counts as one minute for billing. There are no missing values in this DataFrame. The describe method is also useful for confirming this, as it shows the count of all columns is the same.\n",
    "\n",
    "**There are 26,834 calls with a duration of 0. This could be due to the service not being used at that time, or the call was cut off prematurely. These values will be removed to clean the DataFrame, as they do not affect the call information in this case.**\n",
    "\n"
   ]
  },
  {
   "cell_type": "markdown",
   "metadata": {
    "id": "S7hzxmbX0q0-"
   },
   "source": [
    "### Correct the data"
   ]
  },
  {
   "cell_type": "code",
   "execution_count": 12,
   "metadata": {
    "id": "S2r8xA4f0q0-"
   },
   "outputs": [
    {
     "name": "stdout",
     "output_type": "stream",
     "text": [
      "<class 'pandas.core.frame.DataFrame'>\n",
      "Index: 110901 entries, 0 to 137734\n",
      "Data columns (total 4 columns):\n",
      " #   Column     Non-Null Count   Dtype         \n",
      "---  ------     --------------   -----         \n",
      " 0   id         110901 non-null  object        \n",
      " 1   user_id    110901 non-null  int64         \n",
      " 2   call_date  110901 non-null  datetime64[ns]\n",
      " 3   duration   110901 non-null  float64       \n",
      "dtypes: datetime64[ns](1), float64(1), int64(1), object(1)\n",
      "memory usage: 4.2+ MB\n"
     ]
    }
   ],
   "source": [
    "calls['call_date']= pd.to_datetime (calls['call_date'], format= '%Y-%m-%d')\n",
    "\n",
    "calls.info()"
   ]
  },
  {
   "cell_type": "markdown",
   "metadata": {
    "id": "KrMgTrlG0q0_"
   },
   "source": [
    "### Enrich data"
   ]
  },
  {
   "cell_type": "code",
   "execution_count": 13,
   "metadata": {
    "id": "iZ1avpA_0q0_"
   },
   "outputs": [],
   "source": [
    "calls['duration']= calls['duration'].apply(np.ceil)"
   ]
  },
  {
   "cell_type": "code",
   "execution_count": 14,
   "metadata": {
    "scrolled": true
   },
   "outputs": [
    {
     "data": {
      "text/html": [
       "<div>\n",
       "<style scoped>\n",
       "    .dataframe tbody tr th:only-of-type {\n",
       "        vertical-align: middle;\n",
       "    }\n",
       "\n",
       "    .dataframe tbody tr th {\n",
       "        vertical-align: top;\n",
       "    }\n",
       "\n",
       "    .dataframe thead th {\n",
       "        text-align: right;\n",
       "    }\n",
       "</style>\n",
       "<table border=\"1\" class=\"dataframe\">\n",
       "  <thead>\n",
       "    <tr style=\"text-align: right;\">\n",
       "      <th></th>\n",
       "      <th>id</th>\n",
       "      <th>user_id</th>\n",
       "      <th>call_date</th>\n",
       "      <th>duration</th>\n",
       "    </tr>\n",
       "  </thead>\n",
       "  <tbody>\n",
       "    <tr>\n",
       "      <th>0</th>\n",
       "      <td>1000_93</td>\n",
       "      <td>1000</td>\n",
       "      <td>2018-12-27</td>\n",
       "      <td>9.0</td>\n",
       "    </tr>\n",
       "    <tr>\n",
       "      <th>1</th>\n",
       "      <td>1000_145</td>\n",
       "      <td>1000</td>\n",
       "      <td>2018-12-27</td>\n",
       "      <td>14.0</td>\n",
       "    </tr>\n",
       "    <tr>\n",
       "      <th>2</th>\n",
       "      <td>1000_247</td>\n",
       "      <td>1000</td>\n",
       "      <td>2018-12-27</td>\n",
       "      <td>15.0</td>\n",
       "    </tr>\n",
       "    <tr>\n",
       "      <th>3</th>\n",
       "      <td>1000_309</td>\n",
       "      <td>1000</td>\n",
       "      <td>2018-12-28</td>\n",
       "      <td>6.0</td>\n",
       "    </tr>\n",
       "    <tr>\n",
       "      <th>4</th>\n",
       "      <td>1000_380</td>\n",
       "      <td>1000</td>\n",
       "      <td>2018-12-30</td>\n",
       "      <td>5.0</td>\n",
       "    </tr>\n",
       "    <tr>\n",
       "      <th>...</th>\n",
       "      <td>...</td>\n",
       "      <td>...</td>\n",
       "      <td>...</td>\n",
       "      <td>...</td>\n",
       "    </tr>\n",
       "    <tr>\n",
       "      <th>137730</th>\n",
       "      <td>1499_199</td>\n",
       "      <td>1499</td>\n",
       "      <td>2018-11-21</td>\n",
       "      <td>9.0</td>\n",
       "    </tr>\n",
       "    <tr>\n",
       "      <th>137731</th>\n",
       "      <td>1499_200</td>\n",
       "      <td>1499</td>\n",
       "      <td>2018-10-20</td>\n",
       "      <td>11.0</td>\n",
       "    </tr>\n",
       "    <tr>\n",
       "      <th>137732</th>\n",
       "      <td>1499_201</td>\n",
       "      <td>1499</td>\n",
       "      <td>2018-09-21</td>\n",
       "      <td>9.0</td>\n",
       "    </tr>\n",
       "    <tr>\n",
       "      <th>137733</th>\n",
       "      <td>1499_202</td>\n",
       "      <td>1499</td>\n",
       "      <td>2018-10-10</td>\n",
       "      <td>1.0</td>\n",
       "    </tr>\n",
       "    <tr>\n",
       "      <th>137734</th>\n",
       "      <td>1499_203</td>\n",
       "      <td>1499</td>\n",
       "      <td>2018-12-29</td>\n",
       "      <td>14.0</td>\n",
       "    </tr>\n",
       "  </tbody>\n",
       "</table>\n",
       "<p>110901 rows × 4 columns</p>\n",
       "</div>"
      ],
      "text/plain": [
       "              id  user_id  call_date  duration\n",
       "0        1000_93     1000 2018-12-27       9.0\n",
       "1       1000_145     1000 2018-12-27      14.0\n",
       "2       1000_247     1000 2018-12-27      15.0\n",
       "3       1000_309     1000 2018-12-28       6.0\n",
       "4       1000_380     1000 2018-12-30       5.0\n",
       "...          ...      ...        ...       ...\n",
       "137730  1499_199     1499 2018-11-21       9.0\n",
       "137731  1499_200     1499 2018-10-20      11.0\n",
       "137732  1499_201     1499 2018-09-21       9.0\n",
       "137733  1499_202     1499 2018-10-10       1.0\n",
       "137734  1499_203     1499 2018-12-29      14.0\n",
       "\n",
       "[110901 rows x 4 columns]"
      ]
     },
     "execution_count": 14,
     "metadata": {},
     "output_type": "execute_result"
    }
   ],
   "source": [
    "calls"
   ]
  },
  {
   "cell_type": "code",
   "execution_count": 15,
   "metadata": {},
   "outputs": [],
   "source": [
    "calls['months']= calls['call_date'].dt.month"
   ]
  },
  {
   "cell_type": "markdown",
   "metadata": {
    "id": "mOUZSi180q0_"
   },
   "source": [
    "## Messages "
   ]
  },
  {
   "cell_type": "code",
   "execution_count": 16,
   "metadata": {
    "id": "R-bYJpdV0q1A"
   },
   "outputs": [
    {
     "name": "stdout",
     "output_type": "stream",
     "text": [
      "<class 'pandas.core.frame.DataFrame'>\n",
      "RangeIndex: 76051 entries, 0 to 76050\n",
      "Data columns (total 3 columns):\n",
      " #   Column        Non-Null Count  Dtype \n",
      "---  ------        --------------  ----- \n",
      " 0   id            76051 non-null  object\n",
      " 1   user_id       76051 non-null  int64 \n",
      " 2   message_date  76051 non-null  object\n",
      "dtypes: int64(1), object(2)\n",
      "memory usage: 1.7+ MB\n"
     ]
    }
   ],
   "source": [
    "# Print general/summary information about the messages DataFrame:\n",
    "\n",
    "messages.info()"
   ]
  },
  {
   "cell_type": "code",
   "execution_count": 17,
   "metadata": {
    "id": "mCEl2iGE0q1A"
   },
   "outputs": [
    {
     "name": "stdout",
     "output_type": "stream",
     "text": [
      "         id  user_id message_date\n",
      "0  1000_125     1000   2018-12-27\n",
      "1  1000_160     1000   2018-12-31\n",
      "2  1000_223     1000   2018-12-31\n",
      "3  1000_251     1000   2018-12-27\n",
      "4  1000_255     1000   2018-12-26\n",
      "5  1000_346     1000   2018-12-29\n",
      "6  1000_386     1000   2018-12-30\n",
      "7  1000_413     1000   2018-12-31\n",
      "8  1000_502     1000   2018-12-27\n",
      "9  1000_525     1000   2018-12-28\n",
      "\n",
      "0\n"
     ]
    }
   ],
   "source": [
    "# Sample\n",
    "\n",
    "print (messages.head(10))\n",
    "print ()\n",
    "print (messages['id'].duplicated().sum())"
   ]
  },
  {
   "cell_type": "markdown",
   "metadata": {
    "id": "04xDj7KH0q1A"
   },
   "source": [
    "In this case, it is the same as with the calls DataFrame: there are no duplicate IDs, and the data types are correct, except for the date."
   ]
  },
  {
   "cell_type": "markdown",
   "metadata": {
    "id": "Sprfak900q1B"
   },
   "source": [
    "### Correct data"
   ]
  },
  {
   "cell_type": "code",
   "execution_count": 18,
   "metadata": {
    "id": "vsllvkoa0q1B"
   },
   "outputs": [
    {
     "name": "stdout",
     "output_type": "stream",
     "text": [
      "<class 'pandas.core.frame.DataFrame'>\n",
      "RangeIndex: 76051 entries, 0 to 76050\n",
      "Data columns (total 3 columns):\n",
      " #   Column        Non-Null Count  Dtype         \n",
      "---  ------        --------------  -----         \n",
      " 0   id            76051 non-null  object        \n",
      " 1   user_id       76051 non-null  int64         \n",
      " 2   message_date  76051 non-null  datetime64[ns]\n",
      "dtypes: datetime64[ns](1), int64(1), object(1)\n",
      "memory usage: 1.7+ MB\n"
     ]
    }
   ],
   "source": [
    "messages['message_date']= pd.to_datetime (messages['message_date'], format= '%Y-%m-%d')\n",
    "\n",
    "messages.info()"
   ]
  },
  {
   "cell_type": "markdown",
   "metadata": {
    "id": "HvLid7iD0q1B"
   },
   "source": [
    "### Enrich data"
   ]
  },
  {
   "cell_type": "code",
   "execution_count": 19,
   "metadata": {
    "id": "zYEXZac10q1C"
   },
   "outputs": [],
   "source": [
    "messages['months']= messages['message_date'].dt.month"
   ]
  },
  {
   "cell_type": "markdown",
   "metadata": {
    "id": "bStkaxn40q1C"
   },
   "source": [
    "## Internet"
   ]
  },
  {
   "cell_type": "code",
   "execution_count": 20,
   "metadata": {
    "id": "e-Uz5qyn0q1C"
   },
   "outputs": [
    {
     "name": "stdout",
     "output_type": "stream",
     "text": [
      "<class 'pandas.core.frame.DataFrame'>\n",
      "RangeIndex: 104825 entries, 0 to 104824\n",
      "Data columns (total 4 columns):\n",
      " #   Column        Non-Null Count   Dtype  \n",
      "---  ------        --------------   -----  \n",
      " 0   id            104825 non-null  object \n",
      " 1   user_id       104825 non-null  int64  \n",
      " 2   session_date  104825 non-null  object \n",
      " 3   mb_used       104825 non-null  float64\n",
      "dtypes: float64(1), int64(1), object(2)\n",
      "memory usage: 3.2+ MB\n"
     ]
    },
    {
     "data": {
      "text/html": [
       "<div>\n",
       "<style scoped>\n",
       "    .dataframe tbody tr th:only-of-type {\n",
       "        vertical-align: middle;\n",
       "    }\n",
       "\n",
       "    .dataframe tbody tr th {\n",
       "        vertical-align: top;\n",
       "    }\n",
       "\n",
       "    .dataframe thead th {\n",
       "        text-align: right;\n",
       "    }\n",
       "</style>\n",
       "<table border=\"1\" class=\"dataframe\">\n",
       "  <thead>\n",
       "    <tr style=\"text-align: right;\">\n",
       "      <th></th>\n",
       "      <th>user_id</th>\n",
       "      <th>mb_used</th>\n",
       "    </tr>\n",
       "  </thead>\n",
       "  <tbody>\n",
       "    <tr>\n",
       "      <th>count</th>\n",
       "      <td>104825.000000</td>\n",
       "      <td>104825.000000</td>\n",
       "    </tr>\n",
       "    <tr>\n",
       "      <th>mean</th>\n",
       "      <td>1242.496361</td>\n",
       "      <td>366.713701</td>\n",
       "    </tr>\n",
       "    <tr>\n",
       "      <th>std</th>\n",
       "      <td>142.053913</td>\n",
       "      <td>277.170542</td>\n",
       "    </tr>\n",
       "    <tr>\n",
       "      <th>min</th>\n",
       "      <td>1000.000000</td>\n",
       "      <td>0.000000</td>\n",
       "    </tr>\n",
       "    <tr>\n",
       "      <th>25%</th>\n",
       "      <td>1122.000000</td>\n",
       "      <td>136.080000</td>\n",
       "    </tr>\n",
       "    <tr>\n",
       "      <th>50%</th>\n",
       "      <td>1236.000000</td>\n",
       "      <td>343.980000</td>\n",
       "    </tr>\n",
       "    <tr>\n",
       "      <th>75%</th>\n",
       "      <td>1367.000000</td>\n",
       "      <td>554.610000</td>\n",
       "    </tr>\n",
       "    <tr>\n",
       "      <th>max</th>\n",
       "      <td>1499.000000</td>\n",
       "      <td>1693.470000</td>\n",
       "    </tr>\n",
       "  </tbody>\n",
       "</table>\n",
       "</div>"
      ],
      "text/plain": [
       "             user_id        mb_used\n",
       "count  104825.000000  104825.000000\n",
       "mean     1242.496361     366.713701\n",
       "std       142.053913     277.170542\n",
       "min      1000.000000       0.000000\n",
       "25%      1122.000000     136.080000\n",
       "50%      1236.000000     343.980000\n",
       "75%      1367.000000     554.610000\n",
       "max      1499.000000    1693.470000"
      ]
     },
     "execution_count": 20,
     "metadata": {},
     "output_type": "execute_result"
    }
   ],
   "source": [
    "# Print general/summary information about the internet DataFrame:\n",
    "\n",
    "internet.info()\n",
    "\n",
    "internet.describe()"
   ]
  },
  {
   "cell_type": "code",
   "execution_count": 21,
   "metadata": {
    "id": "9r3x_XLw0q1C"
   },
   "outputs": [
    {
     "name": "stdout",
     "output_type": "stream",
     "text": [
      "         id  user_id session_date  mb_used\n",
      "0   1000_13     1000   2018-12-29    89.86\n",
      "1  1000_204     1000   2018-12-31     0.00\n",
      "2  1000_379     1000   2018-12-28   660.40\n",
      "3  1000_413     1000   2018-12-26   270.99\n",
      "4  1000_442     1000   2018-12-27   880.22\n",
      "5    1001_0     1001   2018-08-24   284.68\n",
      "6    1001_3     1001   2018-12-09   656.04\n",
      "7    1001_4     1001   2018-11-04    16.97\n",
      "8   1001_10     1001   2018-11-27   135.18\n",
      "9   1001_15     1001   2018-12-13   761.92\n",
      "\n",
      "0\n"
     ]
    }
   ],
   "source": [
    "# Sample\n",
    "\n",
    "print (internet.head(10))\n",
    "print ()\n",
    "\n",
    "print (internet['id'].duplicated().sum())"
   ]
  },
  {
   "cell_type": "markdown",
   "metadata": {
    "id": "EzOG5ik30q1D"
   },
   "source": [
    "In addition to the date format, the prompt mentions rounding the MB consumed, but this will be done once the data is in monthly format, so I will do that later in the project. The count in the numerical variables is the same, so we can conclude that there are no missing values in this aspect."
   ]
  },
  {
   "cell_type": "markdown",
   "metadata": {
    "id": "yA0tkPFg0q1D"
   },
   "source": [
    "### Correct data"
   ]
  },
  {
   "cell_type": "code",
   "execution_count": 22,
   "metadata": {
    "id": "zVeanzdd0q1E"
   },
   "outputs": [
    {
     "name": "stdout",
     "output_type": "stream",
     "text": [
      "<class 'pandas.core.frame.DataFrame'>\n",
      "RangeIndex: 104825 entries, 0 to 104824\n",
      "Data columns (total 4 columns):\n",
      " #   Column        Non-Null Count   Dtype         \n",
      "---  ------        --------------   -----         \n",
      " 0   id            104825 non-null  object        \n",
      " 1   user_id       104825 non-null  int64         \n",
      " 2   session_date  104825 non-null  datetime64[ns]\n",
      " 3   mb_used       104825 non-null  float64       \n",
      "dtypes: datetime64[ns](1), float64(1), int64(1), object(1)\n",
      "memory usage: 3.2+ MB\n"
     ]
    }
   ],
   "source": [
    "internet['session_date']= pd.to_datetime (internet['session_date'], format= '%Y-%m-%d')\n",
    "internet.info()"
   ]
  },
  {
   "cell_type": "markdown",
   "metadata": {
    "id": "e8_mLF4a0q1E"
   },
   "source": [
    "### Enrich data"
   ]
  },
  {
   "cell_type": "code",
   "execution_count": 23,
   "metadata": {
    "id": "ESiYPIEK0q1E"
   },
   "outputs": [],
   "source": [
    "internet['months']= internet['session_date'].dt.month"
   ]
  },
  {
   "cell_type": "markdown",
   "metadata": {
    "id": "3UA2cqIW0q1E"
   },
   "source": [
    "## Print the rate conditions and ensure they are clear:"
   ]
  },
  {
   "cell_type": "code",
   "execution_count": 24,
   "metadata": {
    "id": "i409op8p0q1F"
   },
   "outputs": [
    {
     "data": {
      "text/html": [
       "<div>\n",
       "<style scoped>\n",
       "    .dataframe tbody tr th:only-of-type {\n",
       "        vertical-align: middle;\n",
       "    }\n",
       "\n",
       "    .dataframe tbody tr th {\n",
       "        vertical-align: top;\n",
       "    }\n",
       "\n",
       "    .dataframe thead th {\n",
       "        text-align: right;\n",
       "    }\n",
       "</style>\n",
       "<table border=\"1\" class=\"dataframe\">\n",
       "  <thead>\n",
       "    <tr style=\"text-align: right;\">\n",
       "      <th></th>\n",
       "      <th>messages_included</th>\n",
       "      <th>mb_per_month_included</th>\n",
       "      <th>minutes_included</th>\n",
       "      <th>usd_monthly_pay</th>\n",
       "      <th>usd_per_gb</th>\n",
       "      <th>usd_per_message</th>\n",
       "      <th>usd_per_minute</th>\n",
       "      <th>plan_name</th>\n",
       "    </tr>\n",
       "  </thead>\n",
       "  <tbody>\n",
       "    <tr>\n",
       "      <th>0</th>\n",
       "      <td>50</td>\n",
       "      <td>15360</td>\n",
       "      <td>500</td>\n",
       "      <td>20</td>\n",
       "      <td>10</td>\n",
       "      <td>0.03</td>\n",
       "      <td>0.03</td>\n",
       "      <td>surf</td>\n",
       "    </tr>\n",
       "    <tr>\n",
       "      <th>1</th>\n",
       "      <td>1000</td>\n",
       "      <td>30720</td>\n",
       "      <td>3000</td>\n",
       "      <td>70</td>\n",
       "      <td>7</td>\n",
       "      <td>0.01</td>\n",
       "      <td>0.01</td>\n",
       "      <td>ultimate</td>\n",
       "    </tr>\n",
       "  </tbody>\n",
       "</table>\n",
       "</div>"
      ],
      "text/plain": [
       "   messages_included  mb_per_month_included  minutes_included  \\\n",
       "0                 50                  15360               500   \n",
       "1               1000                  30720              3000   \n",
       "\n",
       "   usd_monthly_pay  usd_per_gb  usd_per_message  usd_per_minute plan_name  \n",
       "0               20          10             0.03            0.03      surf  \n",
       "1               70           7             0.01            0.01  ultimate  "
      ]
     },
     "execution_count": 24,
     "metadata": {},
     "output_type": "execute_result"
    }
   ],
   "source": [
    "plans"
   ]
  },
  {
   "cell_type": "markdown",
   "metadata": {
    "id": "hMR1tP5d0q1F"
   },
   "source": [
    "## Add Data by User"
   ]
  },
  {
   "cell_type": "code",
   "execution_count": 25,
   "metadata": {
    "id": "A332cedB0q1G"
   },
   "outputs": [
    {
     "data": {
      "text/plain": [
       "user_id  months\n",
       "1000     12         16\n",
       "1001     8          22\n",
       "         9          38\n",
       "         10         47\n",
       "         11         49\n",
       "         12         46\n",
       "1002     10          8\n",
       "         11         48\n",
       "         12         38\n",
       "1003     12        118\n",
       "Name: id, dtype: int64"
      ]
     },
     "execution_count": 25,
     "metadata": {},
     "output_type": "execute_result"
    }
   ],
   "source": [
    "# Calculate the number of calls made by each user per month.\n",
    "\n",
    "\n",
    "calls_user_month= calls.groupby(['user_id','months'])['id'].count()\n",
    "\n",
    "calls_user_month.head(10)\n"
   ]
  },
  {
   "cell_type": "code",
   "execution_count": 26,
   "metadata": {
    "id": "aw2cmuql0q1G"
   },
   "outputs": [
    {
     "data": {
      "text/plain": [
       "user_id  months\n",
       "1000     12         124.0\n",
       "1001     8          182.0\n",
       "         9          315.0\n",
       "         10         393.0\n",
       "         11         426.0\n",
       "         12         412.0\n",
       "1002     10          59.0\n",
       "         11         386.0\n",
       "         12         384.0\n",
       "1003     12        1104.0\n",
       "Name: duration, dtype: float64"
      ]
     },
     "execution_count": 26,
     "metadata": {},
     "output_type": "execute_result"
    }
   ],
   "source": [
    "# Calculate the number of minutes used by each user per month\n",
    "minutes_user_month= calls.groupby(['user_id','months'])['duration'].sum()\n",
    "\n",
    "minutes_user_month.head(10)\n"
   ]
  },
  {
   "cell_type": "code",
   "execution_count": 27,
   "metadata": {
    "id": "CcQvNHn60q1G"
   },
   "outputs": [
    {
     "data": {
      "text/plain": [
       "user_id  months\n",
       "1000     12        11\n",
       "1001     8         30\n",
       "         9         44\n",
       "         10        53\n",
       "         11        36\n",
       "         12        44\n",
       "1002     10        15\n",
       "         11        32\n",
       "         12        41\n",
       "1003     12        50\n",
       "Name: id, dtype: int64"
      ]
     },
     "execution_count": 27,
     "metadata": {},
     "output_type": "execute_result"
    }
   ],
   "source": [
    "# Calculate the number of messages sent by each user per month.\n",
    "\n",
    "messages_per_month= messages.groupby(['user_id','months'])['id'].count()\n",
    "\n",
    "messages_per_month.head(10)"
   ]
  },
  {
   "cell_type": "code",
   "execution_count": 28,
   "metadata": {
    "id": "H1AqN2eG0q1H"
   },
   "outputs": [
    {
     "name": "stdout",
     "output_type": "stream",
     "text": [
      "user_id  months\n",
      "1000     12         1901.47\n",
      "1001     8          6919.15\n",
      "         9         13314.82\n",
      "         10        22330.49\n",
      "         11        18504.30\n",
      "         12        19369.18\n",
      "1002     10         6552.01\n",
      "         11        19345.08\n",
      "         12        14396.24\n",
      "1003     12        27044.14\n",
      "Name: mb_used, dtype: float64\n"
     ]
    }
   ],
   "source": [
    "# Calculate the volume of internet traffic used by each user per month.\n",
    "\n",
    "internet_per_month= internet.groupby(['user_id','months'])['mb_used'].sum()\n",
    "\n",
    "print (internet_per_month.head(10))"
   ]
  },
  {
   "cell_type": "code",
   "execution_count": 29,
   "metadata": {
    "id": "FW99ykyf0q1H"
   },
   "outputs": [
    {
     "name": "stdout",
     "output_type": "stream",
     "text": [
      "                number_of_calls  minutes  number_of_messages   mb_used\n",
      "user_id months                                                        \n",
      "1000    12                 16.0    124.0                11.0   1901.47\n",
      "1001    8                  22.0    182.0                30.0   6919.15\n",
      "        9                  38.0    315.0                44.0  13314.82\n",
      "        10                 47.0    393.0                53.0  22330.49\n",
      "        11                 49.0    426.0                36.0  18504.30\n",
      "        12                 46.0    412.0                44.0  19369.18\n",
      "1002    10                  8.0     59.0                15.0   6552.01\n",
      "        11                 48.0    386.0                32.0  19345.08\n",
      "        12                 38.0    384.0                41.0  14396.24\n",
      "1003    12                118.0   1104.0                50.0  27044.14\n"
     ]
    }
   ],
   "source": [
    "# Merge the data of calls, minutes, messages, and internet based on user_id and month.\n",
    "\n",
    "df_merged_first= pd.merge(calls_user_month, minutes_user_month, on=['user_id', 'months'], how='outer')\n",
    "\n",
    "df_merged_second= pd.merge(df_merged_first, messages_per_month, on=['user_id', 'months'], how='outer',)\n",
    "\n",
    "df_merged= pd.merge(df_merged_second, internet_per_month,on=['user_id', 'months'], how= 'outer')\n",
    "\n",
    "df_merged= df_merged.rename(columns= {'id_x': 'number_of_calls', 'duration': 'minutes', 'id_y': 'number_of_messages'})\n",
    "\n",
    "print (df_merged.head(10))\n",
    "\n"
   ]
  },
  {
   "cell_type": "code",
   "execution_count": 30,
   "metadata": {
    "id": "0dNOXHag0q1H"
   },
   "outputs": [
    {
     "data": {
      "text/html": [
       "<div>\n",
       "<style scoped>\n",
       "    .dataframe tbody tr th:only-of-type {\n",
       "        vertical-align: middle;\n",
       "    }\n",
       "\n",
       "    .dataframe tbody tr th {\n",
       "        vertical-align: top;\n",
       "    }\n",
       "\n",
       "    .dataframe thead th {\n",
       "        text-align: right;\n",
       "    }\n",
       "</style>\n",
       "<table border=\"1\" class=\"dataframe\">\n",
       "  <thead>\n",
       "    <tr style=\"text-align: right;\">\n",
       "      <th></th>\n",
       "      <th>user_id</th>\n",
       "      <th>number_of_calls</th>\n",
       "      <th>minutes</th>\n",
       "      <th>number_of_messages</th>\n",
       "      <th>gb_used</th>\n",
       "      <th>first_name</th>\n",
       "      <th>last_name</th>\n",
       "      <th>age</th>\n",
       "      <th>city</th>\n",
       "      <th>reg_date</th>\n",
       "      <th>plan</th>\n",
       "      <th>churn_date</th>\n",
       "      <th>messages_included</th>\n",
       "      <th>gb_per_month_included</th>\n",
       "      <th>minutes_included</th>\n",
       "      <th>usd_monthly_pay</th>\n",
       "      <th>usd_per_gb</th>\n",
       "      <th>usd_per_message</th>\n",
       "      <th>usd_per_minute</th>\n",
       "    </tr>\n",
       "  </thead>\n",
       "  <tbody>\n",
       "    <tr>\n",
       "      <th>0</th>\n",
       "      <td>1001</td>\n",
       "      <td>22.0</td>\n",
       "      <td>182.0</td>\n",
       "      <td>30.0</td>\n",
       "      <td>7.0</td>\n",
       "      <td>Mickey</td>\n",
       "      <td>Wilkerson</td>\n",
       "      <td>28</td>\n",
       "      <td>Seattle-Tacoma-Bellevue, WA MSA</td>\n",
       "      <td>2018-08-13</td>\n",
       "      <td>surf</td>\n",
       "      <td>Active plan</td>\n",
       "      <td>50</td>\n",
       "      <td>15.0</td>\n",
       "      <td>500</td>\n",
       "      <td>20</td>\n",
       "      <td>10</td>\n",
       "      <td>0.03</td>\n",
       "      <td>0.03</td>\n",
       "    </tr>\n",
       "    <tr>\n",
       "      <th>1</th>\n",
       "      <td>1001</td>\n",
       "      <td>38.0</td>\n",
       "      <td>315.0</td>\n",
       "      <td>44.0</td>\n",
       "      <td>14.0</td>\n",
       "      <td>Mickey</td>\n",
       "      <td>Wilkerson</td>\n",
       "      <td>28</td>\n",
       "      <td>Seattle-Tacoma-Bellevue, WA MSA</td>\n",
       "      <td>2018-08-13</td>\n",
       "      <td>surf</td>\n",
       "      <td>Active plan</td>\n",
       "      <td>50</td>\n",
       "      <td>15.0</td>\n",
       "      <td>500</td>\n",
       "      <td>20</td>\n",
       "      <td>10</td>\n",
       "      <td>0.03</td>\n",
       "      <td>0.03</td>\n",
       "    </tr>\n",
       "    <tr>\n",
       "      <th>2</th>\n",
       "      <td>1001</td>\n",
       "      <td>47.0</td>\n",
       "      <td>393.0</td>\n",
       "      <td>53.0</td>\n",
       "      <td>22.0</td>\n",
       "      <td>Mickey</td>\n",
       "      <td>Wilkerson</td>\n",
       "      <td>28</td>\n",
       "      <td>Seattle-Tacoma-Bellevue, WA MSA</td>\n",
       "      <td>2018-08-13</td>\n",
       "      <td>surf</td>\n",
       "      <td>Active plan</td>\n",
       "      <td>50</td>\n",
       "      <td>15.0</td>\n",
       "      <td>500</td>\n",
       "      <td>20</td>\n",
       "      <td>10</td>\n",
       "      <td>0.03</td>\n",
       "      <td>0.03</td>\n",
       "    </tr>\n",
       "    <tr>\n",
       "      <th>3</th>\n",
       "      <td>1001</td>\n",
       "      <td>49.0</td>\n",
       "      <td>426.0</td>\n",
       "      <td>36.0</td>\n",
       "      <td>19.0</td>\n",
       "      <td>Mickey</td>\n",
       "      <td>Wilkerson</td>\n",
       "      <td>28</td>\n",
       "      <td>Seattle-Tacoma-Bellevue, WA MSA</td>\n",
       "      <td>2018-08-13</td>\n",
       "      <td>surf</td>\n",
       "      <td>Active plan</td>\n",
       "      <td>50</td>\n",
       "      <td>15.0</td>\n",
       "      <td>500</td>\n",
       "      <td>20</td>\n",
       "      <td>10</td>\n",
       "      <td>0.03</td>\n",
       "      <td>0.03</td>\n",
       "    </tr>\n",
       "    <tr>\n",
       "      <th>4</th>\n",
       "      <td>1001</td>\n",
       "      <td>46.0</td>\n",
       "      <td>412.0</td>\n",
       "      <td>44.0</td>\n",
       "      <td>19.0</td>\n",
       "      <td>Mickey</td>\n",
       "      <td>Wilkerson</td>\n",
       "      <td>28</td>\n",
       "      <td>Seattle-Tacoma-Bellevue, WA MSA</td>\n",
       "      <td>2018-08-13</td>\n",
       "      <td>surf</td>\n",
       "      <td>Active plan</td>\n",
       "      <td>50</td>\n",
       "      <td>15.0</td>\n",
       "      <td>500</td>\n",
       "      <td>20</td>\n",
       "      <td>10</td>\n",
       "      <td>0.03</td>\n",
       "      <td>0.03</td>\n",
       "    </tr>\n",
       "  </tbody>\n",
       "</table>\n",
       "</div>"
      ],
      "text/plain": [
       "   user_id  number_of_calls  minutes  number_of_messages  gb_used first_name  \\\n",
       "0     1001             22.0    182.0                30.0      7.0     Mickey   \n",
       "1     1001             38.0    315.0                44.0     14.0     Mickey   \n",
       "2     1001             47.0    393.0                53.0     22.0     Mickey   \n",
       "3     1001             49.0    426.0                36.0     19.0     Mickey   \n",
       "4     1001             46.0    412.0                44.0     19.0     Mickey   \n",
       "\n",
       "   last_name  age                             city   reg_date  plan  \\\n",
       "0  Wilkerson   28  Seattle-Tacoma-Bellevue, WA MSA 2018-08-13  surf   \n",
       "1  Wilkerson   28  Seattle-Tacoma-Bellevue, WA MSA 2018-08-13  surf   \n",
       "2  Wilkerson   28  Seattle-Tacoma-Bellevue, WA MSA 2018-08-13  surf   \n",
       "3  Wilkerson   28  Seattle-Tacoma-Bellevue, WA MSA 2018-08-13  surf   \n",
       "4  Wilkerson   28  Seattle-Tacoma-Bellevue, WA MSA 2018-08-13  surf   \n",
       "\n",
       "    churn_date  messages_included  gb_per_month_included  minutes_included  \\\n",
       "0  Active plan                 50                   15.0               500   \n",
       "1  Active plan                 50                   15.0               500   \n",
       "2  Active plan                 50                   15.0               500   \n",
       "3  Active plan                 50                   15.0               500   \n",
       "4  Active plan                 50                   15.0               500   \n",
       "\n",
       "   usd_monthly_pay  usd_per_gb  usd_per_message  usd_per_minute  \n",
       "0               20          10             0.03            0.03  \n",
       "1               20          10             0.03            0.03  \n",
       "2               20          10             0.03            0.03  \n",
       "3               20          10             0.03            0.03  \n",
       "4               20          10             0.03            0.03  "
      ]
     },
     "execution_count": 30,
     "metadata": {},
     "output_type": "execute_result"
    }
   ],
   "source": [
    "# Add the rate information.\n",
    "\n",
    "df_merged_users= pd.merge(df_merged, users, on= 'user_id', how= 'outer')\n",
    "\n",
    "df_merged_users['mb_used']= (df_merged_users['mb_used']/1024).apply(np.ceil)\n",
    "\n",
    "df_merged_users= df_merged_users.rename(columns= {'mb_used': 'gb_used'})\n",
    "\n",
    "plans= plans.rename(columns= {'plan_name': 'plan'})\n",
    "\n",
    "df_merged_plans= pd.merge(df_merged_users, plans, on= 'plan', how= 'outer')\n",
    "\n",
    "df_merged_plans['mb_per_month_included']= df_merged_plans['mb_per_month_included']/1024\n",
    "\n",
    "df_merged_plans= df_merged_plans.rename(columns= {'mb_per_month_included': 'gb_per_month_included'})\n",
    "df_merged_plans.fillna(0, inplace=True)\n",
    "\n",
    "df_merged_plans.head()"
   ]
  },
  {
   "cell_type": "code",
   "execution_count": 31,
   "metadata": {
    "id": "5FGCf_c60q1I",
    "scrolled": true
   },
   "outputs": [
    {
     "data": {
      "text/html": [
       "<div>\n",
       "<style scoped>\n",
       "    .dataframe tbody tr th:only-of-type {\n",
       "        vertical-align: middle;\n",
       "    }\n",
       "\n",
       "    .dataframe tbody tr th {\n",
       "        vertical-align: top;\n",
       "    }\n",
       "\n",
       "    .dataframe thead th {\n",
       "        text-align: right;\n",
       "    }\n",
       "</style>\n",
       "<table border=\"1\" class=\"dataframe\">\n",
       "  <thead>\n",
       "    <tr style=\"text-align: right;\">\n",
       "      <th></th>\n",
       "      <th>user_id</th>\n",
       "      <th>number_of_calls</th>\n",
       "      <th>minutes</th>\n",
       "      <th>number_of_messages</th>\n",
       "      <th>gb_used</th>\n",
       "      <th>first_name</th>\n",
       "      <th>last_name</th>\n",
       "      <th>age</th>\n",
       "      <th>city</th>\n",
       "      <th>reg_date</th>\n",
       "      <th>...</th>\n",
       "      <th>gb_per_month_included</th>\n",
       "      <th>minutes_included</th>\n",
       "      <th>usd_monthly_pay</th>\n",
       "      <th>usd_per_gb</th>\n",
       "      <th>usd_per_message</th>\n",
       "      <th>usd_per_minute</th>\n",
       "      <th>total_minutos</th>\n",
       "      <th>total_mensajes</th>\n",
       "      <th>total_datos</th>\n",
       "      <th>ingreso_mensual</th>\n",
       "    </tr>\n",
       "  </thead>\n",
       "  <tbody>\n",
       "    <tr>\n",
       "      <th>0</th>\n",
       "      <td>1001</td>\n",
       "      <td>22.0</td>\n",
       "      <td>182.0</td>\n",
       "      <td>30.0</td>\n",
       "      <td>7.0</td>\n",
       "      <td>Mickey</td>\n",
       "      <td>Wilkerson</td>\n",
       "      <td>28</td>\n",
       "      <td>Seattle-Tacoma-Bellevue, WA MSA</td>\n",
       "      <td>2018-08-13</td>\n",
       "      <td>...</td>\n",
       "      <td>15.0</td>\n",
       "      <td>500</td>\n",
       "      <td>20</td>\n",
       "      <td>10</td>\n",
       "      <td>0.03</td>\n",
       "      <td>0.03</td>\n",
       "      <td>0.0</td>\n",
       "      <td>0.00</td>\n",
       "      <td>0.0</td>\n",
       "      <td>20.00</td>\n",
       "    </tr>\n",
       "    <tr>\n",
       "      <th>1</th>\n",
       "      <td>1001</td>\n",
       "      <td>38.0</td>\n",
       "      <td>315.0</td>\n",
       "      <td>44.0</td>\n",
       "      <td>14.0</td>\n",
       "      <td>Mickey</td>\n",
       "      <td>Wilkerson</td>\n",
       "      <td>28</td>\n",
       "      <td>Seattle-Tacoma-Bellevue, WA MSA</td>\n",
       "      <td>2018-08-13</td>\n",
       "      <td>...</td>\n",
       "      <td>15.0</td>\n",
       "      <td>500</td>\n",
       "      <td>20</td>\n",
       "      <td>10</td>\n",
       "      <td>0.03</td>\n",
       "      <td>0.03</td>\n",
       "      <td>0.0</td>\n",
       "      <td>0.00</td>\n",
       "      <td>0.0</td>\n",
       "      <td>20.00</td>\n",
       "    </tr>\n",
       "    <tr>\n",
       "      <th>2</th>\n",
       "      <td>1001</td>\n",
       "      <td>47.0</td>\n",
       "      <td>393.0</td>\n",
       "      <td>53.0</td>\n",
       "      <td>22.0</td>\n",
       "      <td>Mickey</td>\n",
       "      <td>Wilkerson</td>\n",
       "      <td>28</td>\n",
       "      <td>Seattle-Tacoma-Bellevue, WA MSA</td>\n",
       "      <td>2018-08-13</td>\n",
       "      <td>...</td>\n",
       "      <td>15.0</td>\n",
       "      <td>500</td>\n",
       "      <td>20</td>\n",
       "      <td>10</td>\n",
       "      <td>0.03</td>\n",
       "      <td>0.03</td>\n",
       "      <td>0.0</td>\n",
       "      <td>0.09</td>\n",
       "      <td>70.0</td>\n",
       "      <td>90.09</td>\n",
       "    </tr>\n",
       "    <tr>\n",
       "      <th>3</th>\n",
       "      <td>1001</td>\n",
       "      <td>49.0</td>\n",
       "      <td>426.0</td>\n",
       "      <td>36.0</td>\n",
       "      <td>19.0</td>\n",
       "      <td>Mickey</td>\n",
       "      <td>Wilkerson</td>\n",
       "      <td>28</td>\n",
       "      <td>Seattle-Tacoma-Bellevue, WA MSA</td>\n",
       "      <td>2018-08-13</td>\n",
       "      <td>...</td>\n",
       "      <td>15.0</td>\n",
       "      <td>500</td>\n",
       "      <td>20</td>\n",
       "      <td>10</td>\n",
       "      <td>0.03</td>\n",
       "      <td>0.03</td>\n",
       "      <td>0.0</td>\n",
       "      <td>0.00</td>\n",
       "      <td>40.0</td>\n",
       "      <td>60.00</td>\n",
       "    </tr>\n",
       "    <tr>\n",
       "      <th>4</th>\n",
       "      <td>1001</td>\n",
       "      <td>46.0</td>\n",
       "      <td>412.0</td>\n",
       "      <td>44.0</td>\n",
       "      <td>19.0</td>\n",
       "      <td>Mickey</td>\n",
       "      <td>Wilkerson</td>\n",
       "      <td>28</td>\n",
       "      <td>Seattle-Tacoma-Bellevue, WA MSA</td>\n",
       "      <td>2018-08-13</td>\n",
       "      <td>...</td>\n",
       "      <td>15.0</td>\n",
       "      <td>500</td>\n",
       "      <td>20</td>\n",
       "      <td>10</td>\n",
       "      <td>0.03</td>\n",
       "      <td>0.03</td>\n",
       "      <td>0.0</td>\n",
       "      <td>0.00</td>\n",
       "      <td>40.0</td>\n",
       "      <td>60.00</td>\n",
       "    </tr>\n",
       "  </tbody>\n",
       "</table>\n",
       "<p>5 rows × 23 columns</p>\n",
       "</div>"
      ],
      "text/plain": [
       "   user_id  number_of_calls  minutes  number_of_messages  gb_used first_name  \\\n",
       "0     1001             22.0    182.0                30.0      7.0     Mickey   \n",
       "1     1001             38.0    315.0                44.0     14.0     Mickey   \n",
       "2     1001             47.0    393.0                53.0     22.0     Mickey   \n",
       "3     1001             49.0    426.0                36.0     19.0     Mickey   \n",
       "4     1001             46.0    412.0                44.0     19.0     Mickey   \n",
       "\n",
       "   last_name  age                             city   reg_date  ...  \\\n",
       "0  Wilkerson   28  Seattle-Tacoma-Bellevue, WA MSA 2018-08-13  ...   \n",
       "1  Wilkerson   28  Seattle-Tacoma-Bellevue, WA MSA 2018-08-13  ...   \n",
       "2  Wilkerson   28  Seattle-Tacoma-Bellevue, WA MSA 2018-08-13  ...   \n",
       "3  Wilkerson   28  Seattle-Tacoma-Bellevue, WA MSA 2018-08-13  ...   \n",
       "4  Wilkerson   28  Seattle-Tacoma-Bellevue, WA MSA 2018-08-13  ...   \n",
       "\n",
       "  gb_per_month_included minutes_included  usd_monthly_pay  usd_per_gb  \\\n",
       "0                  15.0              500               20          10   \n",
       "1                  15.0              500               20          10   \n",
       "2                  15.0              500               20          10   \n",
       "3                  15.0              500               20          10   \n",
       "4                  15.0              500               20          10   \n",
       "\n",
       "   usd_per_message  usd_per_minute  total_minutos  total_mensajes  \\\n",
       "0             0.03            0.03            0.0            0.00   \n",
       "1             0.03            0.03            0.0            0.00   \n",
       "2             0.03            0.03            0.0            0.09   \n",
       "3             0.03            0.03            0.0            0.00   \n",
       "4             0.03            0.03            0.0            0.00   \n",
       "\n",
       "   total_datos  ingreso_mensual  \n",
       "0          0.0            20.00  \n",
       "1          0.0            20.00  \n",
       "2         70.0            90.09  \n",
       "3         40.0            60.00  \n",
       "4         40.0            60.00  \n",
       "\n",
       "[5 rows x 23 columns]"
      ]
     },
     "execution_count": 31,
     "metadata": {},
     "output_type": "execute_result"
    }
   ],
   "source": [
    "# Calculate the monthly income for each user.\n",
    "\n",
    "df_merged_plans['total_minutos'] = (df_merged_plans['minutes'] - df_merged_plans['minutes_included'])* df_merged_plans['usd_per_minute']\n",
    "df_merged_plans['total_minutos'] = df_merged_plans['total_minutos'].apply(lambda x: max(0, x))\n",
    "\n",
    "\n",
    "df_merged_plans['total_mensajes']= (df_merged_plans['number_of_messages'] -df_merged_plans['messages_included']) * df_merged_plans['usd_per_message']\n",
    "df_merged_plans['total_mensajes'] = df_merged_plans['total_mensajes'].apply(lambda x: max(0, x))\n",
    "\n",
    "df_merged_plans['total_datos']= (df_merged_plans['gb_used'] - df_merged_plans['gb_per_month_included'])* df_merged_plans['usd_per_gb']\n",
    "df_merged_plans['total_datos'] = df_merged_plans['total_datos'].apply(lambda x: max(0, x))\n",
    "\n",
    "\n",
    "df_merged_plans['ingreso_mensual']= df_merged_plans['total_minutos'] + df_merged_plans['total_mensajes'] + df_merged_plans['total_datos'] + df_merged_plans['usd_monthly_pay']\n",
    "\n",
    "df_merged_plans.head()\n"
   ]
  },
  {
   "cell_type": "markdown",
   "metadata": {},
   "source": [
    "**To calculate the monthly income for each user, we first total the consumption by category. Once this is done, we compare it with what is already included in the plan. If the user exceeds the included consumption, the corresponding fee is added. If not, the original plan value is maintained. The sum of all this for each user is the total monthly income calculation.**"
   ]
  },
  {
   "cell_type": "markdown",
   "metadata": {
    "id": "-jtyHzJb0q1I"
   },
   "source": [
    "## Study User Behavior"
   ]
  },
  {
   "cell_type": "markdown",
   "metadata": {
    "id": "vtW4CJEe0q1J"
   },
   "source": [
    "### Calls"
   ]
  },
  {
   "cell_type": "code",
   "execution_count": 32,
   "metadata": {
    "id": "Jf5v5--k0q1J"
   },
   "outputs": [
    {
     "data": {
      "text/plain": [
       "<Axes: title={'center': 'Duracion de llamadas promedio.'}, xlabel='Mes', ylabel='Minutos de duración'>"
      ]
     },
     "execution_count": 32,
     "metadata": {},
     "output_type": "execute_result"
    },
    {
     "data": {
      "image/png": "[encoded data removed]",
      "text/plain": [
       "<Figure size 640x480 with 1 Axes>"
      ]
     },
     "metadata": {},
     "output_type": "display_data"
    }
   ],
   "source": [
    "# Compare the average call duration for each plan and month.\n",
    "df_calls_plan= pd.merge(df_merged_plans, calls, on='user_id', how='outer')\n",
    "\n",
    "llamadas_ultimate= df_calls_plan[df_calls_plan['plan']== 'ultimate'].groupby('months')['duration'].mean()\n",
    "llamadas_surf= df_calls_plan[df_calls_plan['plan']== 'surf'].groupby('months')['duration'].mean()\n",
    "\n",
    "duracion_promedio= pd.concat([llamadas_ultimate, llamadas_surf], axis= 1)\n",
    "duracion_promedio.columns= ['ultimate', 'surf']\n",
    "\n",
    "\n",
    "duracion_promedio.plot(kind='bar', title='Duracion de llamadas promedio.', xlabel= 'Mes', ylabel= 'Minutos de duración')\n"
   ]
  },
  {
   "cell_type": "code",
   "execution_count": 33,
   "metadata": {
    "id": "QoLqW1S_0q1J"
   },
   "outputs": [
    {
     "data": {
      "text/plain": [
       "<Axes: title={'center': 'Minutos usados por plan'}, ylabel='Frequency'>"
      ]
     },
     "execution_count": 33,
     "metadata": {},
     "output_type": "execute_result"
    },
    {
     "data": {
      "image/png": "[encoded data removed]",
      "text/plain": [
       "<Figure size 640x480 with 1 Axes>"
      ]
     },
     "metadata": {},
     "output_type": "display_data"
    }
   ],
   "source": [
    "# CCompare the number of monthly minutes used by users of each plan. Plot a histogram.\n",
    "plan_ultimate= df_calls_plan[df_calls_plan['plan']== 'ultimate']\n",
    "plan_surf= df_calls_plan[df_calls_plan['plan']== 'surf']\n",
    "\n",
    "plan_ultimate['minutes'].plot(kind= 'hist', title='Minutos usados por plan')\n",
    "plan_surf['minutes'].plot(kind= 'hist', alpha=0.7)\n",
    "\n",
    "# Minutes is the column with the total per user"
   ]
  },
  {
   "cell_type": "code",
   "execution_count": 34,
   "metadata": {
    "id": "oSndbAnt0q1K",
    "scrolled": true
   },
   "outputs": [
    {
     "name": "stdout",
     "output_type": "stream",
     "text": [
      "522.6579441860059 61834.885543943936 499.0 734.0 248.66621311296782\n",
      "518.1519850226997 56615.47377799131 502.0 626.0 237.94006341511997\n"
     ]
    }
   ],
   "source": [
    "\n",
    "mean_calls_ultimate= np.mean(plan_ultimate['minutes'])\n",
    "var_calls_ultimate = np.var(plan_ultimate['minutes'])\n",
    "median_calls_ultimate= stat.median(plan_ultimate['minutes'])\n",
    "mode_calls_ultimate= stat.mode(plan_ultimate['minutes'])\n",
    "dev_calls_ultimate= np.sqrt(var_calls_ultimate)\n",
    "\n",
    "mean_calls_surf= np.mean(plan_surf['minutes'])\n",
    "var_calls_surf= np.var(plan_surf['minutes'])\n",
    "median_calls_surf= stat.median(plan_surf ['minutes'])\n",
    "mode_calls_surf= stat.mode(plan_surf['minutes'])\n",
    "dev_calls_surf= np.sqrt(var_calls_surf)\n",
    "\n",
    "print (mean_calls_ultimate, var_calls_ultimate,median_calls_ultimate,mode_calls_ultimate,dev_calls_ultimate )\n",
    "print (mean_calls_surf, var_calls_surf, median_calls_surf,mode_calls_surf, dev_calls_surf )"
   ]
  },
  {
   "cell_type": "code",
   "execution_count": 35,
   "metadata": {},
   "outputs": [
    {
     "data": {
      "text/plain": [
       "count    229369.000000\n",
       "mean        522.657944\n",
       "std         248.666755\n",
       "min           0.000000\n",
       "25%         365.000000\n",
       "50%         499.000000\n",
       "75%         655.000000\n",
       "max        1369.000000\n",
       "Name: minutes, dtype: float64"
      ]
     },
     "execution_count": 35,
     "metadata": {},
     "output_type": "execute_result"
    }
   ],
   "source": [
    "(plan_ultimate['minutes']).describe()"
   ]
  },
  {
   "cell_type": "code",
   "execution_count": 36,
   "metadata": {
    "id": "nZzoRUKc0q1K"
   },
   "outputs": [
    {
     "data": {
      "text/plain": [
       "<Axes: ylabel='minutes'>"
      ]
     },
     "execution_count": 36,
     "metadata": {},
     "output_type": "execute_result"
    },
    {
     "data": {
      "image/png": "[encoded data removed]",
      "text/plain": [
       "<Figure size 640x480 with 1 Axes>"
      ]
     },
     "metadata": {},
     "output_type": "display_data"
    }
   ],
   "source": [
    "#Plot a box plot to visualize the distribution of the monthly call duration.\n",
    "sns.boxplot(df_calls_plan['minutes'])"
   ]
  },
  {
   "cell_type": "markdown",
   "metadata": {
    "id": "r627zBO50q1K"
   },
   "source": [
    "**The average call duration for each plan shows no significant variation. In the histogram, we can observe a positive skew, as most of the values are toward the right, and Surf plan users make more use of the total minutes available in their plan compared to Ultimate plan users. The highest concentration of data is between 400 and 600 minutes, which is confirmed by the calculated average of around 500 minutes. The median is 499 and 502, respectively, which indicates that there are no outliers skewing the average, as these values are close. We can complement this analysis by noting that the most common values are 734 and 626 minutes for each plan, which makes sense as the standard deviation is around 240, indicating the variation from the mean.\n",
    "\n",
    "Looking at the box plot, the position of the median suggests that around 50% of users made at least 500 calls per month. The whisker on the right indicates that most users made a maximum of 1000 calls, with outliers going up to 1200 calls.\n",
    "\n",
    "Based on the graphs, the user behavior for both plans seems quite similar, as the duration and quantity of calls are comparable**"
   ]
  },
  {
   "cell_type": "markdown",
   "metadata": {
    "id": "8idKy8Wh0q1L"
   },
   "source": [
    "### Messages"
   ]
  },
  {
   "cell_type": "code",
   "execution_count": 37,
   "metadata": {
    "id": "NXLxiTit0q1L"
   },
   "outputs": [
    {
     "data": {
      "text/plain": [
       "<Axes: title={'center': ' Mensajes usados por mes/plan'}, xlabel='months', ylabel='Numero de mensajes'>"
      ]
     },
     "execution_count": 37,
     "metadata": {},
     "output_type": "execute_result"
    },
    {
     "data": {
      "image/png": "[encoded data removed]",
      "text/plain": [
       "<Figure size 640x480 with 1 Axes>"
      ]
     },
     "metadata": {},
     "output_type": "display_data"
    }
   ],
   "source": [
    "# Compare the number of messages sent each month by users of each plan\n",
    "\n",
    "df_messages_plan= pd.merge(df_merged_plans, messages, on='user_id', how='outer')\n",
    "\n",
    "messages_ultimate= df_messages_plan[df_messages_plan['plan']== 'ultimate'].groupby('months')['number_of_messages'].count()\n",
    "messages_surf= df_messages_plan[df_messages_plan['plan']== 'surf'].groupby('months')['number_of_messages'].count()\n",
    "\n",
    "messages_per_month= pd.concat([messages_ultimate, messages_surf], axis= 1)\n",
    "messages_per_month.columns= ['ultimate', 'surf']\n",
    "\n",
    "\n",
    "messages_per_month.plot(kind='bar', title=' Mensajes usados por mes/plan', ylabel= 'Numero de mensajes')\n"
   ]
  },
  {
   "cell_type": "code",
   "execution_count": 38,
   "metadata": {
    "id": "GRI_R7xF0q1L"
   },
   "outputs": [
    {
     "data": {
      "text/plain": [
       "<Axes: title={'center': 'Mensajes usados por plan'}, ylabel='Frequency'>"
      ]
     },
     "execution_count": 38,
     "metadata": {},
     "output_type": "execute_result"
    },
    {
     "data": {
      "image/png": "[encoded data removed]",
      "text/plain": [
       "<Figure size 640x480 with 1 Axes>"
      ]
     },
     "metadata": {},
     "output_type": "display_data"
    }
   ],
   "source": [
    "plan_ultimate['number_of_messages'].plot(kind= 'hist', title='Mensajes usados por plan')\n",
    "plan_surf['number_of_messages'].plot(kind= 'hist', alpha=0.7)\n"
   ]
  },
  {
   "cell_type": "code",
   "execution_count": 39,
   "metadata": {
    "id": "dtFwCGAp0q1M"
   },
   "outputs": [
    {
     "name": "stdout",
     "output_type": "stream",
     "text": [
      "38.36824941469859 1256.2142173226039 30.0 0.0 35.44311241020748\n",
      "31.50111092121005 1223.8450969633266 23.0 0.0 34.983497494723515\n"
     ]
    },
    {
     "data": {
      "image/png": "[encoded data removed]",
      "text/plain": [
       "<Figure size 640x480 with 1 Axes>"
      ]
     },
     "metadata": {},
     "output_type": "display_data"
    }
   ],
   "source": [
    "sns.boxplot(df_calls_plan['number_of_messages'])\n",
    "\n",
    "mean_messages_ultimate= np.mean(plan_ultimate['number_of_messages'])\n",
    "var_messages_ultimate = np.var(plan_ultimate['number_of_messages'])\n",
    "median_messages_ultimate= stat.median(plan_ultimate['number_of_messages'])\n",
    "mode_messages_ultimate= stat.mode(plan_ultimate['number_of_messages'])\n",
    "dev_messages_ultimate= np.sqrt(var_messages_ultimate)\n",
    "\n",
    "mean_messages_surf= np.mean(plan_surf['number_of_messages'])\n",
    "var_messages_surf= np.var(plan_surf['number_of_messages'])\n",
    "median_messages_surf= stat.median(plan_surf['number_of_messages'])\n",
    "mode_messages_surf= stat.mode(plan_surf['number_of_messages'])\n",
    "dev_messages_surf= np.sqrt(var_messages_surf)\n",
    "\n",
    "\n",
    "print (mean_messages_ultimate, var_messages_ultimate, median_messages_ultimate, mode_messages_ultimate, dev_messages_ultimate)\n",
    "print (mean_messages_surf, var_messages_surf, median_messages_surf, mode_messages_surf, dev_messages_surf)"
   ]
  },
  {
   "cell_type": "markdown",
   "metadata": {
    "id": "390SSL480q1M"
   },
   "source": [
    "Regarding messages, Surf plan users show a significant difference compared to the Ultimate plan, with much higher usage and increasing monthly.\n",
    "Both plans appear to have a similar distribution, with most users sending between 0 and 50 messages per month, with the difference that the frequency of those on the Surf plan is much higher. In both cases, most users send few messages, with a clear tendency to decrease as the number of messages sent increases. This data is also corroborated in the box plot, where outliers begin around 125 messages. The statistical data for both plans also behave similarly.\n",
    "In the case of the mode, the most frequently repeated number is 0.0; this is because we replaced users who do not send messages with 0."
   ]
  },
  {
   "cell_type": "markdown",
   "metadata": {
    "id": "42YSypXz0q1M"
   },
   "source": [
    "### Internet"
   ]
  },
  {
   "cell_type": "code",
   "execution_count": 40,
   "metadata": {
    "id": "lSuKPtjh0q1M"
   },
   "outputs": [
    {
     "data": {
      "text/plain": [
       "<Axes: title={'center': 'GB Usados por mes/plan'}, xlabel='months'>"
      ]
     },
     "execution_count": 40,
     "metadata": {},
     "output_type": "execute_result"
    },
    {
     "data": {
      "image/png": "[encoded data removed]",
      "text/plain": [
       "<Figure size 640x480 with 1 Axes>"
      ]
     },
     "metadata": {},
     "output_type": "display_data"
    }
   ],
   "source": [
    "# Compare the internet usage by users of each plan.\n",
    "df_internet_plan= pd.merge(df_merged_plans, internet, on='user_id', how='outer')\n",
    "\n",
    "internet_ultimate= df_internet_plan[df_internet_plan['plan']== 'ultimate'].groupby('months')['gb_used'].mean()\n",
    "internet_surf= df_internet_plan[df_internet_plan['plan']== 'surf'].groupby('months')['gb_used'].mean()\n",
    "\n",
    "internet_per_month= pd.concat([internet_ultimate, internet_surf], axis= 1)\n",
    "internet_per_month.columns= ['ultimate', 'surf']\n",
    "\n",
    "\n",
    "internet_per_month.plot(kind='bar', title= 'GB Usados por mes/plan')"
   ]
  },
  {
   "cell_type": "code",
   "execution_count": 41,
   "metadata": {
    "id": "wnh8jYXi0q1N"
   },
   "outputs": [
    {
     "data": {
      "text/plain": [
       "<Axes: title={'center': 'Internet usado por plan'}, ylabel='Frequency'>"
      ]
     },
     "execution_count": 41,
     "metadata": {},
     "output_type": "execute_result"
    },
    {
     "data": {
      "image/png": "[encoded data removed]",
      "text/plain": [
       "<Figure size 640x480 with 1 Axes>"
      ]
     },
     "metadata": {},
     "output_type": "display_data"
    }
   ],
   "source": [
    "plan_ultimate['gb_used'].plot(kind= 'hist', title='Internet usado por plan')\n",
    "plan_surf['gb_used'].plot(kind= 'hist', alpha=0.7)"
   ]
  },
  {
   "cell_type": "code",
   "execution_count": 42,
   "metadata": {
    "id": "5VlyJ9ry0q1N"
   },
   "outputs": [
    {
     "name": "stdout",
     "output_type": "stream",
     "text": [
      "17.75749556391666 49.40957224274538 17.0 17.0 7.0291942811922175\n",
      "17.32211803857087 55.359096303809466 17.0 18.0 7.440369366087242\n"
     ]
    },
    {
     "data": {
      "image/png": "[encoded data removed]",
      "text/plain": [
       "<Figure size 640x480 with 1 Axes>"
      ]
     },
     "metadata": {},
     "output_type": "display_data"
    }
   ],
   "source": [
    "sns.boxplot(df_calls_plan['gb_used'])\n",
    "mean_internet_ultimate= np.mean(plan_ultimate['gb_used'])\n",
    "var_internet_ultimate = np.var(plan_ultimate['gb_used'])\n",
    "median_internet_ultimate= stat.median(plan_ultimate['gb_used'])\n",
    "mode_internet_ultimate= stat.mode(plan_ultimate['gb_used'])\n",
    "dev_internet_ultimate= np.sqrt(var_internet_ultimate)\n",
    "\n",
    "mean_internet_surf= np.mean(plan_surf['gb_used'])\n",
    "var_internet_surf= np.var(plan_surf['gb_used'])\n",
    "median_internet_surf= stat.median(plan_surf['gb_used'])\n",
    "mode_internet_surf= stat.mode(plan_surf['gb_used'])\n",
    "dev_internet_surf= np.sqrt(var_internet_surf)\n",
    "\n",
    "\n",
    "print (mean_internet_ultimate, var_internet_ultimate, median_internet_ultimate, mode_internet_ultimate, dev_internet_ultimate)\n",
    "print (mean_internet_surf, var_internet_surf,median_internet_surf, mode_internet_surf,dev_internet_surf )"
   ]
  },
  {
   "cell_type": "markdown",
   "metadata": {
    "id": "UN9zwuMP0q1N"
   },
   "source": [
    "Ultimate plan users appear to use the internet more, with a not very noticeable difference, except for the first month of the year, where there is a difference. This difference narrows as the months go by.\n",
    "Surfing users' usage frequency is higher than that of Ultimate users; this can be explained by the fact that the data is grouped differently.\n",
    "Most users use between 15 and 20 GB per month, with a median of approximately 17 GB. Minimum values ​​are 0 for non-internet users, with outliers ranging from just over 30 to 70 GB.\n",
    "\n",
    "In this case, the median, mode, and mean are practically the same, confirming the reliability of this data and its use for necessary marketing analyses."
   ]
  },
  {
   "cell_type": "markdown",
   "metadata": {
    "id": "tCijq3260q1N"
   },
   "source": [
    "## Income calculation"
   ]
  },
  {
   "cell_type": "code",
   "execution_count": 43,
   "metadata": {
    "id": "tz-dq_V00q1O"
   },
   "outputs": [
    {
     "data": {
      "text/plain": [
       "<Axes: title={'center': 'Monthly Income'}, xlabel='months'>"
      ]
     },
     "execution_count": 43,
     "metadata": {},
     "output_type": "execute_result"
    },
    {
     "data": {
      "image/png": "[encoded data removed]",
      "text/plain": [
       "<Figure size 640x480 with 1 Axes>"
      ]
     },
     "metadata": {},
     "output_type": "display_data"
    }
   ],
   "source": [
    "revenue_ultimate= df_calls_plan[df_calls_plan['plan']== 'ultimate'].groupby('months')['ingreso_mensual'].mean()\n",
    "revenue_surf= df_calls_plan[df_calls_plan['plan']== 'surf'].groupby('months')['ingreso_mensual'].mean()\n",
    "\n",
    "revenue_per_month= pd.concat([revenue_ultimate, revenue_surf], axis= 1)\n",
    "revenue_per_month.columns= ['ultimate', 'surf']\n",
    "\n",
    "\n",
    "revenue_per_month.plot(kind='line', title= 'Monthly Income')"
   ]
  },
  {
   "cell_type": "code",
   "execution_count": null,
   "metadata": {},
   "outputs": [],
   "source": []
  },
  {
   "cell_type": "code",
   "execution_count": 44,
   "metadata": {
    "id": "0Y1v8ZUz0q1P"
   },
   "outputs": [
    {
     "data": {
      "text/plain": [
       "<Axes: title={'center': 'Monthly Income per plan'}, ylabel='Frequency'>"
      ]
     },
     "execution_count": 44,
     "metadata": {},
     "output_type": "execute_result"
    },
    {
     "data": {
      "image/png": "[encoded data removed]",
      "text/plain": [
       "<Figure size 640x480 with 1 Axes>"
      ]
     },
     "metadata": {},
     "output_type": "display_data"
    }
   ],
   "source": [
    "plan_ultimate['ingreso_mensual'].plot(kind= 'hist', title='Monthly Income per plan')\n",
    "plan_surf['ingreso_mensual'].plot(kind= 'hist', alpha=0.7)"
   ]
  },
  {
   "cell_type": "code",
   "execution_count": 45,
   "metadata": {
    "id": "bYmwxyVh0q1P",
    "scrolled": false
   },
   "outputs": [
    {
     "name": "stdout",
     "output_type": "stream",
     "text": [
      "71.55412457655568 76.9450898784473 70.0 70.0 8.771835034840048\n",
      "64.20321277235252 55.359096303809466 17.0 7.440369366087242\n"
     ]
    },
    {
     "data": {
      "image/png": "[encoded data removed]",
      "text/plain": [
       "<Figure size 640x480 with 1 Axes>"
      ]
     },
     "metadata": {},
     "output_type": "display_data"
    }
   ],
   "source": [
    "sns.boxplot(df_calls_plan['ingreso_mensual'])\n",
    "mean_ingresos_ultimate= np.mean(plan_ultimate['ingreso_mensual'])\n",
    "var_ingresos_ultimate = np.var(plan_ultimate['ingreso_mensual'])\n",
    "median_ingresos_ultimate= stat.median(plan_ultimate['ingreso_mensual'])\n",
    "mode_ingresos_ultimate= stat.mode(plan_ultimate['ingreso_mensual'])\n",
    "dev_ingresos_ultimate= np.sqrt(var_ingresos_ultimate)\n",
    "\n",
    "\n",
    "mean_ingresos_surf= np.mean(plan_surf['ingreso_mensual'])\n",
    "var_ingresos_surf= np.var(plan_surf['gb_used'])\n",
    "median_ingresos_surf= stat.median(plan_surf['gb_used'])\n",
    "mode_ingresos_surf= stat.mode(plan_surf['gb_used'])\n",
    "dev_ingresos_surf= np.sqrt(var_internet_surf)\n",
    "\n",
    "\n",
    "print (mean_ingresos_ultimate, var_ingresos_ultimate, median_ingresos_ultimate, mode_ingresos_ultimate, dev_ingresos_ultimate)\n",
    "print (mean_ingresos_surf, var_ingresos_surf, median_ingresos_surf, dev_ingresos_surf)"
   ]
  },
  {
   "cell_type": "markdown",
   "metadata": {
    "id": "KAFidcXZ0q1P"
   },
   "source": [
    "The first thing we can observe is that Ultimate plan users generate a fairly stable income, with no fluctuations like those on the Surf plan. Therefore, our first conclusion is that Surf plan users exceed their monthly spending limits.\n",
    "Surf plan users have a right-skewed distribution, with a mean below $80. That is, most users who exceed the initial cost of the plan do not consume more than $80. Outliers range from approximately $120 to $600.\n",
    "\n",
    "Income, especially for the Surf plan, increases over time and is observed to reach a certain stability over the months. However, since it varies depending on additional consumption, it is difficult for it to fully stabilize.\n",
    "\n",
    "The variance of the Ultimate plan is 76.94, while that of the Surf plan is 55.35. Although the variance of the former is slightly higher, both are relatively close, indicating that the dispersion of monthly revenue is not extremely different between the two plans. However, the standard deviation does suggest that Surf's revenue is more dispersed, due to the variation factors we have already analyzed.\n",
    "\n",
    "Based on the information provided, we can conclude that the Ultimate plan is more profitable over time, with consistently higher revenue and less variability in its behavior after the initial increase.**"
   ]
  },
  {
   "cell_type": "markdown",
   "metadata": {
    "id": "ajJ7VKeI0q1Q"
   },
   "source": [
    "## Test Statistical Hypotheses"
   ]
  },
  {
   "cell_type": "markdown",
   "metadata": {
    "id": "IQwa_hsh0q1Q"
   },
   "source": [
    "Null hypothesis: The incomes are equal.\n",
    "\n",
    "Alternative hypothesis: The incomes are different.\n",
    "\n",
    "Alpha value = 5%.\n"
   ]
  },
  {
   "cell_type": "code",
   "execution_count": 46,
   "metadata": {
    "id": "nFoPNlPq0q1R"
   },
   "outputs": [
    {
     "name": "stdout",
     "output_type": "stream",
     "text": [
      "LeveneResult(statistic=405.7401019739099, pvalue=3.070976609395645e-83)\n",
      "Por el pvalue, las varianzas son diferentes\n",
      "\n",
      "P value: 1.218411585212325e-15\n",
      "We reject the null hypothesis\n"
     ]
    }
   ],
   "source": [
    "# Test the hypotheses\n",
    "\n",
    "\n",
    "\n",
    "ingresos_ultimate= df_merged_plans[df_merged_plans['plan']== 'ultimate']['ingreso_mensual']\n",
    "ingresos_surf= df_merged_plans[df_merged_plans['plan']== 'surf']['ingreso_mensual']\n",
    "\n",
    "#Levene Test:\n",
    "\n",
    "p_levene = st.levene(ingresos_ultimate, ingresos_surf)\n",
    "print (p_levene)\n",
    "print ('Por el pvalue, las varianzas son diferentes')\n",
    "\n",
    "\n",
    "alpha= 0.05\n",
    "prueba_t= st.ttest_ind(ingresos_ultimate, ingresos_surf, equal_var= False)\n",
    "\n",
    "print()\n",
    "print ('P value:', prueba_t.pvalue)\n",
    "\n",
    "if prueba_t.pvalue < alpha:\n",
    "    print ('We reject the null hypothesis')\n",
    "else:\n",
    "    print ('We cannot reject the null hypothesis')\n"
   ]
  },
  {
   "cell_type": "markdown",
   "metadata": {},
   "source": [
    "Since we want to test if the incomes per plan are different, we first need to state a null hypothesis, which in other words, is what we want to prove false. In this case, it would be that the incomes are equal.\n",
    "\n",
    "First, we perform the Levene test, which helps us determine if the variances are equal or different. This is important because the test we will conduct assumes that both variables have the same variance. If they don't, we need to make this known so the calculations can be done correctly.\n",
    "\n",
    "Then we proceed with the test, considering the previous result, which indicates that the variances are different. This test gives us a very low probability value, which means we can reject the null hypothesis."
   ]
  },
  {
   "cell_type": "markdown",
   "metadata": {
    "id": "LsBgitqj0q1R"
   },
   "source": [
    "Null hypothesis: The average income of users in the NY-NJ area is the same as that of other regions\n",
    "\n",
    "Alternative hypothesis: The average income of users in the NY-NJ area is different from that of other regions\n",
    "\n",
    "Alpha value: 5%"
   ]
  },
  {
   "cell_type": "code",
   "execution_count": 47,
   "metadata": {
    "id": "Cqcj7wrZ0q1S"
   },
   "outputs": [
    {
     "name": "stdout",
     "output_type": "stream",
     "text": [
      "LeveneResult(statistic=2.2743213637111053, pvalue=0.13166997048840223)\n",
      "P value: 0.049745282774075514\n",
      "We reject the null hypothesis\n"
     ]
    }
   ],
   "source": [
    "ny_nj= df_merged_plans[(df_merged_plans['city'].str.contains('NY-NJ', case=False, na=False))]\n",
    "\n",
    "other_cities= df_merged_plans[~(df_merged_plans['city'].str.contains('NY-NJ', case=False, na=False))]\n",
    "\n",
    "alpha= 0.05 \n",
    "\n",
    "p_levene = st.levene(ny_nj['ingreso_mensual'], other_cities['ingreso_mensual'])\n",
    "print (p_levene)\n",
    "\n",
    "t_cities= st.ttest_ind(ny_nj['ingreso_mensual'], other_cities['ingreso_mensual'])\n",
    "\n",
    "print('P value:', t_cities.pvalue)\n",
    "\n",
    "if t_cities.pvalue < alpha:\n",
    "    print ('We reject the null hypothesis')\n",
    "else:\n",
    "    print ('We cannot reject the null hypothesis')"
   ]
  },
  {
   "cell_type": "markdown",
   "metadata": {},
   "source": [
    "Before proceeding with the test, a filter is first performed to obtain two variables: one containing only the income from the NY=NJ area and another containing the remaining regions.\n",
    "Once this is done, the Levene test is performed. In this case, since the variances are less than 0.05, it is determined that the variances are considered equal. The null hypothesis that the incomes in the New York-New Jersey area are equal is tested. We reject this because it is just below our alpha value."
   ]
  },
  {
   "cell_type": "markdown",
   "metadata": {
    "id": "bbTR8UQO0q1T"
   },
   "source": [
    "## General Conclusion\n",
    "\n",
    "The data was generally organized, and the changes to be made were guided by the project statement. Thinking about future operations that might need to be performed, I made changes that would make these operations possible.\n",
    "\n",
    "While running the filters, I noticed that many users don't use certain parts of their plan, such as messages or data, which may correspond to users with an atypical lifestyle or elderly people. For this reason, the DataFrames were mostly joined using the outer method to prevent these users' information from being discarded from the final analysis.\n",
    "\n",
    "Regarding usage, some of the differences already described are generally observed between users of one plan and another, but the distributions are similar in all cases.\n",
    "\n",
    "The majority of revenue comes from users of the Ultimate plan. Furthermore, after analyzing the graphs, it is observed that Surf plan users are the ones who, in a percentage, exceed their usage and end up paying more than the initial plan. Based on this conclusion, Megaline can be recommended to adjust its advertising budget to the Ultimate plan, as it generates more revenue and is also the most convenient option for users to avoid overconsumption.\n",
    "\n",
    "Regarding the project's main hypothesis, the alternative hypothesis is not rejected, meaning that the revenues for both users are different, while also considering that the revenues of users in the NY-NJ areas are different from those of the rest of the states."
   ]
  }
 ],
 "metadata": {
  "ExecuteTimeLog": [
   {
    "duration": 828,
    "start_time": "2021-11-16T09:21:11.304Z"
   },
   {
    "duration": 893,
    "start_time": "2021-11-16T09:21:17.728Z"
   },
   {
    "duration": 1150,
    "start_time": "2021-11-16T09:21:29.568Z"
   },
   {
    "duration": 3,
    "start_time": "2021-11-16T09:24:14.495Z"
   },
   {
    "duration": 120,
    "start_time": "2021-11-16T09:24:46.630Z"
   },
   {
    "duration": 3,
    "start_time": "2021-11-16T09:28:27.882Z"
   },
   {
    "duration": 4,
    "start_time": "2021-11-16T09:29:54.281Z"
   },
   {
    "duration": 3,
    "start_time": "2021-11-16T09:30:45.936Z"
   },
   {
    "duration": 4,
    "start_time": "2021-11-16T09:31:06.300Z"
   },
   {
    "duration": 113,
    "start_time": "2021-11-16T09:31:37.208Z"
   },
   {
    "duration": 143,
    "start_time": "2021-11-16T09:31:48.656Z"
   },
   {
    "duration": 98,
    "start_time": "2021-11-16T09:31:55.678Z"
   },
   {
    "duration": 3,
    "start_time": "2021-11-16T09:32:08.535Z"
   },
   {
    "duration": 111,
    "start_time": "2021-11-16T09:32:10.120Z"
   },
   {
    "duration": 3,
    "start_time": "2021-11-16T09:32:15.732Z"
   },
   {
    "duration": 4,
    "start_time": "2021-11-16T09:32:29.423Z"
   },
   {
    "duration": 3,
    "start_time": "2021-11-16T10:03:03.074Z"
   },
   {
    "duration": 3,
    "start_time": "2021-11-16T10:10:01.288Z"
   },
   {
    "duration": 3,
    "start_time": "2021-11-16T10:10:46.923Z"
   },
   {
    "duration": 121,
    "start_time": "2021-11-16T10:37:46.494Z"
   },
   {
    "duration": 125,
    "start_time": "2021-11-16T10:38:20.632Z"
   },
   {
    "duration": 112,
    "start_time": "2021-11-16T10:46:53.001Z"
   },
   {
    "duration": 110,
    "start_time": "2021-11-16T10:48:25.775Z"
   },
   {
    "duration": 3,
    "start_time": "2021-11-16T10:50:18.720Z"
   },
   {
    "duration": 4,
    "start_time": "2021-11-16T10:50:37.649Z"
   },
   {
    "duration": 2,
    "start_time": "2021-11-16T10:50:51.884Z"
   },
   {
    "duration": 3,
    "start_time": "2021-11-16T10:51:56.237Z"
   },
   {
    "duration": 101,
    "start_time": "2021-11-16T10:53:13.791Z"
   },
   {
    "duration": 3,
    "start_time": "2021-11-16T10:55:59.186Z"
   },
   {
    "duration": 3,
    "start_time": "2021-11-16T10:56:10.751Z"
   },
   {
    "duration": 3,
    "start_time": "2021-11-16T10:56:49.038Z"
   },
   {
    "duration": 3,
    "start_time": "2021-11-16T10:56:49.174Z"
   },
   {
    "duration": 4,
    "start_time": "2021-11-16T10:56:49.414Z"
   },
   {
    "duration": 3,
    "start_time": "2021-11-16T10:56:49.680Z"
   },
   {
    "duration": 3,
    "start_time": "2021-11-16T10:56:50.370Z"
   },
   {
    "duration": 114,
    "start_time": "2021-11-16T10:59:34.518Z"
   },
   {
    "duration": 3,
    "start_time": "2021-11-16T11:01:41.201Z"
   },
   {
    "duration": 116,
    "start_time": "2021-11-16T11:01:48.754Z"
   },
   {
    "duration": 3,
    "start_time": "2021-11-16T11:02:16.685Z"
   },
   {
    "duration": 3,
    "start_time": "2021-11-16T11:02:19.479Z"
   },
   {
    "duration": 3,
    "start_time": "2021-11-16T11:02:47.067Z"
   },
   {
    "duration": 3,
    "start_time": "2021-11-16T11:02:49.353Z"
   },
   {
    "duration": 3,
    "start_time": "2021-11-16T11:03:07.835Z"
   },
   {
    "duration": 3,
    "start_time": "2021-11-16T11:03:07.953Z"
   },
   {
    "duration": 112,
    "start_time": "2021-11-16T11:07:52.072Z"
   },
   {
    "duration": 187,
    "start_time": "2021-11-16T11:09:23.468Z"
   },
   {
    "duration": 4,
    "start_time": "2021-11-16T11:10:01.455Z"
   },
   {
    "duration": 3,
    "start_time": "2021-11-16T11:10:05.069Z"
   },
   {
    "duration": 4,
    "start_time": "2021-11-16T11:10:13.376Z"
   },
   {
    "duration": 3,
    "start_time": "2021-11-16T11:10:14.434Z"
   },
   {
    "duration": 3,
    "start_time": "2021-11-16T11:10:22.853Z"
   },
   {
    "duration": 4,
    "start_time": "2021-11-16T11:27:29.279Z"
   },
   {
    "duration": 4,
    "start_time": "2021-11-16T11:29:08.919Z"
   },
   {
    "duration": 118,
    "start_time": "2021-11-16T11:29:46.703Z"
   },
   {
    "duration": 437,
    "start_time": "2021-11-16T11:36:02.181Z"
   },
   {
    "duration": 157,
    "start_time": "2021-11-16T11:36:14.388Z"
   },
   {
    "duration": 207,
    "start_time": "2021-11-16T11:47:15.898Z"
   },
   {
    "duration": 3,
    "start_time": "2021-11-16T11:53:52.092Z"
   },
   {
    "duration": 3,
    "start_time": "2021-11-16T11:53:52.236Z"
   },
   {
    "duration": 3,
    "start_time": "2021-11-16T11:59:12.005Z"
   },
   {
    "duration": 112,
    "start_time": "2021-11-16T12:00:33.446Z"
   },
   {
    "duration": 3,
    "start_time": "2021-11-16T12:02:14.453Z"
   },
   {
    "duration": 3,
    "start_time": "2021-11-16T12:02:39.512Z"
   },
   {
    "duration": 106,
    "start_time": "2021-11-16T12:03:03.460Z"
   },
   {
    "duration": 3,
    "start_time": "2021-11-17T20:37:21.139Z"
   },
   {
    "duration": 3,
    "start_time": "2021-11-17T20:37:22.229Z"
   },
   {
    "duration": 3,
    "start_time": "2021-11-17T20:38:38.806Z"
   },
   {
    "duration": 3,
    "start_time": "2021-11-17T20:38:41.958Z"
   },
   {
    "duration": 3,
    "start_time": "2021-11-17T20:43:46.551Z"
   },
   {
    "duration": 4,
    "start_time": "2021-11-17T20:58:21.835Z"
   },
   {
    "duration": 3,
    "start_time": "2021-11-17T20:59:21.872Z"
   },
   {
    "duration": 4,
    "start_time": "2021-11-17T20:59:45.352Z"
   },
   {
    "duration": 4,
    "start_time": "2021-11-17T20:59:49.646Z"
   },
   {
    "duration": 159,
    "start_time": "2021-11-17T21:02:26.949Z"
   },
   {
    "duration": 3,
    "start_time": "2021-11-17T21:03:53.461Z"
   },
   {
    "duration": 3,
    "start_time": "2021-11-17T21:03:53.694Z"
   },
   {
    "duration": 3,
    "start_time": "2021-11-17T21:05:28.145Z"
   },
   {
    "duration": 116,
    "start_time": "2021-11-17T21:05:57.787Z"
   },
   {
    "duration": 3,
    "start_time": "2021-11-17T21:06:37.993Z"
   },
   {
    "duration": 3,
    "start_time": "2021-11-17T21:06:38.261Z"
   },
   {
    "duration": 3,
    "start_time": "2021-11-17T21:11:54.358Z"
   },
   {
    "duration": 3,
    "start_time": "2021-11-17T21:12:43.846Z"
   },
   {
    "duration": 4,
    "start_time": "2021-11-17T21:13:08.773Z"
   },
   {
    "duration": 3,
    "start_time": "2021-11-17T21:14:44.441Z"
   },
   {
    "duration": 3,
    "start_time": "2021-11-17T21:15:42.059Z"
   },
   {
    "duration": 4,
    "start_time": "2021-11-17T21:15:51.995Z"
   },
   {
    "duration": 3,
    "start_time": "2021-11-17T21:15:53.923Z"
   },
   {
    "duration": 3,
    "start_time": "2021-11-17T21:15:55.282Z"
   },
   {
    "duration": 3,
    "start_time": "2021-11-17T21:16:28.492Z"
   },
   {
    "duration": 3,
    "start_time": "2021-11-17T21:16:32.603Z"
   },
   {
    "duration": 3,
    "start_time": "2021-11-17T21:17:06.941Z"
   },
   {
    "duration": 98,
    "start_time": "2021-11-17T21:18:05.733Z"
   },
   {
    "duration": 4,
    "start_time": "2021-11-17T21:21:35.255Z"
   },
   {
    "duration": 3,
    "start_time": "2021-11-17T21:21:37.804Z"
   },
   {
    "duration": 4,
    "start_time": "2021-11-17T21:23:06.071Z"
   },
   {
    "duration": 3,
    "start_time": "2021-11-17T21:23:24.799Z"
   },
   {
    "duration": 3,
    "start_time": "2021-11-17T21:23:32.591Z"
   },
   {
    "duration": 98,
    "start_time": "2021-11-17T21:28:31.559Z"
   },
   {
    "duration": 3,
    "start_time": "2021-11-17T21:28:45.448Z"
   },
   {
    "duration": 3,
    "start_time": "2021-11-17T21:29:17.303Z"
   },
   {
    "duration": 3,
    "start_time": "2021-11-17T21:29:29.617Z"
   },
   {
    "duration": 3,
    "start_time": "2021-11-17T21:29:32.681Z"
   },
   {
    "duration": 3,
    "start_time": "2021-11-17T21:36:11.474Z"
   },
   {
    "duration": 3,
    "start_time": "2021-11-17T21:36:14.791Z"
   },
   {
    "duration": 3,
    "start_time": "2021-11-17T21:36:53.943Z"
   },
   {
    "duration": 3,
    "start_time": "2021-11-17T21:36:56.165Z"
   },
   {
    "duration": 4,
    "start_time": "2021-11-17T21:37:16.590Z"
   },
   {
    "duration": 3,
    "start_time": "2021-11-17T21:37:22.702Z"
   },
   {
    "duration": 4,
    "start_time": "2021-11-17T21:38:03.479Z"
   },
   {
    "duration": 3,
    "start_time": "2021-11-17T21:38:08.601Z"
   },
   {
    "duration": 3,
    "start_time": "2021-11-17T21:38:12.928Z"
   },
   {
    "duration": 3,
    "start_time": "2021-11-17T21:38:48.896Z"
   },
   {
    "duration": 2,
    "start_time": "2021-11-17T21:38:49.171Z"
   },
   {
    "duration": 4,
    "start_time": "2021-11-17T21:39:57.889Z"
   },
   {
    "duration": 3,
    "start_time": "2021-11-17T21:39:58.057Z"
   },
   {
    "duration": 3,
    "start_time": "2021-11-17T21:41:20.108Z"
   },
   {
    "duration": 3,
    "start_time": "2021-11-17T21:41:20.629Z"
   },
   {
    "duration": 3,
    "start_time": "2021-11-17T21:42:49.136Z"
   },
   {
    "duration": 3,
    "start_time": "2021-11-17T21:43:15.137Z"
   },
   {
    "duration": 4,
    "start_time": "2021-11-17T21:43:16.766Z"
   },
   {
    "duration": 4,
    "start_time": "2021-11-17T21:43:31.711Z"
   },
   {
    "duration": 3,
    "start_time": "2021-11-17T21:43:36.312Z"
   },
   {
    "duration": 4,
    "start_time": "2021-11-17T21:45:08.825Z"
   },
   {
    "duration": 4,
    "start_time": "2021-11-17T21:45:10.119Z"
   },
   {
    "duration": 4,
    "start_time": "2021-11-17T21:45:13.748Z"
   },
   {
    "duration": 3,
    "start_time": "2021-11-17T21:45:22.219Z"
   },
   {
    "duration": 3,
    "start_time": "2021-11-17T21:45:33.412Z"
   },
   {
    "duration": 2,
    "start_time": "2021-11-17T21:46:01.885Z"
   },
   {
    "duration": 3,
    "start_time": "2021-11-17T21:46:03.628Z"
   },
   {
    "duration": 107,
    "start_time": "2021-11-17T21:47:32.512Z"
   },
   {
    "duration": 103,
    "start_time": "2021-11-17T21:50:36.243Z"
   },
   {
    "duration": 3,
    "start_time": "2021-11-18T06:28:31.440Z"
   },
   {
    "duration": 3,
    "start_time": "2021-11-18T06:29:00.168Z"
   },
   {
    "duration": 3,
    "start_time": "2021-11-18T06:31:27.008Z"
   },
   {
    "duration": 2,
    "start_time": "2021-11-18T06:35:34.288Z"
   },
   {
    "duration": 2,
    "start_time": "2021-11-18T06:38:04.527Z"
   },
   {
    "duration": 635,
    "start_time": "2024-09-07T21:44:23.920Z"
   },
   {
    "duration": 788,
    "start_time": "2024-09-07T21:49:32.147Z"
   },
   {
    "duration": 156,
    "start_time": "2024-09-07T21:49:41.357Z"
   },
   {
    "duration": 10,
    "start_time": "2024-09-07T21:50:18.290Z"
   },
   {
    "duration": 6,
    "start_time": "2024-09-07T21:50:51.849Z"
   },
   {
    "duration": 6,
    "start_time": "2024-09-07T21:51:03.668Z"
   },
   {
    "duration": 8,
    "start_time": "2024-09-07T21:57:32.600Z"
   },
   {
    "duration": 5,
    "start_time": "2024-09-07T21:57:43.669Z"
   },
   {
    "duration": 7,
    "start_time": "2024-09-07T21:57:47.365Z"
   },
   {
    "duration": 6,
    "start_time": "2024-09-07T21:57:52.684Z"
   },
   {
    "duration": 235,
    "start_time": "2024-09-10T02:14:46.939Z"
   },
   {
    "duration": 791,
    "start_time": "2024-09-10T02:14:55.218Z"
   },
   {
    "duration": 410,
    "start_time": "2024-09-10T02:14:56.012Z"
   },
   {
    "duration": 11,
    "start_time": "2024-09-10T02:14:56.424Z"
   },
   {
    "duration": 5,
    "start_time": "2024-09-10T02:14:56.437Z"
   },
   {
    "duration": 7,
    "start_time": "2024-09-10T02:14:56.445Z"
   },
   {
    "duration": 6,
    "start_time": "2024-09-10T02:14:56.454Z"
   },
   {
    "duration": 5,
    "start_time": "2024-09-10T02:14:56.462Z"
   },
   {
    "duration": 2,
    "start_time": "2024-09-10T02:14:56.469Z"
   },
   {
    "duration": 3,
    "start_time": "2024-09-10T02:14:56.472Z"
   },
   {
    "duration": 10,
    "start_time": "2024-09-10T02:14:56.476Z"
   },
   {
    "duration": 5,
    "start_time": "2024-09-10T02:14:56.488Z"
   },
   {
    "duration": 2,
    "start_time": "2024-09-10T02:14:56.495Z"
   },
   {
    "duration": 16,
    "start_time": "2024-09-10T02:14:56.498Z"
   },
   {
    "duration": 6,
    "start_time": "2024-09-10T02:14:56.529Z"
   },
   {
    "duration": 2,
    "start_time": "2024-09-10T02:14:56.537Z"
   },
   {
    "duration": 2,
    "start_time": "2024-09-10T02:14:56.541Z"
   },
   {
    "duration": 2,
    "start_time": "2024-09-10T02:14:56.545Z"
   },
   {
    "duration": 3,
    "start_time": "2024-09-10T02:14:56.549Z"
   },
   {
    "duration": 2,
    "start_time": "2024-09-10T02:14:56.554Z"
   },
   {
    "duration": 2,
    "start_time": "2024-09-10T02:14:56.558Z"
   },
   {
    "duration": 2,
    "start_time": "2024-09-10T02:14:56.562Z"
   },
   {
    "duration": 2,
    "start_time": "2024-09-10T02:14:56.566Z"
   },
   {
    "duration": 2,
    "start_time": "2024-09-10T02:14:56.570Z"
   },
   {
    "duration": 7,
    "start_time": "2024-09-10T02:14:56.595Z"
   },
   {
    "duration": 4,
    "start_time": "2024-09-10T02:14:56.603Z"
   },
   {
    "duration": 3,
    "start_time": "2024-09-10T02:14:56.609Z"
   },
   {
    "duration": 4,
    "start_time": "2024-09-10T02:14:56.614Z"
   },
   {
    "duration": 5,
    "start_time": "2024-09-10T02:14:56.620Z"
   },
   {
    "duration": 3,
    "start_time": "2024-09-10T02:14:56.627Z"
   },
   {
    "duration": 5,
    "start_time": "2024-09-10T02:19:56.930Z"
   },
   {
    "duration": 136,
    "start_time": "2024-09-10T02:20:12.231Z"
   },
   {
    "duration": 17,
    "start_time": "2024-09-10T02:20:18.668Z"
   },
   {
    "duration": 410,
    "start_time": "2024-09-10T02:21:32.511Z"
   },
   {
    "duration": 24,
    "start_time": "2024-09-10T02:22:26.686Z"
   },
   {
    "duration": 19,
    "start_time": "2024-09-10T02:23:20.937Z"
   },
   {
    "duration": 6,
    "start_time": "2024-09-10T02:23:35.866Z"
   },
   {
    "duration": 15,
    "start_time": "2024-09-10T02:24:03.016Z"
   },
   {
    "duration": 6,
    "start_time": "2024-09-10T02:25:09.760Z"
   },
   {
    "duration": 18,
    "start_time": "2024-09-10T02:44:04.560Z"
   },
   {
    "duration": 20,
    "start_time": "2024-09-10T02:45:27.116Z"
   },
   {
    "duration": 34,
    "start_time": "2024-09-10T02:47:13.599Z"
   },
   {
    "duration": 15,
    "start_time": "2024-09-10T02:47:53.258Z"
   },
   {
    "duration": 11,
    "start_time": "2024-09-10T02:48:15.493Z"
   },
   {
    "duration": 19,
    "start_time": "2024-09-10T02:48:37.323Z"
   },
   {
    "duration": 18,
    "start_time": "2024-09-10T02:48:58.892Z"
   },
   {
    "duration": 18,
    "start_time": "2024-09-10T02:50:58.946Z"
   },
   {
    "duration": 622,
    "start_time": "2024-09-11T00:34:48.684Z"
   },
   {
    "duration": 241,
    "start_time": "2024-09-11T00:34:49.309Z"
   },
   {
    "duration": 9,
    "start_time": "2024-09-11T00:34:49.552Z"
   },
   {
    "duration": 5,
    "start_time": "2024-09-11T00:34:49.564Z"
   },
   {
    "duration": 7,
    "start_time": "2024-09-11T00:34:49.571Z"
   },
   {
    "duration": 5,
    "start_time": "2024-09-11T00:34:49.579Z"
   },
   {
    "duration": 5,
    "start_time": "2024-09-11T00:34:49.586Z"
   },
   {
    "duration": 8,
    "start_time": "2024-09-11T00:34:49.593Z"
   },
   {
    "duration": 14,
    "start_time": "2024-09-11T00:34:49.603Z"
   },
   {
    "duration": 12,
    "start_time": "2024-09-11T00:34:49.621Z"
   },
   {
    "duration": 58,
    "start_time": "2024-09-11T00:34:49.635Z"
   },
   {
    "duration": 12,
    "start_time": "2024-09-11T00:34:49.695Z"
   },
   {
    "duration": 9,
    "start_time": "2024-09-11T00:34:49.709Z"
   },
   {
    "duration": 16,
    "start_time": "2024-09-11T00:34:49.720Z"
   },
   {
    "duration": 2,
    "start_time": "2024-09-11T00:34:49.738Z"
   },
   {
    "duration": 3,
    "start_time": "2024-09-11T00:34:49.741Z"
   },
   {
    "duration": 27,
    "start_time": "2024-09-11T00:34:49.745Z"
   },
   {
    "duration": 2,
    "start_time": "2024-09-11T00:34:49.774Z"
   },
   {
    "duration": 2,
    "start_time": "2024-09-11T00:34:49.778Z"
   },
   {
    "duration": 2,
    "start_time": "2024-09-11T00:34:49.783Z"
   },
   {
    "duration": 3,
    "start_time": "2024-09-11T00:34:49.786Z"
   },
   {
    "duration": 3,
    "start_time": "2024-09-11T00:34:49.791Z"
   },
   {
    "duration": 2,
    "start_time": "2024-09-11T00:34:49.796Z"
   },
   {
    "duration": 3,
    "start_time": "2024-09-11T00:34:49.799Z"
   },
   {
    "duration": 6,
    "start_time": "2024-09-11T00:34:49.804Z"
   },
   {
    "duration": 2,
    "start_time": "2024-09-11T00:34:49.812Z"
   },
   {
    "duration": 2,
    "start_time": "2024-09-11T00:34:49.816Z"
   },
   {
    "duration": 49,
    "start_time": "2024-09-11T00:34:49.822Z"
   },
   {
    "duration": 3,
    "start_time": "2024-09-11T00:34:49.873Z"
   },
   {
    "duration": 3,
    "start_time": "2024-09-11T00:34:49.877Z"
   },
   {
    "duration": 2,
    "start_time": "2024-09-11T00:34:49.882Z"
   },
   {
    "duration": 2,
    "start_time": "2024-09-11T00:34:49.886Z"
   },
   {
    "duration": 14,
    "start_time": "2024-09-11T00:35:08.461Z"
   },
   {
    "duration": 17,
    "start_time": "2024-09-11T00:35:57.255Z"
   },
   {
    "duration": 20,
    "start_time": "2024-09-11T00:37:14.400Z"
   },
   {
    "duration": 5,
    "start_time": "2024-09-11T00:37:40.740Z"
   },
   {
    "duration": 13,
    "start_time": "2024-09-11T00:50:07.146Z"
   },
   {
    "duration": 256,
    "start_time": "2024-09-11T00:53:42.857Z"
   },
   {
    "duration": 16,
    "start_time": "2024-09-11T00:53:45.714Z"
   },
   {
    "duration": 23,
    "start_time": "2024-09-11T00:55:54.619Z"
   },
   {
    "duration": 23,
    "start_time": "2024-09-11T00:56:14.697Z"
   },
   {
    "duration": 14,
    "start_time": "2024-09-11T00:56:36.710Z"
   },
   {
    "duration": 20,
    "start_time": "2024-09-11T01:08:09.927Z"
   },
   {
    "duration": 11,
    "start_time": "2024-09-11T01:09:02.687Z"
   },
   {
    "duration": 16,
    "start_time": "2024-09-11T01:22:05.065Z"
   },
   {
    "duration": 10,
    "start_time": "2024-09-11T01:22:16.593Z"
   },
   {
    "duration": 11,
    "start_time": "2024-09-11T01:22:25.438Z"
   },
   {
    "duration": 8,
    "start_time": "2024-09-11T01:22:54.945Z"
   },
   {
    "duration": 13,
    "start_time": "2024-09-11T01:26:00.663Z"
   },
   {
    "duration": 10,
    "start_time": "2024-09-11T01:41:09.458Z"
   },
   {
    "duration": 12,
    "start_time": "2024-09-11T01:42:24.943Z"
   },
   {
    "duration": 7,
    "start_time": "2024-09-11T01:49:37.156Z"
   },
   {
    "duration": 17,
    "start_time": "2024-09-11T01:52:25.714Z"
   },
   {
    "duration": 18,
    "start_time": "2024-09-11T01:54:21.514Z"
   },
   {
    "duration": 16,
    "start_time": "2024-09-11T01:54:51.064Z"
   },
   {
    "duration": 17,
    "start_time": "2024-09-11T01:56:57.414Z"
   },
   {
    "duration": 18,
    "start_time": "2024-09-11T01:57:23.425Z"
   },
   {
    "duration": 18,
    "start_time": "2024-09-11T02:06:54.104Z"
   },
   {
    "duration": 17,
    "start_time": "2024-09-11T02:07:16.402Z"
   },
   {
    "duration": 18,
    "start_time": "2024-09-11T02:07:29.076Z"
   },
   {
    "duration": 159,
    "start_time": "2024-09-11T20:18:49.729Z"
   },
   {
    "duration": 633,
    "start_time": "2024-09-11T20:21:04.568Z"
   },
   {
    "duration": 235,
    "start_time": "2024-09-11T20:21:05.203Z"
   },
   {
    "duration": 9,
    "start_time": "2024-09-11T20:21:05.440Z"
   },
   {
    "duration": 6,
    "start_time": "2024-09-11T20:21:05.451Z"
   },
   {
    "duration": 7,
    "start_time": "2024-09-11T20:21:05.459Z"
   },
   {
    "duration": 6,
    "start_time": "2024-09-11T20:21:05.470Z"
   },
   {
    "duration": 6,
    "start_time": "2024-09-11T20:21:05.477Z"
   },
   {
    "duration": 9,
    "start_time": "2024-09-11T20:21:05.484Z"
   },
   {
    "duration": 15,
    "start_time": "2024-09-11T20:21:05.494Z"
   },
   {
    "duration": 12,
    "start_time": "2024-09-11T20:21:05.512Z"
   },
   {
    "duration": 59,
    "start_time": "2024-09-11T20:21:05.525Z"
   },
   {
    "duration": 4,
    "start_time": "2024-09-11T20:21:05.585Z"
   },
   {
    "duration": 12,
    "start_time": "2024-09-11T20:21:05.591Z"
   },
   {
    "duration": 8,
    "start_time": "2024-09-11T20:21:05.604Z"
   },
   {
    "duration": 17,
    "start_time": "2024-09-11T20:21:05.614Z"
   },
   {
    "duration": 41,
    "start_time": "2024-09-11T20:21:05.632Z"
   },
   {
    "duration": 21,
    "start_time": "2024-09-11T20:21:05.674Z"
   },
   {
    "duration": 21,
    "start_time": "2024-09-11T20:21:05.697Z"
   },
   {
    "duration": 5,
    "start_time": "2024-09-11T20:21:05.720Z"
   },
   {
    "duration": 44,
    "start_time": "2024-09-11T20:21:05.726Z"
   },
   {
    "duration": 14,
    "start_time": "2024-09-11T20:21:05.772Z"
   },
   {
    "duration": 15,
    "start_time": "2024-09-11T20:21:05.789Z"
   },
   {
    "duration": 16,
    "start_time": "2024-09-11T20:21:05.807Z"
   },
   {
    "duration": 45,
    "start_time": "2024-09-11T20:21:05.825Z"
   },
   {
    "duration": 2,
    "start_time": "2024-09-11T20:21:05.872Z"
   },
   {
    "duration": 3,
    "start_time": "2024-09-11T20:21:05.875Z"
   },
   {
    "duration": 3,
    "start_time": "2024-09-11T20:21:05.879Z"
   },
   {
    "duration": 2,
    "start_time": "2024-09-11T20:21:05.885Z"
   },
   {
    "duration": 3,
    "start_time": "2024-09-11T20:21:05.888Z"
   },
   {
    "duration": 2,
    "start_time": "2024-09-11T20:21:05.893Z"
   },
   {
    "duration": 2,
    "start_time": "2024-09-11T20:21:05.897Z"
   },
   {
    "duration": 2,
    "start_time": "2024-09-11T20:21:05.901Z"
   },
   {
    "duration": 2,
    "start_time": "2024-09-11T20:21:05.905Z"
   },
   {
    "duration": 2,
    "start_time": "2024-09-11T20:21:05.909Z"
   },
   {
    "duration": 14,
    "start_time": "2024-09-11T20:21:39.416Z"
   },
   {
    "duration": 23,
    "start_time": "2024-09-11T20:23:54.404Z"
   },
   {
    "duration": 9,
    "start_time": "2024-09-11T20:24:00.802Z"
   },
   {
    "duration": 4,
    "start_time": "2024-09-11T20:48:20.122Z"
   },
   {
    "duration": 623,
    "start_time": "2024-09-11T22:21:18.131Z"
   },
   {
    "duration": 253,
    "start_time": "2024-09-11T22:21:18.756Z"
   },
   {
    "duration": 11,
    "start_time": "2024-09-11T22:21:19.010Z"
   },
   {
    "duration": 6,
    "start_time": "2024-09-11T22:21:19.023Z"
   },
   {
    "duration": 9,
    "start_time": "2024-09-11T22:21:19.030Z"
   },
   {
    "duration": 5,
    "start_time": "2024-09-11T22:21:19.041Z"
   },
   {
    "duration": 5,
    "start_time": "2024-09-11T22:21:19.048Z"
   },
   {
    "duration": 9,
    "start_time": "2024-09-11T22:21:19.055Z"
   },
   {
    "duration": 57,
    "start_time": "2024-09-11T22:21:19.065Z"
   },
   {
    "duration": 15,
    "start_time": "2024-09-11T22:21:19.125Z"
   },
   {
    "duration": 25,
    "start_time": "2024-09-11T22:21:19.142Z"
   },
   {
    "duration": 3,
    "start_time": "2024-09-11T22:21:19.168Z"
   },
   {
    "duration": 11,
    "start_time": "2024-09-11T22:21:19.172Z"
   },
   {
    "duration": 36,
    "start_time": "2024-09-11T22:21:19.185Z"
   },
   {
    "duration": 10,
    "start_time": "2024-09-11T22:21:19.222Z"
   },
   {
    "duration": 16,
    "start_time": "2024-09-11T22:21:19.233Z"
   },
   {
    "duration": 13,
    "start_time": "2024-09-11T22:21:19.251Z"
   },
   {
    "duration": 18,
    "start_time": "2024-09-11T22:21:19.267Z"
   },
   {
    "duration": 28,
    "start_time": "2024-09-11T22:21:19.312Z"
   },
   {
    "duration": 6,
    "start_time": "2024-09-11T22:21:19.341Z"
   },
   {
    "duration": 19,
    "start_time": "2024-09-11T22:21:19.349Z"
   },
   {
    "duration": 10,
    "start_time": "2024-09-11T22:21:19.370Z"
   },
   {
    "duration": 41,
    "start_time": "2024-09-11T22:21:19.382Z"
   },
   {
    "duration": 13,
    "start_time": "2024-09-11T22:21:19.425Z"
   },
   {
    "duration": 17,
    "start_time": "2024-09-11T22:21:19.440Z"
   },
   {
    "duration": 2,
    "start_time": "2024-09-11T22:21:19.459Z"
   },
   {
    "duration": 3,
    "start_time": "2024-09-11T22:21:19.462Z"
   },
   {
    "duration": 2,
    "start_time": "2024-09-11T22:21:19.470Z"
   },
   {
    "duration": 37,
    "start_time": "2024-09-11T22:21:19.474Z"
   },
   {
    "duration": 2,
    "start_time": "2024-09-11T22:21:19.513Z"
   },
   {
    "duration": 3,
    "start_time": "2024-09-11T22:21:19.517Z"
   },
   {
    "duration": 2,
    "start_time": "2024-09-11T22:21:19.522Z"
   },
   {
    "duration": 2,
    "start_time": "2024-09-11T22:21:19.526Z"
   },
   {
    "duration": 2,
    "start_time": "2024-09-11T22:21:19.530Z"
   },
   {
    "duration": 3,
    "start_time": "2024-09-11T22:21:19.534Z"
   },
   {
    "duration": 13,
    "start_time": "2024-09-11T22:21:58.007Z"
   },
   {
    "duration": 9,
    "start_time": "2024-09-11T22:26:32.900Z"
   },
   {
    "duration": 20,
    "start_time": "2024-09-11T22:26:39.760Z"
   },
   {
    "duration": 8,
    "start_time": "2024-09-11T22:35:01.755Z"
   },
   {
    "duration": 246,
    "start_time": "2024-09-11T22:35:18.991Z"
   },
   {
    "duration": 11,
    "start_time": "2024-09-11T22:35:23.476Z"
   },
   {
    "duration": 8,
    "start_time": "2024-09-11T22:42:38.475Z"
   },
   {
    "duration": 7,
    "start_time": "2024-09-11T22:51:53.269Z"
   },
   {
    "duration": 13,
    "start_time": "2024-09-11T22:51:56.879Z"
   },
   {
    "duration": 7,
    "start_time": "2024-09-11T22:52:05.565Z"
   },
   {
    "duration": 14,
    "start_time": "2024-09-11T22:53:02.108Z"
   },
   {
    "duration": 5,
    "start_time": "2024-09-11T22:53:19.677Z"
   },
   {
    "duration": 4,
    "start_time": "2024-09-11T22:53:32.693Z"
   },
   {
    "duration": 4,
    "start_time": "2024-09-11T22:53:59.955Z"
   },
   {
    "duration": 4,
    "start_time": "2024-09-11T22:54:07.073Z"
   },
   {
    "duration": 28,
    "start_time": "2024-09-11T22:54:34.633Z"
   },
   {
    "duration": 23,
    "start_time": "2024-09-11T22:55:00.480Z"
   },
   {
    "duration": 24,
    "start_time": "2024-09-11T22:56:07.996Z"
   },
   {
    "duration": 10,
    "start_time": "2024-09-11T22:56:16.253Z"
   },
   {
    "duration": 27,
    "start_time": "2024-09-11T22:56:28.926Z"
   },
   {
    "duration": 9,
    "start_time": "2024-09-11T23:07:19.244Z"
   },
   {
    "duration": 5,
    "start_time": "2024-09-11T23:07:25.373Z"
   },
   {
    "duration": 7,
    "start_time": "2024-09-11T23:11:47.153Z"
   },
   {
    "duration": 6,
    "start_time": "2024-09-11T23:16:35.702Z"
   },
   {
    "duration": 7,
    "start_time": "2024-09-11T23:16:50.519Z"
   },
   {
    "duration": 157,
    "start_time": "2024-09-12T21:40:07.763Z"
   },
   {
    "duration": 559,
    "start_time": "2024-09-12T21:40:18.486Z"
   },
   {
    "duration": 282,
    "start_time": "2024-09-12T21:40:19.047Z"
   },
   {
    "duration": 10,
    "start_time": "2024-09-12T21:40:19.331Z"
   },
   {
    "duration": 6,
    "start_time": "2024-09-12T21:40:19.344Z"
   },
   {
    "duration": 7,
    "start_time": "2024-09-12T21:40:19.352Z"
   },
   {
    "duration": 6,
    "start_time": "2024-09-12T21:40:19.360Z"
   },
   {
    "duration": 5,
    "start_time": "2024-09-12T21:40:19.367Z"
   },
   {
    "duration": 33,
    "start_time": "2024-09-12T21:40:19.374Z"
   },
   {
    "duration": 15,
    "start_time": "2024-09-12T21:40:19.409Z"
   },
   {
    "duration": 11,
    "start_time": "2024-09-12T21:40:19.428Z"
   },
   {
    "duration": 25,
    "start_time": "2024-09-12T21:40:19.441Z"
   },
   {
    "duration": 3,
    "start_time": "2024-09-12T21:40:19.468Z"
   },
   {
    "duration": 46,
    "start_time": "2024-09-12T21:40:19.473Z"
   },
   {
    "duration": 12,
    "start_time": "2024-09-12T21:40:19.521Z"
   },
   {
    "duration": 8,
    "start_time": "2024-09-12T21:40:19.535Z"
   },
   {
    "duration": 15,
    "start_time": "2024-09-12T21:40:19.545Z"
   },
   {
    "duration": 13,
    "start_time": "2024-09-12T21:40:19.562Z"
   },
   {
    "duration": 18,
    "start_time": "2024-09-12T21:40:19.605Z"
   },
   {
    "duration": 19,
    "start_time": "2024-09-12T21:40:19.625Z"
   },
   {
    "duration": 5,
    "start_time": "2024-09-12T21:40:19.646Z"
   },
   {
    "duration": 19,
    "start_time": "2024-09-12T21:40:19.652Z"
   },
   {
    "duration": 40,
    "start_time": "2024-09-12T21:40:19.673Z"
   },
   {
    "duration": 12,
    "start_time": "2024-09-12T21:40:19.714Z"
   },
   {
    "duration": 13,
    "start_time": "2024-09-12T21:40:19.728Z"
   },
   {
    "duration": 17,
    "start_time": "2024-09-12T21:40:19.743Z"
   },
   {
    "duration": 51,
    "start_time": "2024-09-12T21:40:19.762Z"
   },
   {
    "duration": 6,
    "start_time": "2024-09-12T21:40:19.815Z"
   },
   {
    "duration": 5,
    "start_time": "2024-09-12T21:40:19.826Z"
   },
   {
    "duration": 2,
    "start_time": "2024-09-12T21:40:19.833Z"
   },
   {
    "duration": 2,
    "start_time": "2024-09-12T21:40:19.837Z"
   },
   {
    "duration": 2,
    "start_time": "2024-09-12T21:40:19.841Z"
   },
   {
    "duration": 3,
    "start_time": "2024-09-12T21:40:19.844Z"
   },
   {
    "duration": 2,
    "start_time": "2024-09-12T21:40:19.849Z"
   },
   {
    "duration": 2,
    "start_time": "2024-09-12T21:40:19.854Z"
   },
   {
    "duration": 2,
    "start_time": "2024-09-12T21:40:19.858Z"
   },
   {
    "duration": 641,
    "start_time": "2024-09-13T22:39:23.203Z"
   },
   {
    "duration": 239,
    "start_time": "2024-09-13T22:39:23.847Z"
   },
   {
    "duration": 10,
    "start_time": "2024-09-13T22:39:24.088Z"
   },
   {
    "duration": 7,
    "start_time": "2024-09-13T22:39:24.101Z"
   },
   {
    "duration": 9,
    "start_time": "2024-09-13T22:39:24.110Z"
   },
   {
    "duration": 5,
    "start_time": "2024-09-13T22:39:24.121Z"
   },
   {
    "duration": 6,
    "start_time": "2024-09-13T22:39:24.128Z"
   },
   {
    "duration": 9,
    "start_time": "2024-09-13T22:39:24.135Z"
   },
   {
    "duration": 54,
    "start_time": "2024-09-13T22:39:24.146Z"
   },
   {
    "duration": 12,
    "start_time": "2024-09-13T22:39:24.204Z"
   },
   {
    "duration": 26,
    "start_time": "2024-09-13T22:39:24.218Z"
   },
   {
    "duration": 3,
    "start_time": "2024-09-13T22:39:24.246Z"
   },
   {
    "duration": 38,
    "start_time": "2024-09-13T22:39:24.251Z"
   },
   {
    "duration": 12,
    "start_time": "2024-09-13T22:39:24.291Z"
   },
   {
    "duration": 9,
    "start_time": "2024-09-13T22:39:24.304Z"
   },
   {
    "duration": 17,
    "start_time": "2024-09-13T22:39:24.315Z"
   },
   {
    "duration": 14,
    "start_time": "2024-09-13T22:39:24.333Z"
   },
   {
    "duration": 52,
    "start_time": "2024-09-13T22:39:24.348Z"
   },
   {
    "duration": 21,
    "start_time": "2024-09-13T22:39:24.401Z"
   },
   {
    "duration": 4,
    "start_time": "2024-09-13T22:39:24.425Z"
   },
   {
    "duration": 20,
    "start_time": "2024-09-13T22:39:24.432Z"
   },
   {
    "duration": 36,
    "start_time": "2024-09-13T22:39:24.454Z"
   },
   {
    "duration": 13,
    "start_time": "2024-09-13T22:39:24.492Z"
   },
   {
    "duration": 15,
    "start_time": "2024-09-13T22:39:24.507Z"
   },
   {
    "duration": 19,
    "start_time": "2024-09-13T22:39:24.523Z"
   },
   {
    "duration": 54,
    "start_time": "2024-09-13T22:39:24.545Z"
   },
   {
    "duration": 250,
    "start_time": "2024-09-13T22:39:24.601Z"
   },
   {
    "duration": 0,
    "start_time": "2024-09-13T22:39:24.853Z"
   },
   {
    "duration": 0,
    "start_time": "2024-09-13T22:39:24.854Z"
   },
   {
    "duration": 0,
    "start_time": "2024-09-13T22:39:24.856Z"
   },
   {
    "duration": 0,
    "start_time": "2024-09-13T22:39:24.857Z"
   },
   {
    "duration": 0,
    "start_time": "2024-09-13T22:39:24.858Z"
   },
   {
    "duration": 0,
    "start_time": "2024-09-13T22:39:24.860Z"
   },
   {
    "duration": 0,
    "start_time": "2024-09-13T22:39:24.861Z"
   },
   {
    "duration": 0,
    "start_time": "2024-09-13T22:39:24.863Z"
   },
   {
    "duration": 29,
    "start_time": "2024-09-13T22:44:33.674Z"
   },
   {
    "duration": 28,
    "start_time": "2024-09-13T22:45:37.673Z"
   },
   {
    "duration": 28,
    "start_time": "2024-09-13T22:47:16.770Z"
   },
   {
    "duration": 22,
    "start_time": "2024-09-13T22:47:58.355Z"
   },
   {
    "duration": 412,
    "start_time": "2024-09-13T22:54:41.377Z"
   },
   {
    "duration": 53,
    "start_time": "2024-09-13T22:54:48.059Z"
   },
   {
    "duration": 24,
    "start_time": "2024-09-13T22:55:01.624Z"
   },
   {
    "duration": 52,
    "start_time": "2024-09-13T22:55:56.171Z"
   },
   {
    "duration": 53,
    "start_time": "2024-09-13T22:56:20.310Z"
   },
   {
    "duration": 56,
    "start_time": "2024-09-13T22:56:34.321Z"
   },
   {
    "duration": 583,
    "start_time": "2024-09-13T22:57:00.956Z"
   },
   {
    "duration": 166,
    "start_time": "2024-09-13T22:57:01.542Z"
   },
   {
    "duration": 10,
    "start_time": "2024-09-13T22:57:01.710Z"
   },
   {
    "duration": 6,
    "start_time": "2024-09-13T22:57:01.722Z"
   },
   {
    "duration": 9,
    "start_time": "2024-09-13T22:57:01.731Z"
   },
   {
    "duration": 5,
    "start_time": "2024-09-13T22:57:01.742Z"
   },
   {
    "duration": 6,
    "start_time": "2024-09-13T22:57:01.749Z"
   },
   {
    "duration": 38,
    "start_time": "2024-09-13T22:57:01.757Z"
   },
   {
    "duration": 15,
    "start_time": "2024-09-13T22:57:01.796Z"
   },
   {
    "duration": 15,
    "start_time": "2024-09-13T22:57:01.813Z"
   },
   {
    "duration": 25,
    "start_time": "2024-09-13T22:57:01.829Z"
   },
   {
    "duration": 4,
    "start_time": "2024-09-13T22:57:01.855Z"
   },
   {
    "duration": 39,
    "start_time": "2024-09-13T22:57:01.860Z"
   },
   {
    "duration": 12,
    "start_time": "2024-09-13T22:57:01.902Z"
   },
   {
    "duration": 9,
    "start_time": "2024-09-13T22:57:01.915Z"
   },
   {
    "duration": 16,
    "start_time": "2024-09-13T22:57:01.926Z"
   },
   {
    "duration": 48,
    "start_time": "2024-09-13T22:57:01.944Z"
   },
   {
    "duration": 18,
    "start_time": "2024-09-13T22:57:01.993Z"
   },
   {
    "duration": 20,
    "start_time": "2024-09-13T22:57:02.013Z"
   },
   {
    "duration": 5,
    "start_time": "2024-09-13T22:57:02.035Z"
   },
   {
    "duration": 46,
    "start_time": "2024-09-13T22:57:02.041Z"
   },
   {
    "duration": 11,
    "start_time": "2024-09-13T22:57:02.089Z"
   },
   {
    "duration": 14,
    "start_time": "2024-09-13T22:57:02.101Z"
   },
   {
    "duration": 14,
    "start_time": "2024-09-13T22:57:02.116Z"
   },
   {
    "duration": 18,
    "start_time": "2024-09-13T22:57:02.132Z"
   },
   {
    "duration": 51,
    "start_time": "2024-09-13T22:57:02.152Z"
   },
   {
    "duration": 256,
    "start_time": "2024-09-13T22:57:02.205Z"
   },
   {
    "duration": 0,
    "start_time": "2024-09-13T22:57:02.462Z"
   },
   {
    "duration": 0,
    "start_time": "2024-09-13T22:57:02.463Z"
   },
   {
    "duration": 0,
    "start_time": "2024-09-13T22:57:02.465Z"
   },
   {
    "duration": 0,
    "start_time": "2024-09-13T22:57:02.466Z"
   },
   {
    "duration": 0,
    "start_time": "2024-09-13T22:57:02.467Z"
   },
   {
    "duration": 0,
    "start_time": "2024-09-13T22:57:02.468Z"
   },
   {
    "duration": 0,
    "start_time": "2024-09-13T22:57:02.469Z"
   },
   {
    "duration": 0,
    "start_time": "2024-09-13T22:57:02.470Z"
   },
   {
    "duration": 23,
    "start_time": "2024-09-13T22:58:44.154Z"
   },
   {
    "duration": 18,
    "start_time": "2024-09-13T22:59:00.499Z"
   },
   {
    "duration": 406,
    "start_time": "2024-09-13T22:59:07.066Z"
   },
   {
    "duration": 10,
    "start_time": "2024-09-13T23:00:04.083Z"
   },
   {
    "duration": 9,
    "start_time": "2024-09-13T23:08:03.035Z"
   },
   {
    "duration": 12,
    "start_time": "2024-09-13T23:08:19.706Z"
   },
   {
    "duration": 581,
    "start_time": "2024-09-13T23:22:09.544Z"
   },
   {
    "duration": 155,
    "start_time": "2024-09-13T23:22:10.128Z"
   },
   {
    "duration": 11,
    "start_time": "2024-09-13T23:22:10.285Z"
   },
   {
    "duration": 6,
    "start_time": "2024-09-13T23:22:10.299Z"
   },
   {
    "duration": 11,
    "start_time": "2024-09-13T23:22:10.307Z"
   },
   {
    "duration": 6,
    "start_time": "2024-09-13T23:22:10.320Z"
   },
   {
    "duration": 6,
    "start_time": "2024-09-13T23:22:10.328Z"
   },
   {
    "duration": 11,
    "start_time": "2024-09-13T23:22:10.336Z"
   },
   {
    "duration": 52,
    "start_time": "2024-09-13T23:22:10.349Z"
   },
   {
    "duration": 12,
    "start_time": "2024-09-13T23:22:10.405Z"
   },
   {
    "duration": 26,
    "start_time": "2024-09-13T23:22:10.419Z"
   },
   {
    "duration": 4,
    "start_time": "2024-09-13T23:22:10.446Z"
   },
   {
    "duration": 37,
    "start_time": "2024-09-13T23:22:10.451Z"
   },
   {
    "duration": 12,
    "start_time": "2024-09-13T23:22:10.489Z"
   },
   {
    "duration": 9,
    "start_time": "2024-09-13T23:22:10.502Z"
   },
   {
    "duration": 16,
    "start_time": "2024-09-13T23:22:10.513Z"
   },
   {
    "duration": 13,
    "start_time": "2024-09-13T23:22:10.531Z"
   },
   {
    "duration": 46,
    "start_time": "2024-09-13T23:22:10.546Z"
   },
   {
    "duration": 20,
    "start_time": "2024-09-13T23:22:10.594Z"
   },
   {
    "duration": 4,
    "start_time": "2024-09-13T23:22:10.616Z"
   },
   {
    "duration": 20,
    "start_time": "2024-09-13T23:22:10.622Z"
   },
   {
    "duration": 12,
    "start_time": "2024-09-13T23:22:10.644Z"
   },
   {
    "duration": 12,
    "start_time": "2024-09-13T23:22:10.686Z"
   },
   {
    "duration": 12,
    "start_time": "2024-09-13T23:22:10.700Z"
   },
   {
    "duration": 19,
    "start_time": "2024-09-13T23:22:10.713Z"
   },
   {
    "duration": 24,
    "start_time": "2024-09-13T23:22:10.733Z"
   },
   {
    "duration": 10,
    "start_time": "2024-09-13T23:22:10.787Z"
   },
   {
    "duration": 5,
    "start_time": "2024-09-13T23:22:10.800Z"
   },
   {
    "duration": 2,
    "start_time": "2024-09-13T23:22:10.807Z"
   },
   {
    "duration": 2,
    "start_time": "2024-09-13T23:22:10.811Z"
   },
   {
    "duration": 2,
    "start_time": "2024-09-13T23:22:10.816Z"
   },
   {
    "duration": 3,
    "start_time": "2024-09-13T23:22:10.820Z"
   },
   {
    "duration": 3,
    "start_time": "2024-09-13T23:22:10.824Z"
   },
   {
    "duration": 2,
    "start_time": "2024-09-13T23:22:10.828Z"
   },
   {
    "duration": 2,
    "start_time": "2024-09-13T23:22:10.832Z"
   },
   {
    "duration": 12,
    "start_time": "2024-09-13T23:22:53.424Z"
   },
   {
    "duration": 19,
    "start_time": "2024-09-13T23:25:06.801Z"
   },
   {
    "duration": 12,
    "start_time": "2024-09-13T23:27:53.635Z"
   },
   {
    "duration": 8,
    "start_time": "2024-09-13T23:32:25.381Z"
   },
   {
    "duration": 12,
    "start_time": "2024-09-13T23:32:36.678Z"
   },
   {
    "duration": 5,
    "start_time": "2024-09-13T23:34:47.404Z"
   },
   {
    "duration": 466,
    "start_time": "2024-09-13T23:34:52.548Z"
   },
   {
    "duration": 1897,
    "start_time": "2024-09-13T23:37:34.493Z"
   },
   {
    "duration": 356,
    "start_time": "2024-09-13T23:44:31.963Z"
   },
   {
    "duration": 206,
    "start_time": "2024-09-13T23:45:08.814Z"
   },
   {
    "duration": 372,
    "start_time": "2024-09-13T23:45:16.881Z"
   },
   {
    "duration": 353,
    "start_time": "2024-09-13T23:46:16.420Z"
   },
   {
    "duration": 474,
    "start_time": "2024-09-13T23:52:08.132Z"
   },
   {
    "duration": 500,
    "start_time": "2024-09-13T23:52:21.067Z"
   },
   {
    "duration": 138,
    "start_time": "2024-09-14T00:07:07.272Z"
   },
   {
    "duration": 27,
    "start_time": "2024-09-14T00:10:06.560Z"
   },
   {
    "duration": 101,
    "start_time": "2024-09-14T00:10:37.245Z"
   },
   {
    "duration": 533,
    "start_time": "2024-09-14T00:11:00.892Z"
   },
   {
    "duration": 24,
    "start_time": "2024-09-14T00:11:03.781Z"
   },
   {
    "duration": 265,
    "start_time": "2024-09-14T00:13:49.709Z"
   },
   {
    "duration": 23,
    "start_time": "2024-09-14T00:16:37.847Z"
   },
   {
    "duration": 2464,
    "start_time": "2024-09-14T16:10:48.715Z"
   },
   {
    "duration": 230,
    "start_time": "2024-09-14T16:10:51.181Z"
   },
   {
    "duration": 9,
    "start_time": "2024-09-14T16:10:51.413Z"
   },
   {
    "duration": 5,
    "start_time": "2024-09-14T16:10:51.425Z"
   },
   {
    "duration": 8,
    "start_time": "2024-09-14T16:10:51.431Z"
   },
   {
    "duration": 5,
    "start_time": "2024-09-14T16:10:51.441Z"
   },
   {
    "duration": 23,
    "start_time": "2024-09-14T16:10:51.448Z"
   },
   {
    "duration": 9,
    "start_time": "2024-09-14T16:10:51.472Z"
   },
   {
    "duration": 15,
    "start_time": "2024-09-14T16:10:51.483Z"
   },
   {
    "duration": 16,
    "start_time": "2024-09-14T16:10:51.501Z"
   },
   {
    "duration": 59,
    "start_time": "2024-09-14T16:10:51.519Z"
   },
   {
    "duration": 4,
    "start_time": "2024-09-14T16:10:51.580Z"
   },
   {
    "duration": 13,
    "start_time": "2024-09-14T16:10:51.587Z"
   },
   {
    "duration": 14,
    "start_time": "2024-09-14T16:10:51.602Z"
   },
   {
    "duration": 8,
    "start_time": "2024-09-14T16:10:51.618Z"
   },
   {
    "duration": 42,
    "start_time": "2024-09-14T16:10:51.628Z"
   },
   {
    "duration": 13,
    "start_time": "2024-09-14T16:10:51.672Z"
   },
   {
    "duration": 16,
    "start_time": "2024-09-14T16:10:51.687Z"
   },
   {
    "duration": 20,
    "start_time": "2024-09-14T16:10:51.705Z"
   },
   {
    "duration": 4,
    "start_time": "2024-09-14T16:10:51.727Z"
   },
   {
    "duration": 48,
    "start_time": "2024-09-14T16:10:51.733Z"
   },
   {
    "duration": 12,
    "start_time": "2024-09-14T16:10:51.782Z"
   },
   {
    "duration": 14,
    "start_time": "2024-09-14T16:10:51.796Z"
   },
   {
    "duration": 12,
    "start_time": "2024-09-14T16:10:51.812Z"
   },
   {
    "duration": 45,
    "start_time": "2024-09-14T16:10:51.826Z"
   },
   {
    "duration": 24,
    "start_time": "2024-09-14T16:10:51.873Z"
   },
   {
    "duration": 9,
    "start_time": "2024-09-14T16:10:51.899Z"
   },
   {
    "duration": 591,
    "start_time": "2024-09-14T16:10:51.911Z"
   },
   {
    "duration": 133,
    "start_time": "2024-09-14T16:10:52.504Z"
   },
   {
    "duration": 0,
    "start_time": "2024-09-14T16:10:52.639Z"
   },
   {
    "duration": 0,
    "start_time": "2024-09-14T16:10:52.641Z"
   },
   {
    "duration": 0,
    "start_time": "2024-09-14T16:10:52.642Z"
   },
   {
    "duration": 0,
    "start_time": "2024-09-14T16:10:52.644Z"
   },
   {
    "duration": 0,
    "start_time": "2024-09-14T16:10:52.645Z"
   },
   {
    "duration": 0,
    "start_time": "2024-09-14T16:10:52.647Z"
   },
   {
    "duration": 128,
    "start_time": "2024-09-14T16:15:08.973Z"
   },
   {
    "duration": 316,
    "start_time": "2024-09-14T16:22:35.687Z"
   },
   {
    "duration": 334,
    "start_time": "2024-09-14T16:30:52.447Z"
   },
   {
    "duration": 314,
    "start_time": "2024-09-14T16:31:12.709Z"
   },
   {
    "duration": 11,
    "start_time": "2024-09-14T16:31:39.446Z"
   },
   {
    "duration": 62,
    "start_time": "2024-09-14T16:40:30.989Z"
   },
   {
    "duration": 7,
    "start_time": "2024-09-14T16:45:16.169Z"
   },
   {
    "duration": 2463,
    "start_time": "2024-09-14T18:58:53.918Z"
   },
   {
    "duration": 233,
    "start_time": "2024-09-14T18:58:56.383Z"
   },
   {
    "duration": 10,
    "start_time": "2024-09-14T18:58:56.618Z"
   },
   {
    "duration": 6,
    "start_time": "2024-09-14T18:58:56.631Z"
   },
   {
    "duration": 8,
    "start_time": "2024-09-14T18:58:56.640Z"
   },
   {
    "duration": 4,
    "start_time": "2024-09-14T18:58:56.650Z"
   },
   {
    "duration": 7,
    "start_time": "2024-09-14T18:58:56.656Z"
   },
   {
    "duration": 9,
    "start_time": "2024-09-14T18:58:56.665Z"
   },
   {
    "duration": 15,
    "start_time": "2024-09-14T18:58:56.675Z"
   },
   {
    "duration": 49,
    "start_time": "2024-09-14T18:58:56.694Z"
   },
   {
    "duration": 25,
    "start_time": "2024-09-14T18:58:56.745Z"
   },
   {
    "duration": 3,
    "start_time": "2024-09-14T18:58:56.772Z"
   },
   {
    "duration": 11,
    "start_time": "2024-09-14T18:58:56.777Z"
   },
   {
    "duration": 12,
    "start_time": "2024-09-14T18:58:56.789Z"
   },
   {
    "duration": 8,
    "start_time": "2024-09-14T18:58:56.803Z"
   },
   {
    "duration": 39,
    "start_time": "2024-09-14T18:58:56.818Z"
   },
   {
    "duration": 14,
    "start_time": "2024-09-14T18:58:56.859Z"
   },
   {
    "duration": 19,
    "start_time": "2024-09-14T18:58:56.875Z"
   },
   {
    "duration": 20,
    "start_time": "2024-09-14T18:58:56.896Z"
   },
   {
    "duration": 5,
    "start_time": "2024-09-14T18:58:56.943Z"
   },
   {
    "duration": 18,
    "start_time": "2024-09-14T18:58:56.950Z"
   },
   {
    "duration": 11,
    "start_time": "2024-09-14T18:58:56.969Z"
   },
   {
    "duration": 12,
    "start_time": "2024-09-14T18:58:56.982Z"
   },
   {
    "duration": 13,
    "start_time": "2024-09-14T18:58:56.995Z"
   },
   {
    "duration": 48,
    "start_time": "2024-09-14T18:58:57.010Z"
   },
   {
    "duration": 24,
    "start_time": "2024-09-14T18:58:57.060Z"
   },
   {
    "duration": 11,
    "start_time": "2024-09-14T18:58:57.085Z"
   },
   {
    "duration": 599,
    "start_time": "2024-09-14T18:58:57.100Z"
   },
   {
    "duration": 300,
    "start_time": "2024-09-14T18:58:57.701Z"
   },
   {
    "duration": 10,
    "start_time": "2024-09-14T18:58:58.003Z"
   },
   {
    "duration": 3,
    "start_time": "2024-09-14T18:58:58.014Z"
   },
   {
    "duration": 2,
    "start_time": "2024-09-14T18:58:58.019Z"
   },
   {
    "duration": 22,
    "start_time": "2024-09-14T18:58:58.022Z"
   },
   {
    "duration": 2,
    "start_time": "2024-09-14T18:58:58.046Z"
   },
   {
    "duration": 2,
    "start_time": "2024-09-14T18:58:58.050Z"
   },
   {
    "duration": 12,
    "start_time": "2024-09-14T19:00:44.561Z"
   },
   {
    "duration": 9,
    "start_time": "2024-09-14T19:01:25.279Z"
   },
   {
    "duration": 9,
    "start_time": "2024-09-14T19:02:17.746Z"
   },
   {
    "duration": 23,
    "start_time": "2024-09-14T19:05:02.017Z"
   },
   {
    "duration": 34,
    "start_time": "2024-09-14T19:05:50.349Z"
   },
   {
    "duration": 7,
    "start_time": "2024-09-14T19:07:52.242Z"
   },
   {
    "duration": 10,
    "start_time": "2024-09-14T19:10:14.253Z"
   },
   {
    "duration": 144,
    "start_time": "2024-09-14T19:11:22.654Z"
   },
   {
    "duration": 2553,
    "start_time": "2024-09-14T20:53:10.287Z"
   },
   {
    "duration": 235,
    "start_time": "2024-09-14T20:53:12.843Z"
   },
   {
    "duration": 10,
    "start_time": "2024-09-14T20:53:13.079Z"
   },
   {
    "duration": 6,
    "start_time": "2024-09-14T20:53:13.091Z"
   },
   {
    "duration": 8,
    "start_time": "2024-09-14T20:53:13.098Z"
   },
   {
    "duration": 5,
    "start_time": "2024-09-14T20:53:13.108Z"
   },
   {
    "duration": 5,
    "start_time": "2024-09-14T20:53:13.115Z"
   },
   {
    "duration": 8,
    "start_time": "2024-09-14T20:53:13.122Z"
   },
   {
    "duration": 47,
    "start_time": "2024-09-14T20:53:13.133Z"
   },
   {
    "duration": 12,
    "start_time": "2024-09-14T20:53:13.183Z"
   },
   {
    "duration": 28,
    "start_time": "2024-09-14T20:53:13.196Z"
   },
   {
    "duration": 3,
    "start_time": "2024-09-14T20:53:13.226Z"
   },
   {
    "duration": 12,
    "start_time": "2024-09-14T20:53:13.230Z"
   },
   {
    "duration": 36,
    "start_time": "2024-09-14T20:53:13.243Z"
   },
   {
    "duration": 8,
    "start_time": "2024-09-14T20:53:13.281Z"
   },
   {
    "duration": 17,
    "start_time": "2024-09-14T20:53:13.291Z"
   },
   {
    "duration": 14,
    "start_time": "2024-09-14T20:53:13.310Z"
   },
   {
    "duration": 17,
    "start_time": "2024-09-14T20:53:13.325Z"
   },
   {
    "duration": 20,
    "start_time": "2024-09-14T20:53:13.370Z"
   },
   {
    "duration": 4,
    "start_time": "2024-09-14T20:53:13.392Z"
   },
   {
    "duration": 20,
    "start_time": "2024-09-14T20:53:13.398Z"
   },
   {
    "duration": 11,
    "start_time": "2024-09-14T20:53:13.419Z"
   },
   {
    "duration": 42,
    "start_time": "2024-09-14T20:53:13.432Z"
   },
   {
    "duration": 13,
    "start_time": "2024-09-14T20:53:13.475Z"
   },
   {
    "duration": 19,
    "start_time": "2024-09-14T20:53:13.489Z"
   },
   {
    "duration": 22,
    "start_time": "2024-09-14T20:53:13.510Z"
   },
   {
    "duration": 58,
    "start_time": "2024-09-14T20:53:13.533Z"
   },
   {
    "duration": 586,
    "start_time": "2024-09-14T20:53:13.594Z"
   },
   {
    "duration": 303,
    "start_time": "2024-09-14T20:53:14.181Z"
   },
   {
    "duration": 11,
    "start_time": "2024-09-14T20:53:14.486Z"
   },
   {
    "duration": 155,
    "start_time": "2024-09-14T20:53:14.500Z"
   },
   {
    "duration": 3,
    "start_time": "2024-09-14T20:53:14.656Z"
   },
   {
    "duration": 20,
    "start_time": "2024-09-14T20:53:14.661Z"
   },
   {
    "duration": 3,
    "start_time": "2024-09-14T20:53:14.683Z"
   },
   {
    "duration": 4,
    "start_time": "2024-09-14T20:53:14.688Z"
   },
   {
    "duration": 4,
    "start_time": "2024-09-14T20:53:14.695Z"
   },
   {
    "duration": 10,
    "start_time": "2024-09-14T20:53:36.512Z"
   },
   {
    "duration": 589,
    "start_time": "2024-09-14T20:54:22.123Z"
   },
   {
    "duration": 11,
    "start_time": "2024-09-14T20:54:32.010Z"
   },
   {
    "duration": 463,
    "start_time": "2024-09-14T20:59:39.690Z"
   },
   {
    "duration": 373,
    "start_time": "2024-09-14T21:00:03.814Z"
   },
   {
    "duration": 158,
    "start_time": "2024-09-14T21:01:42.796Z"
   },
   {
    "duration": 140,
    "start_time": "2024-09-14T21:02:16.622Z"
   },
   {
    "duration": 11,
    "start_time": "2024-09-14T21:02:42.683Z"
   },
   {
    "duration": 17,
    "start_time": "2024-09-14T21:03:24.978Z"
   },
   {
    "duration": 487,
    "start_time": "2024-09-14T21:06:27.324Z"
   },
   {
    "duration": 159,
    "start_time": "2024-09-14T21:07:43.012Z"
   },
   {
    "duration": 141,
    "start_time": "2024-09-14T21:08:14.952Z"
   },
   {
    "duration": 27,
    "start_time": "2024-09-14T21:09:02.970Z"
   },
   {
    "duration": 253,
    "start_time": "2024-09-14T21:10:33.265Z"
   },
   {
    "duration": 156,
    "start_time": "2024-09-14T21:10:47.420Z"
   },
   {
    "duration": 312,
    "start_time": "2024-09-14T21:11:59.363Z"
   },
   {
    "duration": 14,
    "start_time": "2024-09-14T21:13:28.895Z"
   },
   {
    "duration": 254,
    "start_time": "2024-09-14T21:13:32.773Z"
   },
   {
    "duration": 182,
    "start_time": "2024-09-14T21:14:56.498Z"
   },
   {
    "duration": 162,
    "start_time": "2024-09-14T21:15:02.217Z"
   },
   {
    "duration": 383,
    "start_time": "2024-09-14T21:15:15.426Z"
   },
   {
    "duration": 484,
    "start_time": "2024-09-14T21:16:02.675Z"
   },
   {
    "duration": 302,
    "start_time": "2024-09-14T21:18:13.894Z"
   },
   {
    "duration": 150,
    "start_time": "2024-09-14T21:19:02.462Z"
   },
   {
    "duration": 203,
    "start_time": "2024-09-14T21:19:46.129Z"
   },
   {
    "duration": 13,
    "start_time": "2024-09-14T21:46:25.545Z"
   },
   {
    "duration": 5,
    "start_time": "2024-09-14T21:46:38.041Z"
   },
   {
    "duration": 2502,
    "start_time": "2024-09-15T19:24:24.972Z"
   },
   {
    "duration": 250,
    "start_time": "2024-09-15T19:24:27.476Z"
   },
   {
    "duration": 10,
    "start_time": "2024-09-15T19:24:27.728Z"
   },
   {
    "duration": 6,
    "start_time": "2024-09-15T19:24:27.740Z"
   },
   {
    "duration": 7,
    "start_time": "2024-09-15T19:24:27.748Z"
   },
   {
    "duration": 5,
    "start_time": "2024-09-15T19:24:27.757Z"
   },
   {
    "duration": 7,
    "start_time": "2024-09-15T19:24:27.763Z"
   },
   {
    "duration": 9,
    "start_time": "2024-09-15T19:24:27.771Z"
   },
   {
    "duration": 17,
    "start_time": "2024-09-15T19:24:27.782Z"
   },
   {
    "duration": 44,
    "start_time": "2024-09-15T19:24:27.803Z"
   },
   {
    "duration": 27,
    "start_time": "2024-09-15T19:24:27.849Z"
   },
   {
    "duration": 3,
    "start_time": "2024-09-15T19:24:27.878Z"
   },
   {
    "duration": 10,
    "start_time": "2024-09-15T19:24:27.883Z"
   },
   {
    "duration": 10,
    "start_time": "2024-09-15T19:24:27.895Z"
   },
   {
    "duration": 36,
    "start_time": "2024-09-15T19:24:27.907Z"
   },
   {
    "duration": 17,
    "start_time": "2024-09-15T19:24:27.945Z"
   },
   {
    "duration": 13,
    "start_time": "2024-09-15T19:24:27.963Z"
   },
   {
    "duration": 15,
    "start_time": "2024-09-15T19:24:27.978Z"
   },
   {
    "duration": 19,
    "start_time": "2024-09-15T19:24:27.995Z"
   },
   {
    "duration": 29,
    "start_time": "2024-09-15T19:24:28.015Z"
   },
   {
    "duration": 20,
    "start_time": "2024-09-15T19:24:28.045Z"
   },
   {
    "duration": 11,
    "start_time": "2024-09-15T19:24:28.066Z"
   },
   {
    "duration": 13,
    "start_time": "2024-09-15T19:24:28.078Z"
   },
   {
    "duration": 12,
    "start_time": "2024-09-15T19:24:28.093Z"
   },
   {
    "duration": 50,
    "start_time": "2024-09-15T19:24:28.107Z"
   },
   {
    "duration": 23,
    "start_time": "2024-09-15T19:24:28.159Z"
   },
   {
    "duration": 32,
    "start_time": "2024-09-15T19:24:28.184Z"
   },
   {
    "duration": 611,
    "start_time": "2024-09-15T19:24:28.219Z"
   },
   {
    "duration": 314,
    "start_time": "2024-09-15T19:24:28.832Z"
   },
   {
    "duration": 10,
    "start_time": "2024-09-15T19:24:29.148Z"
   },
   {
    "duration": 156,
    "start_time": "2024-09-15T19:24:29.160Z"
   },
   {
    "duration": 352,
    "start_time": "2024-09-15T19:24:29.318Z"
   },
   {
    "duration": 163,
    "start_time": "2024-09-15T19:24:29.671Z"
   },
   {
    "duration": 198,
    "start_time": "2024-09-15T19:24:29.835Z"
   },
   {
    "duration": 421,
    "start_time": "2024-09-15T19:24:30.035Z"
   },
   {
    "duration": 177,
    "start_time": "2024-09-15T19:24:30.458Z"
   },
   {
    "duration": 150,
    "start_time": "2024-09-15T19:24:30.643Z"
   },
   {
    "duration": 310,
    "start_time": "2024-09-15T19:24:30.795Z"
   },
   {
    "duration": 161,
    "start_time": "2024-09-15T19:24:31.107Z"
   },
   {
    "duration": 212,
    "start_time": "2024-09-15T19:24:31.269Z"
   },
   {
    "duration": 5,
    "start_time": "2024-09-15T19:24:31.482Z"
   },
   {
    "duration": 0,
    "start_time": "2024-09-15T19:24:31.489Z"
   },
   {
    "duration": 4,
    "start_time": "2024-09-15T19:30:20.704Z"
   },
   {
    "duration": 7,
    "start_time": "2024-09-15T19:30:26.296Z"
   },
   {
    "duration": 8,
    "start_time": "2024-09-15T19:30:40.057Z"
   },
   {
    "duration": 4,
    "start_time": "2024-09-15T19:44:51.396Z"
   },
   {
    "duration": 5,
    "start_time": "2024-09-15T19:45:11.222Z"
   },
   {
    "duration": 6,
    "start_time": "2024-09-15T19:45:18.597Z"
   },
   {
    "duration": 5,
    "start_time": "2024-09-15T19:46:00.197Z"
   },
   {
    "duration": 4,
    "start_time": "2024-09-15T19:46:03.826Z"
   },
   {
    "duration": 5,
    "start_time": "2024-09-15T19:46:11.391Z"
   },
   {
    "duration": 5,
    "start_time": "2024-09-15T19:46:22.599Z"
   },
   {
    "duration": 4,
    "start_time": "2024-09-15T19:47:00.544Z"
   },
   {
    "duration": 4,
    "start_time": "2024-09-15T19:47:13.923Z"
   },
   {
    "duration": 7,
    "start_time": "2024-09-15T19:47:30.883Z"
   },
   {
    "duration": 8,
    "start_time": "2024-09-15T19:47:41.191Z"
   },
   {
    "duration": 612,
    "start_time": "2024-09-15T19:54:49.417Z"
   },
   {
    "duration": 12,
    "start_time": "2024-09-15T19:55:08.186Z"
   },
   {
    "duration": 4,
    "start_time": "2024-09-15T19:56:20.833Z"
   },
   {
    "duration": 6,
    "start_time": "2024-09-15T20:08:50.435Z"
   },
   {
    "duration": 28,
    "start_time": "2024-09-15T20:13:42.317Z"
   },
   {
    "duration": 13,
    "start_time": "2024-09-15T20:13:54.418Z"
   },
   {
    "duration": 160,
    "start_time": "2024-09-15T20:18:52.083Z"
   },
   {
    "duration": 19,
    "start_time": "2024-09-15T20:20:33.627Z"
   },
   {
    "duration": 43,
    "start_time": "2024-09-15T20:27:43.269Z"
   },
   {
    "duration": 43,
    "start_time": "2024-09-15T20:28:04.431Z"
   },
   {
    "duration": 16,
    "start_time": "2024-09-15T20:28:28.021Z"
   },
   {
    "duration": 50,
    "start_time": "2024-09-15T20:28:45.016Z"
   },
   {
    "duration": 14,
    "start_time": "2024-09-15T20:28:54.629Z"
   },
   {
    "duration": 28,
    "start_time": "2024-09-15T20:33:52.636Z"
   },
   {
    "duration": 36,
    "start_time": "2024-09-15T20:36:37.264Z"
   },
   {
    "duration": 47,
    "start_time": "2024-09-15T20:47:26.340Z"
   },
   {
    "duration": 9,
    "start_time": "2024-09-15T20:47:46.895Z"
   },
   {
    "duration": 2539,
    "start_time": "2024-09-16T23:20:28.389Z"
   },
   {
    "duration": 234,
    "start_time": "2024-09-16T23:20:30.930Z"
   },
   {
    "duration": 10,
    "start_time": "2024-09-16T23:20:31.166Z"
   },
   {
    "duration": 5,
    "start_time": "2024-09-16T23:20:31.178Z"
   },
   {
    "duration": 8,
    "start_time": "2024-09-16T23:20:31.185Z"
   },
   {
    "duration": 5,
    "start_time": "2024-09-16T23:20:31.195Z"
   },
   {
    "duration": 7,
    "start_time": "2024-09-16T23:20:31.202Z"
   },
   {
    "duration": 9,
    "start_time": "2024-09-16T23:20:31.232Z"
   },
   {
    "duration": 14,
    "start_time": "2024-09-16T23:20:31.244Z"
   },
   {
    "duration": 16,
    "start_time": "2024-09-16T23:20:31.260Z"
   },
   {
    "duration": 25,
    "start_time": "2024-09-16T23:20:31.278Z"
   },
   {
    "duration": 4,
    "start_time": "2024-09-16T23:20:31.332Z"
   },
   {
    "duration": 13,
    "start_time": "2024-09-16T23:20:31.338Z"
   },
   {
    "duration": 12,
    "start_time": "2024-09-16T23:20:31.354Z"
   },
   {
    "duration": 11,
    "start_time": "2024-09-16T23:20:31.368Z"
   },
   {
    "duration": 17,
    "start_time": "2024-09-16T23:20:31.381Z"
   },
   {
    "duration": 15,
    "start_time": "2024-09-16T23:20:31.430Z"
   },
   {
    "duration": 19,
    "start_time": "2024-09-16T23:20:31.446Z"
   },
   {
    "duration": 22,
    "start_time": "2024-09-16T23:20:31.467Z"
   },
   {
    "duration": 4,
    "start_time": "2024-09-16T23:20:31.491Z"
   },
   {
    "duration": 46,
    "start_time": "2024-09-16T23:20:31.497Z"
   },
   {
    "duration": 15,
    "start_time": "2024-09-16T23:20:31.544Z"
   },
   {
    "duration": 12,
    "start_time": "2024-09-16T23:20:31.561Z"
   },
   {
    "duration": 13,
    "start_time": "2024-09-16T23:20:31.575Z"
   },
   {
    "duration": 44,
    "start_time": "2024-09-16T23:20:31.590Z"
   },
   {
    "duration": 26,
    "start_time": "2024-09-16T23:20:31.636Z"
   },
   {
    "duration": 33,
    "start_time": "2024-09-16T23:20:31.663Z"
   },
   {
    "duration": 608,
    "start_time": "2024-09-16T23:20:31.698Z"
   },
   {
    "duration": 307,
    "start_time": "2024-09-16T23:20:32.307Z"
   },
   {
    "duration": 15,
    "start_time": "2024-09-16T23:20:32.616Z"
   },
   {
    "duration": 150,
    "start_time": "2024-09-16T23:20:32.633Z"
   },
   {
    "duration": 347,
    "start_time": "2024-09-16T23:20:32.785Z"
   },
   {
    "duration": 170,
    "start_time": "2024-09-16T23:20:33.135Z"
   },
   {
    "duration": 200,
    "start_time": "2024-09-16T23:20:33.308Z"
   },
   {
    "duration": 427,
    "start_time": "2024-09-16T23:20:33.510Z"
   },
   {
    "duration": 177,
    "start_time": "2024-09-16T23:20:33.939Z"
   },
   {
    "duration": 148,
    "start_time": "2024-09-16T23:20:34.118Z"
   },
   {
    "duration": 315,
    "start_time": "2024-09-16T23:20:34.267Z"
   },
   {
    "duration": 165,
    "start_time": "2024-09-16T23:20:34.584Z"
   },
   {
    "duration": 208,
    "start_time": "2024-09-16T23:20:34.751Z"
   },
   {
    "duration": 8,
    "start_time": "2024-09-16T23:20:34.963Z"
   },
   {
    "duration": 10,
    "start_time": "2024-09-16T23:20:34.972Z"
   },
   {
    "duration": 326,
    "start_time": "2024-09-16T23:35:31.891Z"
   },
   {
    "duration": 354,
    "start_time": "2024-09-16T23:35:54.733Z"
   },
   {
    "duration": 158,
    "start_time": "2024-09-17T00:02:00.161Z"
   },
   {
    "duration": 176,
    "start_time": "2024-09-17T00:02:39.983Z"
   },
   {
    "duration": 179,
    "start_time": "2024-09-17T00:03:05.531Z"
   },
   {
    "duration": 229,
    "start_time": "2024-09-17T00:03:11.541Z"
   },
   {
    "duration": 137,
    "start_time": "2024-09-17T00:19:10.172Z"
   },
   {
    "duration": 367,
    "start_time": "2024-09-17T00:20:15.940Z"
   },
   {
    "duration": 140,
    "start_time": "2024-09-17T00:20:32.831Z"
   },
   {
    "duration": 143,
    "start_time": "2024-09-17T00:21:19.866Z"
   },
   {
    "duration": 143,
    "start_time": "2024-09-17T00:22:44.977Z"
   },
   {
    "duration": 18,
    "start_time": "2024-09-17T02:42:16.995Z"
   },
   {
    "duration": 7,
    "start_time": "2024-09-17T04:23:49.218Z"
   },
   {
    "duration": 158,
    "start_time": "2024-09-17T13:28:13.110Z"
   },
   {
    "duration": 159,
    "start_time": "2024-09-18T01:13:15.639Z"
   },
   {
    "duration": 2474,
    "start_time": "2024-09-18T01:13:22.746Z"
   },
   {
    "duration": 238,
    "start_time": "2024-09-18T01:13:25.222Z"
   },
   {
    "duration": 11,
    "start_time": "2024-09-18T01:13:25.462Z"
   },
   {
    "duration": 6,
    "start_time": "2024-09-18T01:13:25.475Z"
   },
   {
    "duration": 11,
    "start_time": "2024-09-18T01:13:25.482Z"
   },
   {
    "duration": 9,
    "start_time": "2024-09-18T01:13:25.495Z"
   },
   {
    "duration": 6,
    "start_time": "2024-09-18T01:13:25.505Z"
   },
   {
    "duration": 9,
    "start_time": "2024-09-18T01:13:25.512Z"
   },
   {
    "duration": 52,
    "start_time": "2024-09-18T01:13:25.523Z"
   },
   {
    "duration": 15,
    "start_time": "2024-09-18T01:13:25.578Z"
   },
   {
    "duration": 26,
    "start_time": "2024-09-18T01:13:25.594Z"
   },
   {
    "duration": 4,
    "start_time": "2024-09-18T01:13:25.622Z"
   },
   {
    "duration": 9,
    "start_time": "2024-09-18T01:13:25.628Z"
   },
   {
    "duration": 40,
    "start_time": "2024-09-18T01:13:25.638Z"
   },
   {
    "duration": 10,
    "start_time": "2024-09-18T01:13:25.680Z"
   },
   {
    "duration": 16,
    "start_time": "2024-09-18T01:13:25.692Z"
   },
   {
    "duration": 14,
    "start_time": "2024-09-18T01:13:25.710Z"
   },
   {
    "duration": 18,
    "start_time": "2024-09-18T01:13:25.726Z"
   },
   {
    "duration": 20,
    "start_time": "2024-09-18T01:13:25.770Z"
   },
   {
    "duration": 5,
    "start_time": "2024-09-18T01:13:25.792Z"
   },
   {
    "duration": 19,
    "start_time": "2024-09-18T01:13:25.798Z"
   },
   {
    "duration": 11,
    "start_time": "2024-09-18T01:13:25.819Z"
   },
   {
    "duration": 41,
    "start_time": "2024-09-18T01:13:25.832Z"
   },
   {
    "duration": 14,
    "start_time": "2024-09-18T01:13:25.874Z"
   },
   {
    "duration": 18,
    "start_time": "2024-09-18T01:13:25.890Z"
   },
   {
    "duration": 25,
    "start_time": "2024-09-18T01:13:25.910Z"
   },
   {
    "duration": 60,
    "start_time": "2024-09-18T01:13:25.937Z"
   },
   {
    "duration": 620,
    "start_time": "2024-09-18T01:13:26.002Z"
   },
   {
    "duration": 309,
    "start_time": "2024-09-18T01:13:26.624Z"
   },
   {
    "duration": 11,
    "start_time": "2024-09-18T01:13:26.935Z"
   },
   {
    "duration": 175,
    "start_time": "2024-09-18T01:13:26.947Z"
   },
   {
    "duration": 357,
    "start_time": "2024-09-18T01:13:27.124Z"
   },
   {
    "duration": 219,
    "start_time": "2024-09-18T01:13:27.483Z"
   },
   {
    "duration": 148,
    "start_time": "2024-09-18T01:13:27.703Z"
   },
   {
    "duration": 442,
    "start_time": "2024-09-18T01:13:27.852Z"
   },
   {
    "duration": 161,
    "start_time": "2024-09-18T01:13:28.295Z"
   },
   {
    "duration": 150,
    "start_time": "2024-09-18T01:13:28.458Z"
   },
   {
    "duration": 299,
    "start_time": "2024-09-18T01:13:28.610Z"
   },
   {
    "duration": 165,
    "start_time": "2024-09-18T01:13:28.911Z"
   },
   {
    "duration": 211,
    "start_time": "2024-09-18T01:13:29.078Z"
   },
   {
    "duration": 8,
    "start_time": "2024-09-18T01:13:29.291Z"
   },
   {
    "duration": 9,
    "start_time": "2024-09-18T01:13:29.300Z"
   },
   {
    "duration": 11,
    "start_time": "2024-09-18T01:14:25.812Z"
   },
   {
    "duration": 18,
    "start_time": "2024-09-18T01:20:42.734Z"
   },
   {
    "duration": 28,
    "start_time": "2024-09-18T01:38:22.437Z"
   },
   {
    "duration": 6,
    "start_time": "2024-09-18T01:43:13.002Z"
   },
   {
    "duration": 133,
    "start_time": "2024-09-18T01:45:31.805Z"
   },
   {
    "duration": 4,
    "start_time": "2024-09-18T01:45:38.352Z"
   },
   {
    "duration": 170,
    "start_time": "2024-09-18T01:48:30.440Z"
   },
   {
    "duration": 7,
    "start_time": "2024-09-18T01:48:41.451Z"
   },
   {
    "duration": 8,
    "start_time": "2024-09-18T01:48:46.391Z"
   },
   {
    "duration": 27,
    "start_time": "2024-09-18T01:50:52.520Z"
   },
   {
    "duration": 7,
    "start_time": "2024-09-18T02:04:30.436Z"
   },
   {
    "duration": 8,
    "start_time": "2024-09-18T02:05:15.347Z"
   },
   {
    "duration": 7,
    "start_time": "2024-09-18T02:06:55.900Z"
   },
   {
    "duration": 7,
    "start_time": "2024-09-18T02:07:31.228Z"
   },
   {
    "duration": 14,
    "start_time": "2024-09-18T02:10:48.480Z"
   },
   {
    "duration": 26,
    "start_time": "2024-09-18T02:10:59.803Z"
   },
   {
    "duration": 24,
    "start_time": "2024-09-18T02:12:01.587Z"
   },
   {
    "duration": 32,
    "start_time": "2024-09-18T02:12:04.972Z"
   },
   {
    "duration": 808,
    "start_time": "2024-09-18T02:12:20.114Z"
   },
   {
    "duration": 158,
    "start_time": "2024-09-18T02:12:20.925Z"
   },
   {
    "duration": 10,
    "start_time": "2024-09-18T02:12:21.084Z"
   },
   {
    "duration": 6,
    "start_time": "2024-09-18T02:12:21.096Z"
   },
   {
    "duration": 18,
    "start_time": "2024-09-18T02:12:21.104Z"
   },
   {
    "duration": 10,
    "start_time": "2024-09-18T02:12:21.124Z"
   },
   {
    "duration": 6,
    "start_time": "2024-09-18T02:12:21.136Z"
   },
   {
    "duration": 11,
    "start_time": "2024-09-18T02:12:21.169Z"
   },
   {
    "duration": 29,
    "start_time": "2024-09-18T02:12:21.181Z"
   },
   {
    "duration": 11,
    "start_time": "2024-09-18T02:12:21.211Z"
   },
   {
    "duration": 11,
    "start_time": "2024-09-18T02:12:21.224Z"
   },
   {
    "duration": 46,
    "start_time": "2024-09-18T02:12:21.238Z"
   },
   {
    "duration": 3,
    "start_time": "2024-09-18T02:12:21.286Z"
   },
   {
    "duration": 10,
    "start_time": "2024-09-18T02:12:21.293Z"
   },
   {
    "duration": 7,
    "start_time": "2024-09-18T02:12:21.304Z"
   },
   {
    "duration": 11,
    "start_time": "2024-09-18T02:12:21.313Z"
   },
   {
    "duration": 7,
    "start_time": "2024-09-18T02:12:21.326Z"
   },
   {
    "duration": 52,
    "start_time": "2024-09-18T02:12:21.335Z"
   },
   {
    "duration": 5,
    "start_time": "2024-09-18T02:12:21.389Z"
   },
   {
    "duration": 24,
    "start_time": "2024-09-18T02:12:21.396Z"
   },
   {
    "duration": 16,
    "start_time": "2024-09-18T02:12:21.421Z"
   },
   {
    "duration": 556,
    "start_time": "2024-09-18T02:12:21.439Z"
   },
   {
    "duration": 0,
    "start_time": "2024-09-18T02:12:21.997Z"
   },
   {
    "duration": 0,
    "start_time": "2024-09-18T02:12:21.998Z"
   },
   {
    "duration": 0,
    "start_time": "2024-09-18T02:12:21.999Z"
   },
   {
    "duration": 0,
    "start_time": "2024-09-18T02:12:22.000Z"
   },
   {
    "duration": 0,
    "start_time": "2024-09-18T02:12:22.002Z"
   },
   {
    "duration": 0,
    "start_time": "2024-09-18T02:12:22.002Z"
   },
   {
    "duration": 0,
    "start_time": "2024-09-18T02:12:22.003Z"
   },
   {
    "duration": 0,
    "start_time": "2024-09-18T02:12:22.004Z"
   },
   {
    "duration": 0,
    "start_time": "2024-09-18T02:12:22.006Z"
   },
   {
    "duration": 0,
    "start_time": "2024-09-18T02:12:22.007Z"
   },
   {
    "duration": 0,
    "start_time": "2024-09-18T02:12:22.009Z"
   },
   {
    "duration": 0,
    "start_time": "2024-09-18T02:12:22.011Z"
   },
   {
    "duration": 0,
    "start_time": "2024-09-18T02:12:22.012Z"
   },
   {
    "duration": 0,
    "start_time": "2024-09-18T02:12:22.015Z"
   },
   {
    "duration": 0,
    "start_time": "2024-09-18T02:12:22.016Z"
   },
   {
    "duration": 0,
    "start_time": "2024-09-18T02:12:22.018Z"
   },
   {
    "duration": 0,
    "start_time": "2024-09-18T02:12:22.019Z"
   },
   {
    "duration": 0,
    "start_time": "2024-09-18T02:12:22.020Z"
   },
   {
    "duration": 0,
    "start_time": "2024-09-18T02:12:22.021Z"
   },
   {
    "duration": 0,
    "start_time": "2024-09-18T02:12:22.022Z"
   },
   {
    "duration": 0,
    "start_time": "2024-09-18T02:12:22.023Z"
   },
   {
    "duration": 0,
    "start_time": "2024-09-18T02:12:22.025Z"
   },
   {
    "duration": 0,
    "start_time": "2024-09-18T02:12:22.070Z"
   },
   {
    "duration": 0,
    "start_time": "2024-09-18T02:12:22.072Z"
   },
   {
    "duration": 27,
    "start_time": "2024-09-18T02:34:29.765Z"
   },
   {
    "duration": 27,
    "start_time": "2024-09-18T02:35:29.029Z"
   },
   {
    "duration": 21,
    "start_time": "2024-09-18T02:35:32.586Z"
   },
   {
    "duration": 6,
    "start_time": "2024-09-18T02:35:36.217Z"
   },
   {
    "duration": 2533,
    "start_time": "2024-09-18T21:50:28.546Z"
   },
   {
    "duration": 238,
    "start_time": "2024-09-18T21:50:31.081Z"
   },
   {
    "duration": 9,
    "start_time": "2024-09-18T21:50:31.321Z"
   },
   {
    "duration": 6,
    "start_time": "2024-09-18T21:50:31.334Z"
   },
   {
    "duration": 19,
    "start_time": "2024-09-18T21:50:31.341Z"
   },
   {
    "duration": 8,
    "start_time": "2024-09-18T21:50:31.361Z"
   },
   {
    "duration": 6,
    "start_time": "2024-09-18T21:50:31.371Z"
   },
   {
    "duration": 36,
    "start_time": "2024-09-18T21:50:31.379Z"
   },
   {
    "duration": 30,
    "start_time": "2024-09-18T21:50:31.417Z"
   },
   {
    "duration": 13,
    "start_time": "2024-09-18T21:50:31.451Z"
   },
   {
    "duration": 40,
    "start_time": "2024-09-18T21:50:31.466Z"
   },
   {
    "duration": 22,
    "start_time": "2024-09-18T21:50:31.508Z"
   },
   {
    "duration": 4,
    "start_time": "2024-09-18T21:50:31.531Z"
   },
   {
    "duration": 10,
    "start_time": "2024-09-18T21:50:31.536Z"
   },
   {
    "duration": 6,
    "start_time": "2024-09-18T21:50:31.548Z"
   },
   {
    "duration": 12,
    "start_time": "2024-09-18T21:50:31.556Z"
   },
   {
    "duration": 41,
    "start_time": "2024-09-18T21:50:31.570Z"
   },
   {
    "duration": 20,
    "start_time": "2024-09-18T21:50:31.613Z"
   },
   {
    "duration": 5,
    "start_time": "2024-09-18T21:50:31.634Z"
   },
   {
    "duration": 25,
    "start_time": "2024-09-18T21:50:31.641Z"
   },
   {
    "duration": 50,
    "start_time": "2024-09-18T21:50:31.668Z"
   },
   {
    "duration": 22,
    "start_time": "2024-09-18T21:50:31.720Z"
   },
   {
    "duration": 6,
    "start_time": "2024-09-18T21:50:31.744Z"
   },
   {
    "duration": 7,
    "start_time": "2024-09-18T21:50:31.752Z"
   },
   {
    "duration": 14,
    "start_time": "2024-09-18T21:50:31.761Z"
   },
   {
    "duration": 11,
    "start_time": "2024-09-18T21:50:31.806Z"
   },
   {
    "duration": 11,
    "start_time": "2024-09-18T21:50:31.819Z"
   },
   {
    "duration": 8,
    "start_time": "2024-09-18T21:50:31.834Z"
   },
   {
    "duration": 18,
    "start_time": "2024-09-18T21:50:31.844Z"
   },
   {
    "duration": 57,
    "start_time": "2024-09-18T21:50:31.865Z"
   },
   {
    "duration": 36,
    "start_time": "2024-09-18T21:50:31.924Z"
   },
   {
    "duration": 596,
    "start_time": "2024-09-18T21:50:31.962Z"
   },
   {
    "duration": 311,
    "start_time": "2024-09-18T21:50:32.560Z"
   },
   {
    "duration": 8,
    "start_time": "2024-09-18T21:50:32.873Z"
   },
   {
    "duration": 144,
    "start_time": "2024-09-18T21:50:32.882Z"
   },
   {
    "duration": 371,
    "start_time": "2024-09-18T21:50:33.028Z"
   },
   {
    "duration": 213,
    "start_time": "2024-09-18T21:50:33.404Z"
   },
   {
    "duration": 138,
    "start_time": "2024-09-18T21:50:33.619Z"
   },
   {
    "duration": 452,
    "start_time": "2024-09-18T21:50:33.759Z"
   },
   {
    "duration": 160,
    "start_time": "2024-09-18T21:50:34.212Z"
   },
   {
    "duration": 153,
    "start_time": "2024-09-18T21:50:34.374Z"
   },
   {
    "duration": 283,
    "start_time": "2024-09-18T21:50:34.529Z"
   },
   {
    "duration": 165,
    "start_time": "2024-09-18T21:50:34.814Z"
   },
   {
    "duration": 194,
    "start_time": "2024-09-18T21:50:34.982Z"
   },
   {
    "duration": 7,
    "start_time": "2024-09-18T21:50:35.178Z"
   },
   {
    "duration": 21,
    "start_time": "2024-09-18T21:50:35.187Z"
   },
   {
    "duration": 26,
    "start_time": "2024-09-18T21:51:19.257Z"
   },
   {
    "duration": 7,
    "start_time": "2024-09-18T22:14:09.664Z"
   },
   {
    "duration": 303,
    "start_time": "2024-09-18T22:14:28.879Z"
   },
   {
    "duration": 4,
    "start_time": "2024-09-18T22:16:26.536Z"
   },
   {
    "duration": 26,
    "start_time": "2024-09-18T22:16:41.234Z"
   },
   {
    "duration": 125,
    "start_time": "2024-09-18T22:16:49.867Z"
   },
   {
    "duration": 5,
    "start_time": "2024-09-18T22:27:52.368Z"
   },
   {
    "duration": 133,
    "start_time": "2024-09-18T22:27:58.105Z"
   },
   {
    "duration": 10,
    "start_time": "2024-09-18T22:28:08.661Z"
   },
   {
    "duration": 199,
    "start_time": "2024-09-18T22:31:56.320Z"
   },
   {
    "duration": 195,
    "start_time": "2024-09-18T22:32:23.417Z"
   },
   {
    "duration": 11,
    "start_time": "2024-09-18T22:33:08.376Z"
   },
   {
    "duration": 124,
    "start_time": "2024-09-18T22:34:58.147Z"
   },
   {
    "duration": 127,
    "start_time": "2024-09-18T22:43:00.019Z"
   },
   {
    "duration": 198,
    "start_time": "2024-09-18T22:43:56.572Z"
   },
   {
    "duration": 194,
    "start_time": "2024-09-18T22:44:14.919Z"
   },
   {
    "duration": 208,
    "start_time": "2024-09-18T22:47:58.475Z"
   },
   {
    "duration": 196,
    "start_time": "2024-09-18T22:48:08.945Z"
   },
   {
    "duration": 218,
    "start_time": "2024-09-18T22:48:59.043Z"
   },
   {
    "duration": 257,
    "start_time": "2024-09-18T22:50:14.690Z"
   },
   {
    "duration": 246,
    "start_time": "2024-09-18T22:50:35.808Z"
   },
   {
    "duration": 226,
    "start_time": "2024-09-18T22:56:08.687Z"
   },
   {
    "duration": 295,
    "start_time": "2024-09-18T22:59:10.936Z"
   },
   {
    "duration": 293,
    "start_time": "2024-09-18T23:00:26.228Z"
   },
   {
    "duration": 293,
    "start_time": "2024-09-18T23:00:50.661Z"
   },
   {
    "duration": 9,
    "start_time": "2024-09-18T23:17:36.749Z"
   },
   {
    "duration": 217,
    "start_time": "2024-09-18T23:20:41.936Z"
   },
   {
    "duration": 11,
    "start_time": "2024-09-18T23:21:17.766Z"
   },
   {
    "duration": 2652,
    "start_time": "2024-11-02T18:47:56.057Z"
   },
   {
    "duration": 216,
    "start_time": "2024-11-02T18:47:58.711Z"
   },
   {
    "duration": 9,
    "start_time": "2024-11-02T18:47:58.929Z"
   },
   {
    "duration": 7,
    "start_time": "2024-11-02T18:47:58.941Z"
   },
   {
    "duration": 22,
    "start_time": "2024-11-02T18:47:58.950Z"
   },
   {
    "duration": 14,
    "start_time": "2024-11-02T18:47:58.974Z"
   },
   {
    "duration": 40,
    "start_time": "2024-11-02T18:47:58.990Z"
   },
   {
    "duration": 11,
    "start_time": "2024-11-02T18:47:59.033Z"
   },
   {
    "duration": 29,
    "start_time": "2024-11-02T18:47:59.045Z"
   },
   {
    "duration": 16,
    "start_time": "2024-11-02T18:47:59.077Z"
   },
   {
    "duration": 37,
    "start_time": "2024-11-02T18:47:59.095Z"
   },
   {
    "duration": 22,
    "start_time": "2024-11-02T18:47:59.134Z"
   },
   {
    "duration": 4,
    "start_time": "2024-11-02T18:47:59.158Z"
   },
   {
    "duration": 9,
    "start_time": "2024-11-02T18:47:59.164Z"
   },
   {
    "duration": 8,
    "start_time": "2024-11-02T18:47:59.175Z"
   },
   {
    "duration": 15,
    "start_time": "2024-11-02T18:47:59.184Z"
   },
   {
    "duration": 15,
    "start_time": "2024-11-02T18:47:59.232Z"
   },
   {
    "duration": 17,
    "start_time": "2024-11-02T18:47:59.249Z"
   },
   {
    "duration": 6,
    "start_time": "2024-11-02T18:47:59.268Z"
   },
   {
    "duration": 24,
    "start_time": "2024-11-02T18:47:59.277Z"
   },
   {
    "duration": 44,
    "start_time": "2024-11-02T18:47:59.303Z"
   },
   {
    "duration": 20,
    "start_time": "2024-11-02T18:47:59.349Z"
   },
   {
    "duration": 7,
    "start_time": "2024-11-02T18:47:59.371Z"
   },
   {
    "duration": 7,
    "start_time": "2024-11-02T18:47:59.380Z"
   },
   {
    "duration": 42,
    "start_time": "2024-11-02T18:47:59.390Z"
   },
   {
    "duration": 10,
    "start_time": "2024-11-02T18:47:59.434Z"
   },
   {
    "duration": 10,
    "start_time": "2024-11-02T18:47:59.446Z"
   },
   {
    "duration": 8,
    "start_time": "2024-11-02T18:47:59.460Z"
   },
   {
    "duration": 19,
    "start_time": "2024-11-02T18:47:59.470Z"
   },
   {
    "duration": 59,
    "start_time": "2024-11-02T18:47:59.491Z"
   },
   {
    "duration": 29,
    "start_time": "2024-11-02T18:47:59.551Z"
   },
   {
    "duration": 591,
    "start_time": "2024-11-02T18:47:59.582Z"
   },
   {
    "duration": 304,
    "start_time": "2024-11-02T18:48:00.175Z"
   },
   {
    "duration": 130,
    "start_time": "2024-11-02T18:48:00.481Z"
   },
   {
    "duration": 18,
    "start_time": "2024-11-02T18:48:00.614Z"
   },
   {
    "duration": 134,
    "start_time": "2024-11-02T18:48:00.635Z"
   },
   {
    "duration": 375,
    "start_time": "2024-11-02T18:48:00.771Z"
   },
   {
    "duration": 163,
    "start_time": "2024-11-02T18:48:01.148Z"
   },
   {
    "duration": 308,
    "start_time": "2024-11-02T18:48:01.313Z"
   },
   {
    "duration": 445,
    "start_time": "2024-11-02T18:48:01.623Z"
   },
   {
    "duration": 163,
    "start_time": "2024-11-02T18:48:02.070Z"
   },
   {
    "duration": 264,
    "start_time": "2024-11-02T18:48:02.235Z"
   },
   {
    "duration": 237,
    "start_time": "2024-11-02T18:48:02.501Z"
   },
   {
    "duration": 163,
    "start_time": "2024-11-02T18:48:02.740Z"
   },
   {
    "duration": 301,
    "start_time": "2024-11-02T18:48:02.905Z"
   },
   {
    "duration": 9,
    "start_time": "2024-11-02T18:48:03.209Z"
   },
   {
    "duration": 11,
    "start_time": "2024-11-02T18:48:03.233Z"
   }
  ],
  "colab": {
   "provenance": []
  },
  "kernelspec": {
   "display_name": "base",
   "language": "python",
   "name": "python3"
  },
  "language_info": {
   "codemirror_mode": {
    "name": "ipython",
    "version": 3
   },
   "file_extension": ".py",
   "mimetype": "text/x-python",
   "name": "python",
   "nbconvert_exporter": "python",
   "pygments_lexer": "ipython3",
   "version": "3.12.4"
  },
  "toc": {
   "base_numbering": 1,
   "nav_menu": {},
   "number_sections": true,
   "sideBar": true,
   "skip_h1_title": false,
   "title_cell": "Table of Contents",
   "title_sidebar": "Contents",
   "toc_cell": false,
   "toc_position": {},
   "toc_section_display": true,
   "toc_window_display": true
  }
 },
 "nbformat": 4,
 "nbformat_minor": 1
}
